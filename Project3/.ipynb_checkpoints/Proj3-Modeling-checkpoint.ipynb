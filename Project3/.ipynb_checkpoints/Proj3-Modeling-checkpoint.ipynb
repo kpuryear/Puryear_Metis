{
 "cells": [
  {
   "cell_type": "code",
   "execution_count": 1,
   "metadata": {},
   "outputs": [
    {
     "name": "stderr",
     "output_type": "stream",
     "text": [
      "/anaconda3/lib/python3.6/site-packages/sklearn/cross_validation.py:41: DeprecationWarning: This module was deprecated in version 0.18 in favor of the model_selection module into which all the refactored classes and functions are moved. Also note that the interface of the new CV iterators are different from that of this module. This module will be removed in 0.20.\n",
      "  \"This module will be removed in 0.20.\", DeprecationWarning)\n"
     ]
    }
   ],
   "source": [
    "import pandas as pd\n",
    "import numpy as np\n",
    "import matplotlib.pyplot as plt\n",
    "from datetime import datetime\n",
    "import itertools\n",
    "\n",
    "from sklearn.metrics import roc_curve, auc\n",
    "from sklearn import preprocessing\n",
    "from sklearn.cross_validation import train_test_split\n",
    "from sklearn import metrics\n",
    "from sklearn.ensemble import BaggingClassifier\n",
    "from sklearn.utils import resample\n",
    "\n",
    "\n",
    "from sklearn.neighbors import KNeighborsClassifier\n",
    "from sklearn.tree import DecisionTreeClassifier\n",
    "from sklearn.svm import LinearSVC\n",
    "from sklearn.svm import SVC\n",
    "from sklearn.ensemble import RandomForestClassifier\n",
    "from sklearn.linear_model import LogisticRegression\n",
    "from sklearn.naive_bayes import BernoulliNB"
   ]
  },
  {
   "cell_type": "code",
   "execution_count": 2,
   "metadata": {
    "scrolled": false
   },
   "outputs": [
    {
     "name": "stderr",
     "output_type": "stream",
     "text": [
      "/anaconda3/lib/python3.6/site-packages/ipykernel_launcher.py:8: FutureWarning: from_csv is deprecated. Please use read_csv(...) instead. Note that some of the default arguments are different, so please refer to the documentation for from_csv when changing your function calls\n",
      "  \n"
     ]
    }
   ],
   "source": [
    "df = pd.DataFrame.from_csv('/Users/kaitlin/ds/metis/metisgh/Puryear_Metis/Project3/noshowclean_n.csv', \n",
    "                      header=0, \n",
    "                      sep=',', \n",
    "                      index_col=0, \n",
    "                      parse_dates=True, \n",
    "                      encoding=None, \n",
    "                      tupleize_cols=None, \n",
    "                      infer_datetime_format=False)"
   ]
  },
  {
   "cell_type": "markdown",
   "metadata": {},
   "source": [
    "# 0.0 Initialize the Data"
   ]
  },
  {
   "cell_type": "code",
   "execution_count": 3,
   "metadata": {},
   "outputs": [
    {
     "data": {
      "text/html": [
       "<div>\n",
       "<style scoped>\n",
       "    .dataframe tbody tr th:only-of-type {\n",
       "        vertical-align: middle;\n",
       "    }\n",
       "\n",
       "    .dataframe tbody tr th {\n",
       "        vertical-align: top;\n",
       "    }\n",
       "\n",
       "    .dataframe thead th {\n",
       "        text-align: right;\n",
       "    }\n",
       "</style>\n",
       "<table border=\"1\" class=\"dataframe\">\n",
       "  <thead>\n",
       "    <tr style=\"text-align: right;\">\n",
       "      <th></th>\n",
       "      <th>Age</th>\n",
       "      <th>Scholarship</th>\n",
       "      <th>Hypertension</th>\n",
       "      <th>Diabetes</th>\n",
       "      <th>Alcoholism</th>\n",
       "      <th>Handicap</th>\n",
       "      <th>Text_Sent</th>\n",
       "      <th>Showed_up</th>\n",
       "      <th>woman</th>\n",
       "      <th>delta</th>\n",
       "    </tr>\n",
       "  </thead>\n",
       "  <tbody>\n",
       "    <tr>\n",
       "      <th>0</th>\n",
       "      <td>62</td>\n",
       "      <td>False</td>\n",
       "      <td>True</td>\n",
       "      <td>False</td>\n",
       "      <td>False</td>\n",
       "      <td>False</td>\n",
       "      <td>False</td>\n",
       "      <td>True</td>\n",
       "      <td>True</td>\n",
       "      <td>0</td>\n",
       "    </tr>\n",
       "    <tr>\n",
       "      <th>1</th>\n",
       "      <td>56</td>\n",
       "      <td>False</td>\n",
       "      <td>False</td>\n",
       "      <td>False</td>\n",
       "      <td>False</td>\n",
       "      <td>False</td>\n",
       "      <td>False</td>\n",
       "      <td>True</td>\n",
       "      <td>False</td>\n",
       "      <td>0</td>\n",
       "    </tr>\n",
       "    <tr>\n",
       "      <th>2</th>\n",
       "      <td>62</td>\n",
       "      <td>False</td>\n",
       "      <td>False</td>\n",
       "      <td>False</td>\n",
       "      <td>False</td>\n",
       "      <td>False</td>\n",
       "      <td>False</td>\n",
       "      <td>True</td>\n",
       "      <td>True</td>\n",
       "      <td>0</td>\n",
       "    </tr>\n",
       "    <tr>\n",
       "      <th>3</th>\n",
       "      <td>8</td>\n",
       "      <td>False</td>\n",
       "      <td>False</td>\n",
       "      <td>False</td>\n",
       "      <td>False</td>\n",
       "      <td>False</td>\n",
       "      <td>False</td>\n",
       "      <td>True</td>\n",
       "      <td>True</td>\n",
       "      <td>0</td>\n",
       "    </tr>\n",
       "    <tr>\n",
       "      <th>4</th>\n",
       "      <td>56</td>\n",
       "      <td>False</td>\n",
       "      <td>True</td>\n",
       "      <td>True</td>\n",
       "      <td>False</td>\n",
       "      <td>False</td>\n",
       "      <td>False</td>\n",
       "      <td>True</td>\n",
       "      <td>True</td>\n",
       "      <td>0</td>\n",
       "    </tr>\n",
       "  </tbody>\n",
       "</table>\n",
       "</div>"
      ],
      "text/plain": [
       "   Age  Scholarship  Hypertension  Diabetes  Alcoholism  Handicap  Text_Sent  \\\n",
       "0   62        False          True     False       False     False      False   \n",
       "1   56        False         False     False       False     False      False   \n",
       "2   62        False         False     False       False     False      False   \n",
       "3    8        False         False     False       False     False      False   \n",
       "4   56        False          True      True       False     False      False   \n",
       "\n",
       "   Showed_up  woman  delta  \n",
       "0       True   True      0  \n",
       "1       True  False      0  \n",
       "2       True   True      0  \n",
       "3       True   True      0  \n",
       "4       True   True      0  "
      ]
     },
     "execution_count": 3,
     "metadata": {},
     "output_type": "execute_result"
    }
   ],
   "source": [
    "df.head()"
   ]
  },
  {
   "cell_type": "code",
   "execution_count": 4,
   "metadata": {},
   "outputs": [
    {
     "name": "stderr",
     "output_type": "stream",
     "text": [
      "/anaconda3/lib/python3.6/site-packages/pandas/core/computation/expressions.py:179: UserWarning: evaluating in Python space because the '+' operator is not supported by numexpr for the bool dtype, use '|' instead\n",
      "  .format(op=op_str, alt_op=unsupported[op_str]))\n"
     ]
    }
   ],
   "source": [
    "# add more features\n",
    "# (T/F) patient showing up for more than one problem\n",
    "\n",
    "df['2+problems'] = (df['Hypertension']+df['Diabetes']+df['Alcoholism']+df['Handicap']>2)"
   ]
  },
  {
   "cell_type": "code",
   "execution_count": 5,
   "metadata": {},
   "outputs": [
    {
     "data": {
      "text/html": [
       "<div>\n",
       "<style scoped>\n",
       "    .dataframe tbody tr th:only-of-type {\n",
       "        vertical-align: middle;\n",
       "    }\n",
       "\n",
       "    .dataframe tbody tr th {\n",
       "        vertical-align: top;\n",
       "    }\n",
       "\n",
       "    .dataframe thead th {\n",
       "        text-align: right;\n",
       "    }\n",
       "</style>\n",
       "<table border=\"1\" class=\"dataframe\">\n",
       "  <thead>\n",
       "    <tr style=\"text-align: right;\">\n",
       "      <th></th>\n",
       "      <th>Age</th>\n",
       "      <th>Scholarship</th>\n",
       "      <th>Hypertension</th>\n",
       "      <th>Diabetes</th>\n",
       "      <th>Alcoholism</th>\n",
       "      <th>Handicap</th>\n",
       "      <th>Text_Sent</th>\n",
       "      <th>Showed_up</th>\n",
       "      <th>woman</th>\n",
       "      <th>delta</th>\n",
       "      <th>2+problems</th>\n",
       "    </tr>\n",
       "  </thead>\n",
       "  <tbody>\n",
       "    <tr>\n",
       "      <th>0</th>\n",
       "      <td>62</td>\n",
       "      <td>False</td>\n",
       "      <td>True</td>\n",
       "      <td>False</td>\n",
       "      <td>False</td>\n",
       "      <td>False</td>\n",
       "      <td>False</td>\n",
       "      <td>True</td>\n",
       "      <td>True</td>\n",
       "      <td>0</td>\n",
       "      <td>False</td>\n",
       "    </tr>\n",
       "    <tr>\n",
       "      <th>1</th>\n",
       "      <td>56</td>\n",
       "      <td>False</td>\n",
       "      <td>False</td>\n",
       "      <td>False</td>\n",
       "      <td>False</td>\n",
       "      <td>False</td>\n",
       "      <td>False</td>\n",
       "      <td>True</td>\n",
       "      <td>False</td>\n",
       "      <td>0</td>\n",
       "      <td>False</td>\n",
       "    </tr>\n",
       "    <tr>\n",
       "      <th>2</th>\n",
       "      <td>62</td>\n",
       "      <td>False</td>\n",
       "      <td>False</td>\n",
       "      <td>False</td>\n",
       "      <td>False</td>\n",
       "      <td>False</td>\n",
       "      <td>False</td>\n",
       "      <td>True</td>\n",
       "      <td>True</td>\n",
       "      <td>0</td>\n",
       "      <td>False</td>\n",
       "    </tr>\n",
       "    <tr>\n",
       "      <th>3</th>\n",
       "      <td>8</td>\n",
       "      <td>False</td>\n",
       "      <td>False</td>\n",
       "      <td>False</td>\n",
       "      <td>False</td>\n",
       "      <td>False</td>\n",
       "      <td>False</td>\n",
       "      <td>True</td>\n",
       "      <td>True</td>\n",
       "      <td>0</td>\n",
       "      <td>False</td>\n",
       "    </tr>\n",
       "    <tr>\n",
       "      <th>4</th>\n",
       "      <td>56</td>\n",
       "      <td>False</td>\n",
       "      <td>True</td>\n",
       "      <td>True</td>\n",
       "      <td>False</td>\n",
       "      <td>False</td>\n",
       "      <td>False</td>\n",
       "      <td>True</td>\n",
       "      <td>True</td>\n",
       "      <td>0</td>\n",
       "      <td>False</td>\n",
       "    </tr>\n",
       "  </tbody>\n",
       "</table>\n",
       "</div>"
      ],
      "text/plain": [
       "   Age  Scholarship  Hypertension  Diabetes  Alcoholism  Handicap  Text_Sent  \\\n",
       "0   62        False          True     False       False     False      False   \n",
       "1   56        False         False     False       False     False      False   \n",
       "2   62        False         False     False       False     False      False   \n",
       "3    8        False         False     False       False     False      False   \n",
       "4   56        False          True      True       False     False      False   \n",
       "\n",
       "   Showed_up  woman  delta  2+problems  \n",
       "0       True   True      0       False  \n",
       "1       True  False      0       False  \n",
       "2       True   True      0       False  \n",
       "3       True   True      0       False  \n",
       "4       True   True      0       False  "
      ]
     },
     "execution_count": 5,
     "metadata": {},
     "output_type": "execute_result"
    }
   ],
   "source": [
    "df.head()"
   ]
  },
  {
   "cell_type": "code",
   "execution_count": 6,
   "metadata": {},
   "outputs": [],
   "source": [
    "# define response vector\n",
    "\n",
    "y0 = df[\"Showed_up\"]"
   ]
  },
  {
   "cell_type": "code",
   "execution_count": 7,
   "metadata": {},
   "outputs": [],
   "source": [
    "# define feature matrix\n",
    "\n",
    "X0 = df.drop(['Showed_up'], axis=1)"
   ]
  },
  {
   "cell_type": "code",
   "execution_count": 8,
   "metadata": {
    "scrolled": true
   },
   "outputs": [
    {
     "data": {
      "image/png": "[encoded data removed]",
      "text/plain": [
       "<matplotlib.figure.Figure at 0x1a148e09b0>"
      ]
     },
     "metadata": {},
     "output_type": "display_data"
    }
   ],
   "source": [
    "# Visual representation of unbalanced classes. ~4:1 ratio of true:false\n",
    "\n",
    "plt.hist(y0);"
   ]
  },
  {
   "cell_type": "markdown",
   "metadata": {},
   "source": [
    "# 1.0 Stratified Train Test Split"
   ]
  },
  {
   "cell_type": "code",
   "execution_count": 9,
   "metadata": {},
   "outputs": [],
   "source": [
    "# create a stratified train/test split\n",
    "# Note: classes are still imbalanced\n",
    "\n",
    "x0train, x0test, y0train, y0test = train_test_split(X0, y0, test_size=0.4, random_state=40, stratify=y0)"
   ]
  },
  {
   "cell_type": "code",
   "execution_count": 10,
   "metadata": {},
   "outputs": [
    {
     "data": {
      "text/plain": [
       "True     52925\n",
       "False    13391\n",
       "Name: Showed_up, dtype: int64"
      ]
     },
     "execution_count": 10,
     "metadata": {},
     "output_type": "execute_result"
    }
   ],
   "source": [
    "# training set response imbalance\n",
    "\n",
    "y0train.value_counts()"
   ]
  },
  {
   "cell_type": "markdown",
   "metadata": {},
   "source": [
    "## 1.1 Training Data: Upsampling the Minority"
   ]
  },
  {
   "cell_type": "code",
   "execution_count": 11,
   "metadata": {},
   "outputs": [
    {
     "data": {
      "text/plain": [
       "False    52925\n",
       "True     13391\n",
       "Name: Showed_up, dtype: int64"
      ]
     },
     "execution_count": 11,
     "metadata": {},
     "output_type": "execute_result"
    }
   ],
   "source": [
    "# training set response imbalance\n",
    "\n",
    "train_minority = (y0train==False)\n",
    "train_minority.value_counts()"
   ]
  },
  {
   "cell_type": "code",
   "execution_count": 12,
   "metadata": {},
   "outputs": [
    {
     "name": "stderr",
     "output_type": "stream",
     "text": [
      "/anaconda3/lib/python3.6/site-packages/ipykernel_launcher.py:3: SettingWithCopyWarning: \n",
      "A value is trying to be set on a copy of a slice from a DataFrame.\n",
      "Try using .loc[row_indexer,col_indexer] = value instead\n",
      "\n",
      "See the caveats in the documentation: http://pandas.pydata.org/pandas-docs/stable/indexing.html#indexing-view-versus-copy\n",
      "  This is separate from the ipykernel package so we can avoid doing imports until\n"
     ]
    }
   ],
   "source": [
    "# combine x and y into one dataset to prepare for upsampling\n",
    "\n",
    "x0train[\"Showed_up\"]=y0train"
   ]
  },
  {
   "cell_type": "code",
   "execution_count": 13,
   "metadata": {},
   "outputs": [
    {
     "data": {
      "text/plain": [
       "True     52925\n",
       "False    52925\n",
       "Name: Showed_up, dtype: int64"
      ]
     },
     "execution_count": 13,
     "metadata": {},
     "output_type": "execute_result"
    }
   ],
   "source": [
    "# Separate majority (True) and minority (False) classes\n",
    "\n",
    "train_majority = x0train[x0train.Showed_up==True]\n",
    "train_minority = x0train[x0train.Showed_up==False]\n",
    " \n",
    "# upsample minority class\n",
    "train_minority_upsampled = resample(train_minority, \n",
    "                                 replace=True,        # sample without replacement\n",
    "                                 n_samples=52925,     # to match majority class\n",
    "                                 random_state=123)    # reproducible results\n",
    " \n",
    "# Combine majority class with upsampled minority class\n",
    "y_train_upsampled = pd.concat([train_minority_upsampled, train_majority])\n",
    " \n",
    "# Display new class counts\n",
    "y_train_upsampled.Showed_up.value_counts()"
   ]
  },
  {
   "cell_type": "code",
   "execution_count": 14,
   "metadata": {},
   "outputs": [],
   "source": [
    "# reassign x and y (New and improved after upsampling!)\n",
    "\n",
    "y1train = y_train_upsampled[\"Showed_up\"]\n",
    "x1train = y_train_upsampled.drop(['Showed_up'], axis=1)"
   ]
  },
  {
   "cell_type": "code",
   "execution_count": 15,
   "metadata": {},
   "outputs": [
    {
     "data": {
      "text/plain": [
       "True     52925\n",
       "False    52925\n",
       "Name: Showed_up, dtype: int64"
      ]
     },
     "execution_count": 15,
     "metadata": {},
     "output_type": "execute_result"
    }
   ],
   "source": [
    "# Confirm that all looks good and True/False are equal\n",
    "\n",
    "y1train.value_counts()"
   ]
  },
  {
   "cell_type": "markdown",
   "metadata": {},
   "source": [
    "## 1.2 Testing Data: Upsampling the Minority"
   ]
  },
  {
   "cell_type": "code",
   "execution_count": 16,
   "metadata": {},
   "outputs": [
    {
     "data": {
      "text/plain": [
       "True     35283\n",
       "False     8928\n",
       "Name: Showed_up, dtype: int64"
      ]
     },
     "execution_count": 16,
     "metadata": {},
     "output_type": "execute_result"
    }
   ],
   "source": [
    "# test set response imbalance\n",
    "\n",
    "y0test.value_counts()"
   ]
  },
  {
   "cell_type": "code",
   "execution_count": 17,
   "metadata": {},
   "outputs": [
    {
     "name": "stderr",
     "output_type": "stream",
     "text": [
      "/anaconda3/lib/python3.6/site-packages/ipykernel_launcher.py:3: SettingWithCopyWarning: \n",
      "A value is trying to be set on a copy of a slice from a DataFrame.\n",
      "Try using .loc[row_indexer,col_indexer] = value instead\n",
      "\n",
      "See the caveats in the documentation: http://pandas.pydata.org/pandas-docs/stable/indexing.html#indexing-view-versus-copy\n",
      "  This is separate from the ipykernel package so we can avoid doing imports until\n"
     ]
    }
   ],
   "source": [
    "# combine y and x into one dataframe to prepare for upsampling\n",
    "\n",
    "x0test[\"Showed_up\"]=y0test"
   ]
  },
  {
   "cell_type": "code",
   "execution_count": 18,
   "metadata": {},
   "outputs": [
    {
     "data": {
      "text/plain": [
       "True     35283\n",
       "False    35283\n",
       "Name: Showed_up, dtype: int64"
      ]
     },
     "execution_count": 18,
     "metadata": {},
     "output_type": "execute_result"
    }
   ],
   "source": [
    "# Separate majority (True) and minority (False) classes\n",
    "\n",
    "test_majority = x0test[x0test.Showed_up==True]\n",
    "test_minority = x0test[x0test.Showed_up==False]\n",
    " \n",
    "# Upsample minority class\n",
    "test_minority_upsampled = resample(train_minority, \n",
    "                                 replace=True,        # sample without replacement\n",
    "                                 n_samples=35283,     # to match majority class\n",
    "                                 random_state=123)    # reproducible results\n",
    " \n",
    "# Combine minority class with downsampled majority class\n",
    "y_test_upsampled = pd.concat([test_minority_upsampled, test_majority])\n",
    " \n",
    "# Display new class counts\n",
    "y_test_upsampled.Showed_up.value_counts()"
   ]
  },
  {
   "cell_type": "code",
   "execution_count": 19,
   "metadata": {},
   "outputs": [],
   "source": [
    "# reassign xtest and ytest (New and improved balanced data!)\n",
    "\n",
    "y1test = y_train_upsampled[\"Showed_up\"]\n",
    "x1test = y_train_upsampled.drop(['Showed_up'], axis=1)"
   ]
  },
  {
   "cell_type": "code",
   "execution_count": 20,
   "metadata": {},
   "outputs": [
    {
     "data": {
      "text/plain": [
       "True     52925\n",
       "False    52925\n",
       "Name: Showed_up, dtype: int64"
      ]
     },
     "execution_count": 20,
     "metadata": {},
     "output_type": "execute_result"
    }
   ],
   "source": [
    "# Make sure True/False is equal\n",
    "\n",
    "y1test.value_counts()"
   ]
  },
  {
   "cell_type": "markdown",
   "metadata": {},
   "source": [
    "# 2.0 Define Functions and Other Useful Tools"
   ]
  },
  {
   "cell_type": "markdown",
   "metadata": {},
   "source": [
    "## 2.1 Normalize the dataframe because you will need that for knn"
   ]
  },
  {
   "cell_type": "code",
   "execution_count": 21,
   "metadata": {},
   "outputs": [],
   "source": [
    "# Normalize only x\n",
    "\n",
    "normalizer = preprocessing.Normalizer()\n",
    "x1test_norm = normalizer.fit_transform(x1test)\n",
    "x1train_norm = normalizer.fit_transform(x1train)"
   ]
  },
  {
   "cell_type": "markdown",
   "metadata": {},
   "source": [
    "## 2.2 Define a Function that will draw Confusion Matrices"
   ]
  },
  {
   "cell_type": "code",
   "execution_count": 22,
   "metadata": {},
   "outputs": [],
   "source": [
    "# define a function to draw beautiful confusion matrix!\n",
    "\n",
    "def plot_confusion_matrix(cm, classes,\n",
    "                         normalize=False,\n",
    "                         title='Confusion matrix',\n",
    "                         cmap=plt.cm.Blues):\n",
    "\n",
    "#     if normalize:\n",
    "#         cm = cm.astype('float') / cm.sum(axis=1)[:, np.newaxis]\n",
    "#         print(\"Normalized confusion matrix\")\n",
    "#     else:\n",
    "#         print('Confusion matrix, without normalization')\n",
    "\n",
    "    print(cm)\n",
    "\n",
    "    plt.imshow(cm, interpolation='nearest', cmap=cmap)\n",
    "    plt.title(title)\n",
    "    plt.colorbar()\n",
    "    tick_marks = np.arange(len(classes))\n",
    "    plt.xticks(tick_marks, classes, rotation=45)\n",
    "    plt.yticks(tick_marks, classes)\n",
    "\n",
    "    fmt = '.2f' if normalize else 'd'\n",
    "    thresh = cm.max() / 2.\n",
    "    for i, j in itertools.product(range(cm.shape[0]), range(cm.shape[1])):\n",
    "        plt.text(j, i, format(cm[i, j], fmt),\n",
    "             horizontalalignment=\"center\",\n",
    "             color=\"white\" if cm[i, j] > thresh else \"black\")\n"
   ]
  },
  {
   "cell_type": "markdown",
   "metadata": {},
   "source": [
    "# 3.0 Fitting Different Models"
   ]
  },
  {
   "cell_type": "markdown",
   "metadata": {},
   "source": [
    "## 3.1 K-Nearest Neighbors"
   ]
  },
  {
   "cell_type": "code",
   "execution_count": 23,
   "metadata": {},
   "outputs": [
    {
     "data": {
      "text/plain": [
       "'\\nf1_knn = {}\\nfor i in range(50):\\n    knn = KNeighborsClassifier(n_neighbors=(i+1))\\n    knn.fit(x1train, y1train)\\n    y_pred = knn.predict(x1test)\\n    f1_knn[i+1] = metrics.f1_score(y_pred, y1test)\\n    '"
      ]
     },
     "execution_count": 23,
     "metadata": {},
     "output_type": "execute_result"
    }
   ],
   "source": [
    "# Gotta find the best k value. Iterate through a list and find the largest f1 score\n",
    "'''\n",
    "f1_knn = {}\n",
    "for i in range(50):\n",
    "    knn = KNeighborsClassifier(n_neighbors=(i+1))\n",
    "    knn.fit(x1train, y1train)\n",
    "    y_pred = knn.predict(x1test)\n",
    "    f1_knn[i+1] = metrics.f1_score(y_pred, y1test)\n",
    "    '''\n",
    "# looks like k=30 is a good k value"
   ]
  },
  {
   "cell_type": "code",
   "execution_count": 24,
   "metadata": {},
   "outputs": [],
   "source": [
    "# fit the model to the test set, using k=30\n",
    "\n",
    "knn = KNeighborsClassifier(n_neighbors=30)\n",
    "knn.fit(x1train_norm, y1train)\n",
    "y_pred = knn.predict(x1test_norm)"
   ]
  },
  {
   "cell_type": "code",
   "execution_count": 25,
   "metadata": {},
   "outputs": [
    {
     "name": "stdout",
     "output_type": "stream",
     "text": [
      "Model accuracy: 70.36%\n",
      "Model F1 Score: 0.66\n",
      "             precision    recall  f1-score   support\n",
      "\n",
      "      False       0.66      0.83      0.74     52925\n",
      "       True       0.77      0.58      0.66     52925\n",
      "\n",
      "avg / total       0.72      0.70      0.70    105850\n",
      "\n"
     ]
    }
   ],
   "source": [
    "# print a nice little scorecard for this model\n",
    "\n",
    "print(\"Model accuracy: {:.2f}%\".format(knn.score(x1train, y1train)*100))\n",
    "print(\"Model F1 Score: {:.2f}\".format(metrics.f1_score(y_pred, y1test)))\n",
    "print(metrics.classification_report(y1test, knn.predict(x1test_norm)))"
   ]
  },
  {
   "cell_type": "code",
   "execution_count": 26,
   "metadata": {},
   "outputs": [
    {
     "name": "stdout",
     "output_type": "stream",
     "text": [
      "AREA UNDER CURVE: 0.774129386131\n"
     ]
    },
    {
     "data": {
      "image/png": "[encoded data removed]",
      "text/plain": [
       "<matplotlib.figure.Figure at 0x1a14197908>"
      ]
     },
     "metadata": {},
     "output_type": "display_data"
    }
   ],
   "source": [
    "# Plot ROC Curve and print AUC\n",
    "\n",
    "y_score=knn.predict_proba(x1test_norm)[:,1]\n",
    "\n",
    "fpr, tpr,_ = roc_curve(y1test, y_score)\n",
    "roc_auc = auc(fpr, tpr)\n",
    "\n",
    "plt.figure()\n",
    "plt.plot([0,1],[0,1]) # Plotting our Baseline\n",
    "plt.plot(fpr,tpr)\n",
    "plt.xlabel('FPR')\n",
    "plt.ylabel('TPR')\n",
    "print(\"AREA UNDER CURVE: \"+str(roc_auc));"
   ]
  },
  {
   "cell_type": "code",
   "execution_count": 27,
   "metadata": {},
   "outputs": [
    {
     "name": "stdout",
     "output_type": "stream",
     "text": [
      "Model accuracy: 70.36%\n",
      "[[43755  9170]\n",
      " [22206 30719]]\n"
     ]
    },
    {
     "data": {
      "image/png": "[encoded data removed]",
      "text/plain": [
       "<matplotlib.figure.Figure at 0x1a140dc940>"
      ]
     },
     "metadata": {},
     "output_type": "display_data"
    }
   ],
   "source": [
    "# Print a lovely confusion matrix\n",
    "\n",
    "plt.tight_layout()\n",
    "plt.ylabel('True label')\n",
    "plt.xlabel('Predicted label')\n",
    "\n",
    "print(\"Model accuracy: {:.2f}%\".format(knn.score(x1train, y1train)*100))\n",
    "plot_confusion_matrix(metrics.confusion_matrix(y1test,y_pred), ['absent', 'present'])"
   ]
  },
  {
   "cell_type": "markdown",
   "metadata": {},
   "source": [
    "## 3.2 Logistic Regression\n",
    "\n"
   ]
  },
  {
   "cell_type": "code",
   "execution_count": 28,
   "metadata": {},
   "outputs": [],
   "source": [
    "# fit a logistic regression model, print the f1 score\n",
    "\n",
    "logistic = LogisticRegression(penalty='l2', \n",
    "                              dual=True, \n",
    "                              tol=0.0001, \n",
    "                              C=200.0, \n",
    "                              fit_intercept=True, \n",
    "                              intercept_scaling=1, \n",
    "                              class_weight='balanced', \n",
    "                              random_state=135, \n",
    "                              solver='liblinear', \n",
    "                              max_iter=100, \n",
    "                              multi_class='ovr', \n",
    "                              verbose=0, warm_start=False, n_jobs=1)\n",
    "logistic.fit(x1train,y1train)\n",
    "y_pred = logistic.predict(x1test)"
   ]
  },
  {
   "cell_type": "code",
   "execution_count": 29,
   "metadata": {},
   "outputs": [
    {
     "name": "stdout",
     "output_type": "stream",
     "text": [
      "Model accuracy: 53.11%\n",
      "Model F1 Score: 0.16\n",
      "             precision    recall  f1-score   support\n",
      "\n",
      "      False       0.00      0.00      0.00     52925\n",
      "       True       0.50      1.00      0.67     52925\n",
      "\n",
      "avg / total       0.25      0.50      0.33    105850\n",
      "\n"
     ]
    }
   ],
   "source": [
    "# Print a nice little score card for this model\n",
    "\n",
    "print(\"Model accuracy: {:.2f}%\".format(logistic.score(x1train, y1train)*100))\n",
    "print(\"Model F1 Score: {:.2f}\".format(metrics.f1_score(y_pred, y1test)))\n",
    "print(metrics.classification_report(y1test, logistic.predict(x1test_norm)))"
   ]
  },
  {
   "cell_type": "code",
   "execution_count": 30,
   "metadata": {},
   "outputs": [
    {
     "name": "stdout",
     "output_type": "stream",
     "text": [
      "AREA UNDER CURVE: 0.623370622995\n"
     ]
    },
    {
     "data": {
      "image/png": "[encoded data removed]",
      "text/plain": [
       "<matplotlib.figure.Figure at 0x1a140dcb70>"
      ]
     },
     "metadata": {},
     "output_type": "display_data"
    }
   ],
   "source": [
    "# Plot ROC Curve and print AUC\n",
    "\n",
    "y_score=logistic.predict_proba(x1test)[:,1]\n",
    "\n",
    "fpr, tpr,_ = roc_curve(y1test, y_score)\n",
    "roc_auc = auc(fpr, tpr)\n",
    "\n",
    "plt.figure()\n",
    "# Plotting our Baseline..\n",
    "plt.plot([0,1],[0,1])\n",
    "plt.plot(fpr,tpr)\n",
    "plt.xlabel('FPR')\n",
    "plt.ylabel('TPR')\n",
    "print(\"AREA UNDER CURVE: \"+str(roc_auc));"
   ]
  },
  {
   "cell_type": "code",
   "execution_count": 31,
   "metadata": {},
   "outputs": [
    {
     "name": "stdout",
     "output_type": "stream",
     "text": [
      "[[51550  1375]\n",
      " [48262  4663]]\n"
     ]
    },
    {
     "data": {
      "image/png": "[encoded data removed]",
      "text/plain": [
       "<matplotlib.figure.Figure at 0x1a13669a90>"
      ]
     },
     "metadata": {},
     "output_type": "display_data"
    }
   ],
   "source": [
    "# Print a lovely confusion matrix\n",
    "\n",
    "plt.tight_layout()\n",
    "plt.ylabel('True label')\n",
    "plt.xlabel('Predicted label')\n",
    "\n",
    "plot_confusion_matrix(metrics.confusion_matrix(y1test,y_pred), ['absent', 'present'])"
   ]
  },
  {
   "cell_type": "markdown",
   "metadata": {},
   "source": [
    "## 3.3 Naive Bayes (Bernoulli)"
   ]
  },
  {
   "cell_type": "code",
   "execution_count": 32,
   "metadata": {},
   "outputs": [],
   "source": [
    "# Fit a Naive Bayes (Bernoulli version) model and print the f1 score\n",
    "\n",
    "bernoulli = BernoulliNB(alpha=1.0, binarize=0.0, fit_prior=True, class_prior=None)\n",
    "bernoulli.fit(x1train, y1train)\n",
    "y_pred = bernoulli.predict(x1test)"
   ]
  },
  {
   "cell_type": "code",
   "execution_count": 33,
   "metadata": {},
   "outputs": [
    {
     "name": "stdout",
     "output_type": "stream",
     "text": [
      "Model accuracy: 66.67%\n",
      "Model F1 Score: 0.57\n",
      "             precision    recall  f1-score   support\n",
      "\n",
      "      False       0.61      0.89      0.73     52925\n",
      "       True       0.80      0.44      0.57     52925\n",
      "\n",
      "avg / total       0.71      0.67      0.65    105850\n",
      "\n"
     ]
    }
   ],
   "source": [
    "# Print a nice little score card for this model\n",
    "\n",
    "print(\"Model accuracy: {:.2f}%\".format(bernoulli.score(x1train, y1train)*100))\n",
    "print(\"Model F1 Score: {:.2f}\".format(metrics.f1_score(y_pred, y1test)))\n",
    "print(metrics.classification_report(y1test, bernoulli.predict(x1test_norm)))"
   ]
  },
  {
   "cell_type": "code",
   "execution_count": 34,
   "metadata": {
    "scrolled": true
   },
   "outputs": [
    {
     "name": "stdout",
     "output_type": "stream",
     "text": [
      "AREA UNDER CURVE: 0.672537955936\n"
     ]
    },
    {
     "data": {
      "image/png": "[encoded data removed]",
      "text/plain": [
       "<matplotlib.figure.Figure at 0x1a1366ee80>"
      ]
     },
     "metadata": {},
     "output_type": "display_data"
    }
   ],
   "source": [
    "# Plot the ROC Curve and print AUC\n",
    "\n",
    "y_score=bernoulli.predict_proba(x1test)[:,1]\n",
    "\n",
    "fpr, tpr,_ = roc_curve(y1test, y_score)\n",
    "roc_auc = auc(fpr, tpr)\n",
    "\n",
    "plt.figure()\n",
    "# Plotting our Baseline..\n",
    "plt.plot([0,1],[0,1])\n",
    "plt.plot(fpr,tpr)\n",
    "plt.xlabel('FPR')\n",
    "plt.ylabel('TPR')\n",
    "print(\"AREA UNDER CURVE: \"+str(roc_auc));"
   ]
  },
  {
   "cell_type": "code",
   "execution_count": 35,
   "metadata": {},
   "outputs": [
    {
     "name": "stdout",
     "output_type": "stream",
     "text": [
      "[[47265  5660]\n",
      " [29621 23304]]\n"
     ]
    },
    {
     "data": {
      "image/png": "[encoded data removed]",
      "text/plain": [
       "<matplotlib.figure.Figure at 0x1a1ff49be0>"
      ]
     },
     "metadata": {},
     "output_type": "display_data"
    }
   ],
   "source": [
    "# Print a lovely confusion matrix\n",
    "\n",
    "plt.tight_layout()\n",
    "plt.ylabel('True label')\n",
    "plt.xlabel('Predicted label')\n",
    "\n",
    "plot_confusion_matrix(metrics.confusion_matrix(y1test,y_pred), ['absent', 'present'])"
   ]
  },
  {
   "cell_type": "markdown",
   "metadata": {},
   "source": [
    "## 3.4 Decision Trees"
   ]
  },
  {
   "cell_type": "code",
   "execution_count": 36,
   "metadata": {},
   "outputs": [
    {
     "data": {
      "text/plain": [
       "\"\\nf1_df={}\\nxtrain, xtest, ytrain, ytest = train_test_split(X, y, test_size=0.3)\\nfor i in range(40):\\n    decisiontree = DecisionTreeClassifier(class_weight = 'balanced', max_depth=(i+30))\\n    decisiontree.fit(xtrain, ytrain)\\n    y_pred = decisiontree.predict(xtest)\\n    f1_df[i+30] = metrics.f1_score(y_pred, ytest)\\n    \""
      ]
     },
     "execution_count": 36,
     "metadata": {},
     "output_type": "execute_result"
    }
   ],
   "source": [
    "# determining max depth\n",
    "'''\n",
    "f1_df={}\n",
    "xtrain, xtest, ytrain, ytest = train_test_split(X, y, test_size=0.3)\n",
    "for i in range(40):\n",
    "    decisiontree = DecisionTreeClassifier(class_weight = 'balanced', max_depth=(i+30))\n",
    "    decisiontree.fit(xtrain, ytrain)\n",
    "    y_pred = decisiontree.predict(xtest)\n",
    "    f1_df[i+30] = metrics.f1_score(y_pred, ytest)\n",
    "    '''\n",
    "# looks like max_depth=60 is the best"
   ]
  },
  {
   "cell_type": "code",
   "execution_count": 37,
   "metadata": {},
   "outputs": [],
   "source": [
    "# Fit a Decision Tree model to the data, with max_depth=60\n",
    "\n",
    "decisiontree = DecisionTreeClassifier(class_weight = 'balanced', max_depth=60)\n",
    "decisiontree.fit(x1train, y1train)\n",
    "y_pred = decisiontree.predict(x1test)"
   ]
  },
  {
   "cell_type": "code",
   "execution_count": 38,
   "metadata": {
    "scrolled": true
   },
   "outputs": [
    {
     "name": "stdout",
     "output_type": "stream",
     "text": [
      "Model accuracy: 84.13%\n",
      "Model F1 Score: 0.83\n",
      "             precision    recall  f1-score   support\n",
      "\n",
      "      False       0.67      0.15      0.25     52925\n",
      "       True       0.52      0.93      0.67     52925\n",
      "\n",
      "avg / total       0.60      0.54      0.46    105850\n",
      "\n"
     ]
    }
   ],
   "source": [
    "# Print a nice little score card for this model\n",
    "\n",
    "print(\"Model accuracy: {:.2f}%\".format(decisiontree.score(x1train, y1train)*100))\n",
    "print(\"Model F1 Score: {:.2f}\".format(metrics.f1_score(y_pred, y1test)))\n",
    "print(metrics.classification_report(y1test, decisiontree.predict(x1test_norm)))"
   ]
  },
  {
   "cell_type": "code",
   "execution_count": 39,
   "metadata": {},
   "outputs": [
    {
     "name": "stdout",
     "output_type": "stream",
     "text": [
      "AREA UNDER CURVE: 0.928038190959\n"
     ]
    },
    {
     "data": {
      "image/png": "[encoded data removed]",
      "text/plain": [
       "<matplotlib.figure.Figure at 0x1a1fff3550>"
      ]
     },
     "metadata": {},
     "output_type": "display_data"
    }
   ],
   "source": [
    "# Plot the ROC Curve and print AUC\n",
    "\n",
    "y_score=decisiontree.predict_proba(x1test)[:,1]\n",
    "\n",
    "fpr, tpr,_ = roc_curve(y1test, y_score)\n",
    "roc_auc = auc(fpr, tpr)\n",
    "\n",
    "plt.figure()\n",
    "# Plotting our Baseline..\n",
    "plt.plot([0,1],[0,1])\n",
    "plt.plot(fpr,tpr)\n",
    "plt.xlabel('FPR')\n",
    "plt.ylabel('TPR')\n",
    "print(\"AREA UNDER CURVE: \"+str(roc_auc));"
   ]
  },
  {
   "cell_type": "code",
   "execution_count": 40,
   "metadata": {},
   "outputs": [
    {
     "name": "stdout",
     "output_type": "stream",
     "text": [
      "[[47315  5610]\n",
      " [11192 41733]]\n"
     ]
    },
    {
     "data": {
      "image/png": "[encoded data removed]",
      "text/plain": [
       "<matplotlib.figure.Figure at 0x1a2059e668>"
      ]
     },
     "metadata": {},
     "output_type": "display_data"
    }
   ],
   "source": [
    "# Print a lovely confusion matrix\n",
    "\n",
    "plt.tight_layout()\n",
    "plt.ylabel('True label')\n",
    "plt.xlabel('Predicted label')\n",
    "\n",
    "plot_confusion_matrix(metrics.confusion_matrix(y1test,y_pred), ['absent', 'present'])"
   ]
  },
  {
   "cell_type": "markdown",
   "metadata": {},
   "source": [
    "## 3.5 Random Forest"
   ]
  },
  {
   "cell_type": "code",
   "execution_count": 41,
   "metadata": {},
   "outputs": [],
   "source": [
    "# Fit a Random Forest Model to the dataset\n",
    "\n",
    "randomforest = RandomForestClassifier(class_weight = 'balanced')\n",
    "randomforest.fit(x1train, y1train)\n",
    "y_pred = randomforest.predict(x1test)"
   ]
  },
  {
   "cell_type": "code",
   "execution_count": 42,
   "metadata": {},
   "outputs": [
    {
     "name": "stdout",
     "output_type": "stream",
     "text": [
      "Model accuracy: 83.78%\n",
      "Model F1 Score: 0.83\n",
      "             precision    recall  f1-score   support\n",
      "\n",
      "      False       0.68      0.15      0.25     52925\n",
      "       True       0.52      0.93      0.67     52925\n",
      "\n",
      "avg / total       0.60      0.54      0.46    105850\n",
      "\n"
     ]
    }
   ],
   "source": [
    "# Print a nice little score card for this model\n",
    "\n",
    "print(\"Model accuracy: {:.2f}%\".format(randomforest.score(x1train, y1train)*100))\n",
    "print(\"Model F1 Score: {:.2f}\".format(metrics.f1_score(y_pred, y1test)))\n",
    "print(metrics.classification_report(y1test, randomforest.predict(x1test_norm)))"
   ]
  },
  {
   "cell_type": "code",
   "execution_count": 43,
   "metadata": {
    "scrolled": true
   },
   "outputs": [
    {
     "name": "stdout",
     "output_type": "stream",
     "text": [
      "AREA UNDER CURVE: 0.921377301995\n"
     ]
    },
    {
     "data": {
      "image/png": "[encoded data removed]",
      "text/plain": [
       "<matplotlib.figure.Figure at 0x1a1ff4f748>"
      ]
     },
     "metadata": {},
     "output_type": "display_data"
    }
   ],
   "source": [
    "# Plot the ROC Curve and print the AUC\n",
    "\n",
    "y_score=randomforest.predict_proba(x1test)[:,1]\n",
    "\n",
    "fpr, tpr,_ = roc_curve(y1test, y_score)\n",
    "roc_auc = auc(fpr, tpr)\n",
    "\n",
    "plt.figure()\n",
    "# Plotting our Baseline..\n",
    "plt.plot([0,1],[0,1])\n",
    "plt.plot(fpr,tpr)\n",
    "plt.xlabel('FPR')\n",
    "plt.ylabel('TPR')\n",
    "print(\"AREA UNDER CURVE: \"+str(roc_auc));"
   ]
  },
  {
   "cell_type": "code",
   "execution_count": 44,
   "metadata": {},
   "outputs": [
    {
     "name": "stdout",
     "output_type": "stream",
     "text": [
      "[[46678  6247]\n",
      " [10920 42005]]\n"
     ]
    },
    {
     "data": {
      "image/png": "[encoded data removed]",
      "text/plain": [
       "<matplotlib.figure.Figure at 0x1a1fd41400>"
      ]
     },
     "metadata": {},
     "output_type": "display_data"
    }
   ],
   "source": [
    "# Print a lovely confusion matrix\n",
    "\n",
    "plt.tight_layout()\n",
    "plt.ylabel('True label')\n",
    "plt.xlabel('Predicted label')\n",
    "\n",
    "plot_confusion_matrix(metrics.confusion_matrix(y1test,y_pred), ['absent', 'present'])"
   ]
  },
  {
   "cell_type": "markdown",
   "metadata": {},
   "source": [
    "# 4.0 Comparing Across Models"
   ]
  },
  {
   "cell_type": "code",
   "execution_count": 45,
   "metadata": {},
   "outputs": [
    {
     "name": "stdout",
     "output_type": "stream",
     "text": [
      "0.928038190959 AUC Decision Tree\n",
      "0.921377301995 AUC Random Forest\n",
      "0.77401285078 AUC K Nearest Neighbors\n",
      "0.672537955936 AUC Naive Bayes (Bernoulli)\n",
      "0.623370622995 AUC Logistic Regression\n"
     ]
    },
    {
     "data": {
      "image/png": "[encoded data removed]",
      "text/plain": [
       "<matplotlib.figure.Figure at 0x1a202735f8>"
      ]
     },
     "metadata": {},
     "output_type": "display_data"
    }
   ],
   "source": [
    "y_rf_score=randomforest.predict_proba(x1test)[:,1]\n",
    "y_dt_score=decisiontree.predict_proba(x1test)[:,1]\n",
    "y_nb_score=bernoulli.predict_proba(x1test)[:,1]\n",
    "y_knn_score=knn.predict_proba(x1test)[:,1]\n",
    "y_log_score=logistic.predict_proba(x1test)[:,1]\n",
    "\n",
    "rf_fpr, rf_tpr,_ = roc_curve(y1test, y_rf_score)\n",
    "dt_fpr, dt_tpr,_ = roc_curve(y1test, y_dt_score)\n",
    "nb_fpr, nb_tpr,_ = roc_curve(y1test, y_nb_score)\n",
    "knn_fpr, knn_tpr,_ = roc_curve(y1test, y_knn_score)\n",
    "log_fpr, log_tpr,_ = roc_curve(y1test, y_log_score)\n",
    "\n",
    "plt.figure(figsize=(12,10))\n",
    "# Plotting our Baseline..\n",
    "plt.plot([0,1],[0,1])\n",
    "plt.plot(rf_fpr,rf_tpr, label='Random Forest')\n",
    "plt.plot(dt_fpr,dt_tpr, label='Decision Tree')\n",
    "plt.plot(nb_fpr,nb_tpr, label='Naive Bays: Bernoulli')\n",
    "plt.plot(knn_fpr,knn_tpr, label='K Nearest Neighbors (k=30)')\n",
    "plt.plot(log_fpr,log_tpr, label='Logistic Regression (c=200)')\n",
    "plt.xlabel('FPR')\n",
    "plt.ylabel('TPR')\n",
    "plt.legend()\n",
    "plt.grid(True)\n",
    "\n",
    "print(str(metrics.auc(dt_fpr, dt_tpr))+\" AUC Decision Tree\")\n",
    "print(str(metrics.auc(rf_fpr, rf_tpr))+\" AUC Random Forest\")\n",
    "print(str(metrics.auc(knn_fpr, knn_tpr))+\" AUC K Nearest Neighbors\")\n",
    "print(str(metrics.auc(nb_fpr, nb_tpr))+\" AUC Naive Bayes (Bernoulli)\")\n",
    "print(str(metrics.auc(log_fpr, log_tpr))+\" AUC Logistic Regression\")\n"
   ]
  },
  {
   "cell_type": "code",
   "execution_count": null,
   "metadata": {},
   "outputs": [],
   "source": []
  }
 ],
 "metadata": {
  "kernelspec": {
   "display_name": "Python 3",
   "language": "python",
   "name": "python3"
  },
  "language_info": {
   "codemirror_mode": {
    "name": "ipython",
    "version": 3
   },
   "file_extension": ".py",
   "mimetype": "text/x-python",
   "name": "python",
   "nbconvert_exporter": "python",
   "pygments_lexer": "ipython3",
   "version": "3.6.4"
  }
 },
 "nbformat": 4,
 "nbformat_minor": 2
}
