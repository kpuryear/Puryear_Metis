{
 "cells": [
  {
   "cell_type": "code",
   "execution_count": null,
   "metadata": {},
   "outputs": [],
   "source": [
    "# SQL Lab\n",
    "\n",
    "_Structured Query Language_ (SQL) is a very useful [declarative language](http://en.wikipedia.org/wiki/Declarative_programming) for working with data. It is usually supported (with some variation) by relational databases. The tutorialspoint [SQL Quick Guide](http://www.tutorialspoint.com/sql/sql-quick-guide.htm) is a handy cheat sheet for a lot of the syntax. As a data user, access to data will usually consist of a more or less complicated `SELECT` statement.\n",
    "\n",
    "For joining data with SQL, this [Visual Explanation of SQL Joins](http://blog.codinghorror.com/a-visual-explanation-of-sql-joins/) is quite good. One thing to note is that \"join\" will also often be known as \"merge\" in statistical software.\n",
    "\n",
    "This lab uses the SQL playground provided in-browser by [W3Schools](http://www.w3schools.com/). Click [W3Schools SQL playground](http://www.w3schools.com/sql/trysql.asp?filename=trysql_select_all) to go straight to the playground.\n",
    "\n",
    "This is a pre-populated data environment with nothing to install and no risk of breaking anything. The data there is from a commonly-used example database ([info](http://northwinddatabase.codeplex.com/)). Nice!\n",
    "\n",
    "\n",
    "## Guided\n",
    "\n",
    "Let's walk through a few examples:\n",
    "\n",
    "1) Retrieve all Customers from Madrid\n",
    "\n",
    "```sql\n",
    "SELECT\n",
    "    * \n",
    "FROM\n",
    "    Customers\n",
    "WHERE\n",
    "    City='Madrid';\n",
    "```\n",
    "\n",
    "2) How many customers are there in each city?\n",
    "\n",
    "```sql\n",
    "SELECT\n",
    "    City, COUNT(*)\n",
    "FROM\n",
    "    Customers\n",
    "GROUP BY\n",
    "    City;\n",
    "```\n",
    "\n",
    "3) What is the most common city for customers? (And can you make it easy to find the correct answer?)\n",
    "\n",
    "```sql\n",
    "SELECT\n",
    "    City, COUNT(*) AS count \n",
    "FROM\n",
    "    Customers \n",
    "GROUP BY\n",
    "    City \n",
    "ORDER BY\n",
    "    count DESC;\n",
    "```\n",
    "\n",
    "4) What category has the most products?\n",
    "\n",
    "```sql\n",
    "SELECT\n",
    "    CategoryName,\n",
    "    COUNT(*) AS ProductCount\n",
    "FROM\n",
    "    Categories\n",
    "  JOIN\n",
    "    Products\n",
    "  ON\n",
    "    Categories.CategoryID = Products.CategoryID\n",
    "GROUP BY\n",
    "    CategoryName\n",
    "ORDER BY \n",
    "    ProductCount DESC;\n",
    "```\n",
    "\n",
    "\n",
    "## Practice\n",
    "\n",
    " * Which customers are from the UK?\n",
    " * What is the name of the customer who has the most orders?\n",
    " * Which supplier has the highest average product price?\n",
    " * How many different countries are all the customers from? (*Hint:* consider [DISTINCT](http://www.w3schools.com/sql/sql_distinct.asp).)\n",
    " * What category appears in the most orders?\n",
    " * What was the total cost for each order?\n",
    " * Which employee made the most sales (by total cost)?\n",
    " * Which employees have BS degrees? (*Hint:* look at the [LIKE](http://www.w3schools.com/sql/sql_like.asp) operator.)\n",
    " * Which supplier of three or more products has the highest average product price? (*Hint:* look at the [HAVING](http://www.w3schools.com/sql/sql_having.asp) operator.)\n"
   ]
  },
  {
   "cell_type": "code",
   "execution_count": null,
   "metadata": {},
   "outputs": [],
   "source": [
    "# Which customers are from the UK?\n",
    "SELECT * FROM [Customers]\n",
    "WHERE\n",
    "\tCountry = 'UK';"
   ]
  },
  {
   "cell_type": "code",
   "execution_count": null,
   "metadata": {},
   "outputs": [],
   "source": [
    "# What is the name of the customer who has the most orders?\n",
    "SELECT CustomerName, COUNT(*) \n",
    "FROM [Customers]\n",
    "\n",
    "JOIN\n",
    "\tOrders\n",
    "ON \n",
    "\tCustomers.CustomerID = Orders.CustomerID"
   ]
  },
  {
   "cell_type": "code",
   "execution_count": null,
   "metadata": {},
   "outputs": [],
   "source": [
    "# Which supplier has the highest average product price?\n",
    "SELECT SupplierName, AVG(Price) FROM [Suppliers]\n",
    "JOIN\n",
    "\tProducts\n",
    "ON\n",
    "\tSuppliers.SupplierID = Products.SupplierID\n",
    "GROUP BY\n",
    "\tSupplierName\n",
    "ORDER BY\n",
    "\tAVG(Price) DESC;"
   ]
  },
  {
   "cell_type": "code",
   "execution_count": null,
   "metadata": {},
   "outputs": [],
   "source": [
    "# How many different countries are all the customers from? (*Hint:* consider [DISTINCT](http://www.w3schools.com/sql/sql_distinct.asp).)\n",
    "SELECT DISTINCT Country FROM [Customers]\n",
    "GROUP BY\n",
    "\tCountry;"
   ]
  },
  {
   "cell_type": "code",
   "execution_count": null,
   "metadata": {},
   "outputs": [],
   "source": [
    "# What category appears in the most orders?\n",
    "SELECT CategoryName, Count(OrderID) FROM [Categories]\n",
    "\n",
    "JOIN \n",
    "\tProducts\n",
    "ON \n",
    "\tCategories.CategoryID = Products.CategoryID\n",
    "JOIN \n",
    "\tOrderDetails\n",
    "ON \n",
    "\tOrderDetails.ProductID = Products.ProductID\n",
    "\n",
    "GROUP BY CategoryName\n",
    "ORDER BY Count(OrderID) DESC;\n"
   ]
  },
  {
   "cell_type": "code",
   "execution_count": null,
   "metadata": {},
   "outputs": [],
   "source": [
    "# What was the total cost for each order?\n",
    " SELECT \n",
    "\tOrderId, SUM(Products.Price * OrderDetails.Quantity) AS TotalCost \n",
    "FROM \n",
    "\tProducts\n",
    "JOIN \n",
    "\tOrderDetails\n",
    "ON \n",
    "\tProducts.ProductID = OrderDetails.ProductID\n",
    "GROUP BY \n",
    "\tOrderID\n",
    "ORDER BY TotalCost DESC;"
   ]
  },
  {
   "cell_type": "code",
   "execution_count": null,
   "metadata": {},
   "outputs": [],
   "source": [
    "# Which employee made the most sales (by total cost)?\n",
    "SELECT LastName, SUM(Products.Price * OrderDetails.Quantity) AS TotalCost\n",
    "FROM Employees\n",
    "JOIN Orders\n",
    "ON Employees.EmployeeID = Orders.EmployeeID\n",
    "JOIN OrderDetails\n",
    "ON OrderDetails.OrderID = Orders.OrderID\n",
    "JOIN Products\n",
    "ON Products.ProductID = OrderDetails.ProductID\n",
    "GROUP BY LastName\n",
    "ORDER BY TotalCost DESC;"
   ]
  },
  {
   "cell_type": "code",
   "execution_count": null,
   "metadata": {},
   "outputs": [],
   "source": [
    "# Which employees have BS degrees? (*Hint:* look at the [LIKE](http://www.w3schools.com/sql/sql_like.asp) operator.)\n",
    "SELECT * FROM Employees\n",
    "WHERE Notes LIKE '%BS%';"
   ]
  },
  {
   "cell_type": "code",
   "execution_count": null,
   "metadata": {},
   "outputs": [],
   "source": [
    "# Which supplier of three or more products has the highest average product price? (*Hint:* look at the [HAVING](http://www.w3schools.com/sql/sql_having.asp) operator.)\n",
    "SELECT SupplierName, AVG(Price), COUNT(ProductID)\n",
    "FROM \n",
    "\tSuppliers\n",
    "JOIN \n",
    "\tProducts\n",
    "ON \n",
    "\tSuppliers.SupplierID = Products.SupplierID\n",
    "GROUP BY\n",
    "\tSupplierName\n",
    "HAVING COUNT(ProductID) > 3;"
   ]
  },
  {
   "cell_type": "code",
   "execution_count": null,
   "metadata": {},
   "outputs": [],
   "source": []
  }
 ],
 "metadata": {
  "kernelspec": {
   "display_name": "Python 3",
   "language": "python",
   "name": "python3"
  },
  "language_info": {
   "codemirror_mode": {
    "name": "ipython",
    "version": 3
   },
   "file_extension": ".py",
   "mimetype": "text/x-python",
   "name": "python",
   "nbconvert_exporter": "python",
   "pygments_lexer": "ipython3",
   "version": "3.6.4"
  }
 },
 "nbformat": 4,
 "nbformat_minor": 2
}
