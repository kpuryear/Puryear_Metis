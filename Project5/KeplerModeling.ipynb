{
 "cells": [
  {
   "cell_type": "code",
   "execution_count": 81,
   "metadata": {},
   "outputs": [],
   "source": [
    "import numpy as np\n",
    "import pandas as pd\n",
    "from lightkurve import KeplerTargetPixelFile\n",
    "import csv\n",
    "from tqdm import tqdm\n",
    "from sklearn.cross_validation import train_test_split\n",
    "from sklearn.utils import resample\n",
    "import matplotlib.pyplot as plt\n",
    "from sklearn.ensemble import RandomForestClassifier\n",
    "from sklearn.linear_model import LogisticRegression\n",
    "from sklearn.tree import DecisionTreeClassifier\n",
    "from sklearn import metrics\n",
    "from sklearn.metrics import roc_curve, auc\n",
    "import itertools\n",
    "from sklearn.metrics import classification_report\n",
    "from sklearn.grid_search import GridSearchCV\n",
    "from scipy.stats.kde import gaussian_kde\n",
    "from numpy import linspace\n",
    "\n",
    "from __future__ import division\n",
    "\n",
    "import numpy as np\n",
    "import os\n",
    "import tempfile\n",
    "import keras\n",
    "from keras import backend as K\n",
    "import tensorflow as tf\n",
    "\n",
    "np.random.seed(123)  # for reproducibility\n",
    " \n",
    "from keras.models import Sequential\n",
    "from keras.layers import Dense, Dropout, Activation, Flatten\n",
    "from keras.layers import Convolution2D, MaxPooling2D\n",
    "from keras.utils import np_utils\n",
    "from keras.optimizers import SGD\n",
    "\n",
    "import numpy as np\n",
    "import pandas as pd\n",
    "import matplotlib.pyplot as plt\n",
    "from lightkurve import KeplerTargetPixelFile\n",
    "import csv\n",
    "from tqdm import tqdm\n",
    "import tensorflow as tf\n",
    "import keras\n",
    "from sklearn import metrics\n",
    "from keras.utils import to_categorical\n",
    "import warnings\n",
    "warnings.filterwarnings(\"ignore\")"
   ]
  },
  {
   "cell_type": "markdown",
   "metadata": {},
   "source": [
    "# Define Functions"
   ]
  },
  {
   "cell_type": "code",
   "execution_count": 106,
   "metadata": {},
   "outputs": [],
   "source": [
    "# define function that implements a probability threshold\n",
    "\n",
    "def predict_with_cutoff(y_prob, threshold):\n",
    "    y_pred = [True if x >= threshold else False for x in y_prob]\n",
    "    return y_pred\n",
    "\n",
    "def predict_binary_with_cutoff(y_prob, threshold):\n",
    "    y_pred = [1 if x >= threshold else 0 for x in y_prob]\n",
    "    return y_pred"
   ]
  },
  {
   "cell_type": "code",
   "execution_count": 23,
   "metadata": {},
   "outputs": [],
   "source": [
    "# define a function to draw beautiful confusion matrix!\n",
    "\n",
    "def plot_confusion_matrix(cm, classes,\n",
    "                         normalize=False,\n",
    "                         title='Confusion matrix',\n",
    "                         cmap=plt.cm.Reds):\n",
    "\n",
    "    print(cm)\n",
    "\n",
    "    plt.imshow(cm, interpolation='nearest', cmap=cmap)\n",
    "    plt.colorbar()\n",
    "    tick_marks = np.arange(len(classes))\n",
    "    plt.xticks(tick_marks, classes, rotation=45)\n",
    "    plt.yticks(tick_marks, classes)\n",
    "\n",
    "    fmt = '.2f' if normalize else 'd'\n",
    "    thresh = cm.max() / 2.\n",
    "    for i, j in itertools.product(range(cm.shape[0]), range(cm.shape[1])):\n",
    "        plt.text(j, i, format(cm[i, j], fmt),\n",
    "             horizontalalignment=\"center\",\n",
    "             color=\"white\" if cm[i, j] > thresh else \"black\")"
   ]
  },
  {
   "cell_type": "markdown",
   "metadata": {},
   "source": [
    "# Load in X and Y as arrays for Neural Network"
   ]
  },
  {
   "cell_type": "code",
   "execution_count": 82,
   "metadata": {},
   "outputs": [],
   "source": [
    "X_train = np.load('xtrainfile2.npy').reshape(5725, 1, 1626).astype('float32')\n",
    "X_test = np.load('xtestfile2.npy').reshape(2160, 1, 1626).astype('float32')\n",
    "Y_train = np.load('ytrainfile2.npy')\n",
    "Y_test = np.load('ytestfile2.npy')"
   ]
  },
  {
   "cell_type": "code",
   "execution_count": 83,
   "metadata": {},
   "outputs": [],
   "source": [
    "# y needs to be categorical\n",
    "y_trainbinary = to_categorical(Y_train)\n",
    "y_testbinary = to_categorical(Y_test)"
   ]
  },
  {
   "cell_type": "markdown",
   "metadata": {},
   "source": [
    "### Find the shapes of each vector, as confirmation"
   ]
  },
  {
   "cell_type": "code",
   "execution_count": 84,
   "metadata": {
    "scrolled": true
   },
   "outputs": [
    {
     "name": "stdout",
     "output_type": "stream",
     "text": [
      "X_train: (5725, 1, 1626)\n",
      "y_trainbinary: (5725, 2)\n",
      "----\n",
      "X_test: (2160, 1, 1626)\n",
      "y_testbinary: (2160, 2)\n"
     ]
    }
   ],
   "source": [
    "print(\"X_train: \"+str(X_train.shape))\n",
    "print(\"y_trainbinary: \"+str(y_trainbinary.shape))\n",
    "print(\"----\")\n",
    "print(\"X_test: \"+str(X_test.shape))\n",
    "print(\"y_testbinary: \"+str(y_testbinary.shape))"
   ]
  },
  {
   "cell_type": "code",
   "execution_count": null,
   "metadata": {},
   "outputs": [],
   "source": []
  },
  {
   "cell_type": "markdown",
   "metadata": {},
   "source": [
    "# Modeling: Construct Artificial Neural Network to Detect Exoplanets from the Raw Light Curve Vector"
   ]
  },
  {
   "cell_type": "code",
   "execution_count": 85,
   "metadata": {},
   "outputs": [],
   "source": [
    "if K.backend() != 'tensorflow':\n",
    "    raise RuntimeError('This example can only run with the TensorFlow backend,'\n",
    "                       ' because it requires the Datset API, which is not'\n",
    "                       ' supported on other platforms.')"
   ]
  },
  {
   "cell_type": "markdown",
   "metadata": {},
   "source": [
    "---\n",
    "### Keras1: Construct model"
   ]
  },
  {
   "cell_type": "code",
   "execution_count": 86,
   "metadata": {},
   "outputs": [],
   "source": [
    "# from the keras tutorial:\n",
    "\n",
    "# Keras 1D convolution!!!!!\n",
    "\n",
    "model3 = Sequential()\n",
    "\n",
    "model3.add(Dense(1600, input_shape=(1, 1626), activation='sigmoid'))\n",
    "\n",
    "model3.add(Flatten())\n",
    "\n",
    "model3.add(Dense(1000, activation='linear')) # probably want linear or relu?\n",
    "\n",
    "#model.add(Dropout(0.25))\n",
    "\n",
    "model3.add(Dense(300, activation='sigmoid'))\n",
    "model3.add(Dense(30, activation='sigmoid')) # whatever layer feeds to your output layer should be linear\n",
    "#model.add(Dropout(0.5))\n",
    "\n",
    "model3.add(Dense(2, activation='softmax')) # or sigmoid? which is more standard"
   ]
  },
  {
   "cell_type": "markdown",
   "metadata": {},
   "source": [
    "---\n",
    "### Keras1: Visualize each layer in the model, and its output"
   ]
  },
  {
   "cell_type": "code",
   "execution_count": 87,
   "metadata": {
    "scrolled": true
   },
   "outputs": [
    {
     "name": "stdout",
     "output_type": "stream",
     "text": [
      "_________________________________________________________________\n",
      "Layer (type)                 Output Shape              Param #   \n",
      "=================================================================\n",
      "dense_6 (Dense)              (None, 1, 1600)           2603200   \n",
      "_________________________________________________________________\n",
      "flatten_2 (Flatten)          (None, 1600)              0         \n",
      "_________________________________________________________________\n",
      "dense_7 (Dense)              (None, 1000)              1601000   \n",
      "_________________________________________________________________\n",
      "dense_8 (Dense)              (None, 300)               300300    \n",
      "_________________________________________________________________\n",
      "dense_9 (Dense)              (None, 30)                9030      \n",
      "_________________________________________________________________\n",
      "dense_10 (Dense)             (None, 2)                 62        \n",
      "=================================================================\n",
      "Total params: 4,513,592\n",
      "Trainable params: 4,513,592\n",
      "Non-trainable params: 0\n",
      "_________________________________________________________________\n"
     ]
    }
   ],
   "source": [
    "model3.summary()"
   ]
  },
  {
   "cell_type": "markdown",
   "metadata": {},
   "source": [
    "---\n",
    "### Keras1: Compile the Model, implement Decaying Learning Rate"
   ]
  },
  {
   "cell_type": "code",
   "execution_count": 93,
   "metadata": {},
   "outputs": [],
   "source": [
    "## from the online resource (to get a decaying learning rate)\n",
    "\n",
    "# Compile model\n",
    "epochs = 10\n",
    "learning_rate = 0.01\n",
    "decay_rate = learning_rate / epochs\n",
    "momentum = 0.8\n",
    "sgd = SGD(lr=learning_rate, momentum=momentum, decay=decay_rate, nesterov=False)\n",
    "model3.compile(loss='binary_crossentropy', optimizer=sgd, metrics=['accuracy'])"
   ]
  },
  {
   "cell_type": "markdown",
   "metadata": {},
   "source": [
    "---\n",
    "### Keras1: Train the model"
   ]
  },
  {
   "cell_type": "code",
   "execution_count": 94,
   "metadata": {},
   "outputs": [
    {
     "name": "stdout",
     "output_type": "stream",
     "text": [
      "WARNING:tensorflow:Variable *= will be deprecated. Use variable.assign_mul if you want assignment to the variable value or 'x = x * y' if you want a new python Tensor object.\n",
      "Train on 5725 samples, validate on 2160 samples\n",
      "Epoch 1/10\n",
      "5725/5725 [==============================] - 8s 1ms/step - loss: 0.6802 - acc: 0.5857 - val_loss: 0.7834 - val_acc: 0.2431\n",
      "Epoch 2/10\n",
      "5725/5725 [==============================] - 7s 1ms/step - loss: 0.6809 - acc: 0.5857 - val_loss: 0.7612 - val_acc: 0.2431\n",
      "Epoch 3/10\n",
      "5725/5725 [==============================] - 7s 1ms/step - loss: 0.6796 - acc: 0.5857 - val_loss: 0.7637 - val_acc: 0.2431\n",
      "Epoch 4/10\n",
      "5725/5725 [==============================] - 7s 1ms/step - loss: 0.6799 - acc: 0.5857 - val_loss: 0.7953 - val_acc: 0.2431\n",
      "Epoch 5/10\n",
      "5725/5725 [==============================] - 7s 1ms/step - loss: 0.6801 - acc: 0.5857 - val_loss: 0.8257 - val_acc: 0.2431\n",
      "Epoch 6/10\n",
      "5725/5725 [==============================] - 7s 1ms/step - loss: 0.6797 - acc: 0.5857 - val_loss: 0.7857 - val_acc: 0.2431\n",
      "Epoch 7/10\n",
      "5725/5725 [==============================] - 7s 1ms/step - loss: 0.6792 - acc: 0.5857 - val_loss: 0.8149 - val_acc: 0.2431\n",
      "Epoch 8/10\n",
      "5725/5725 [==============================] - 7s 1ms/step - loss: 0.6788 - acc: 0.5857 - val_loss: 0.7496 - val_acc: 0.2431\n",
      "Epoch 9/10\n",
      "5725/5725 [==============================] - 7s 1ms/step - loss: 0.6798 - acc: 0.5857 - val_loss: 0.7951 - val_acc: 0.2431\n",
      "Epoch 10/10\n",
      "5725/5725 [==============================] - 7s 1ms/step - loss: 0.6792 - acc: 0.5857 - val_loss: 0.7504 - val_acc: 0.2431\n"
     ]
    },
    {
     "data": {
      "text/plain": [
       "<keras.callbacks.History at 0x7f7d702d06a0>"
      ]
     },
     "execution_count": 94,
     "metadata": {},
     "output_type": "execute_result"
    }
   ],
   "source": [
    "# Fit the model\n",
    "model3.fit(X_train, y_trainbinary, epochs=10, batch_size=28, validation_data=(X_test, y_testbinary))"
   ]
  },
  {
   "cell_type": "markdown",
   "metadata": {},
   "source": [
    "---\n",
    "### Keras1: Evaluate on test data"
   ]
  },
  {
   "cell_type": "code",
   "execution_count": 96,
   "metadata": {
    "scrolled": true
   },
   "outputs": [
    {
     "name": "stdout",
     "output_type": "stream",
     "text": [
      "2160/2160 [==============================] - 1s 255us/step\n"
     ]
    }
   ],
   "source": [
    "model3.evaluate(X_test, y_testbinary, verbose=True)\n",
    "y_prob = model3.predict_proba(X_test)"
   ]
  },
  {
   "cell_type": "markdown",
   "metadata": {},
   "source": [
    "---\n",
    "### Keras1: Model Scorecard"
   ]
  },
  {
   "cell_type": "code",
   "execution_count": 118,
   "metadata": {},
   "outputs": [],
   "source": [
    "y_testbinaryz = []\n",
    "for i in range(len(y_testbinary)):\n",
    "    y_testbinaryz.append(y_testbinary[i][1])\n",
    "    \n",
    "y_probz = []\n",
    "for i in range(len(y_prob)):\n",
    "    y_probz.append(y_prob[i][1])"
   ]
  },
  {
   "cell_type": "code",
   "execution_count": 119,
   "metadata": {},
   "outputs": [
    {
     "name": "stdout",
     "output_type": "stream",
     "text": [
      "Accuracy: 24.31%\n",
      "             precision    recall  f1-score   support\n",
      "\n",
      "        0.0       0.00      0.00      0.00      1635\n",
      "        1.0       0.24      1.00      0.39       525\n",
      "\n",
      "avg / total       0.06      0.24      0.10      2160\n",
      "\n",
      "[0.7503631940594426, 0.24305555555555555]\n"
     ]
    }
   ],
   "source": [
    "scores = model3.evaluate(X_test, y_testbinary, verbose=0)\n",
    "#y_prob_np = model3.predict_proba(x_test_np)\n",
    "yhat = (predict_binary_with_cutoff(y_probz, 0.5))\n",
    "\n",
    "print(\"Accuracy: %.2f%%\" % (scores[1]*100))\n",
    "print(classification_report(y_testbinaryz, yhat))\n",
    "print(scores)"
   ]
  },
  {
   "cell_type": "markdown",
   "metadata": {},
   "source": [
    "---\n",
    "### Keras1: Confusion Matrix"
   ]
  },
  {
   "cell_type": "code",
   "execution_count": 120,
   "metadata": {},
   "outputs": [
    {
     "name": "stdout",
     "output_type": "stream",
     "text": [
      "[[   0 1635]\n",
      " [   0  525]]\n"
     ]
    },
    {
     "data": {
      "image/png": "[encoded data removed]",
      "text/plain": [
       "<matplotlib.figure.Figure at 0x7f7d984b57b8>"
      ]
     },
     "metadata": {},
     "output_type": "display_data"
    }
   ],
   "source": [
    "plt.tight_layout()\n",
    "plt.title(\"Keras Confusion Matrix\", fontweight='bold')\n",
    "plt.ylabel('True label', fontweight='bold')\n",
    "plt.xlabel('Predicted label', fontweight='bold')\n",
    "\n",
    "plot_confusion_matrix(metrics.confusion_matrix(y_testbinaryz,yhat), ['Not', 'Exo'])"
   ]
  },
  {
   "cell_type": "code",
   "execution_count": null,
   "metadata": {},
   "outputs": [],
   "source": []
  },
  {
   "cell_type": "markdown",
   "metadata": {},
   "source": [
    "# I will create my own dataset that is more indicative of the data at hand."
   ]
  },
  {
   "cell_type": "markdown",
   "metadata": {},
   "source": [
    "# columns I want:\n",
    "- Kepler ID = index\n",
    "- Minimum(flux)\n",
    "- Maximum(flux)\n",
    "- Delta\n",
    "- first percentile of flux\n",
    "- 3rd percentile of flux\n",
    "- 5th percentile of flux\n",
    "- Target label"
   ]
  },
  {
   "cell_type": "markdown",
   "metadata": {},
   "source": [
    "---\n",
    "# Load in X and Y, train and test set"
   ]
  },
  {
   "cell_type": "code",
   "execution_count": 4,
   "metadata": {},
   "outputs": [],
   "source": [
    "xtrain = np.load('xtrainfile2.npy')\n",
    "xtest = np.load('xtestfile2.npy')"
   ]
  },
  {
   "cell_type": "code",
   "execution_count": 5,
   "metadata": {},
   "outputs": [],
   "source": [
    "ytrain = np.load('ytrainfile3.npy')\n",
    "ytest = np.load('ytestfile3.npy')"
   ]
  },
  {
   "cell_type": "code",
   "execution_count": 6,
   "metadata": {},
   "outputs": [
    {
     "name": "stdout",
     "output_type": "stream",
     "text": [
      "(2160, 1626)\n",
      "(5725, 1626)\n",
      "(5727,)\n",
      "(2161,)\n"
     ]
    }
   ],
   "source": [
    "print(xtest.shape)\n",
    "print(xtrain.shape)\n",
    "print(ytrain.shape)\n",
    "print(ytest.shape)"
   ]
  },
  {
   "cell_type": "markdown",
   "metadata": {},
   "source": [
    "\n",
    "# Create New Data\n",
    "---\n",
    "### Create lists with the new feature-engineered-values"
   ]
  },
  {
   "cell_type": "code",
   "execution_count": 7,
   "metadata": {},
   "outputs": [],
   "source": [
    "minimum = []\n",
    "for i in range(len(xtrain)):\n",
    "    minimum.append(np.amin(xtrain[i]))\n",
    "for i in range(len(xtest)):\n",
    "    minimum.append(np.amin(xtest[i]))"
   ]
  },
  {
   "cell_type": "code",
   "execution_count": 8,
   "metadata": {},
   "outputs": [],
   "source": [
    "maximum = []\n",
    "for i in range(len(xtrain)):\n",
    "    maximum.append(np.amax(xtrain[i]))\n",
    "for i in range(len(xtest)):\n",
    "    maximum.append(np.amax(xtest[i]))"
   ]
  },
  {
   "cell_type": "code",
   "execution_count": 9,
   "metadata": {},
   "outputs": [],
   "source": [
    "first = []\n",
    "for i in range(len(xtrain)):\n",
    "    first.append(np.percentile(xtrain[i], 1))\n",
    "for i in range(len(xtest)):\n",
    "    first.append(np.percentile(xtest[i], 1))"
   ]
  },
  {
   "cell_type": "code",
   "execution_count": 10,
   "metadata": {},
   "outputs": [],
   "source": [
    "third = []\n",
    "for i in range(len(xtrain)):\n",
    "    third.append(np.percentile(xtrain[i], 3))\n",
    "for i in range(len(xtest)):\n",
    "    third.append(np.percentile(xtest[i], 3))"
   ]
  },
  {
   "cell_type": "code",
   "execution_count": 11,
   "metadata": {},
   "outputs": [],
   "source": [
    "fifth = []\n",
    "for i in range(len(xtrain)):\n",
    "    fifth.append(np.percentile(xtrain[i], 5))\n",
    "for i in range(len(xtest)):\n",
    "    fifth.append(np.percentile(xtest[i], 5))"
   ]
  },
  {
   "cell_type": "code",
   "execution_count": 12,
   "metadata": {},
   "outputs": [],
   "source": [
    "delta = []\n",
    "for i in range(len(xtrain)):\n",
    "    delta.append(maximum[i]-minimum[i])\n",
    "for i in range(len(xtest)):\n",
    "    delta.append(maximum[i]-minimum[i])"
   ]
  },
  {
   "cell_type": "code",
   "execution_count": 13,
   "metadata": {
    "scrolled": true
   },
   "outputs": [],
   "source": [
    "target = []\n",
    "for i in range(len(xtrain)):\n",
    "    target.append(ytrain[i])\n",
    "for i in range(len(xtest)):\n",
    "    target.append(ytest[i])"
   ]
  },
  {
   "cell_type": "markdown",
   "metadata": {},
   "source": [
    "---\n",
    "# Compile new Data into Pandas DataFrame"
   ]
  },
  {
   "cell_type": "code",
   "execution_count": 14,
   "metadata": {},
   "outputs": [],
   "source": [
    "df = pd.DataFrame({'minimum': minimum,\n",
    "                   'maximum': maximum,\n",
    "                   'delta': delta,\n",
    "                   'firstpercent': first,\n",
    "                   'thirdpercent': third,\n",
    "                   'fifthpercent': fifth,\n",
    "                   'target': target})"
   ]
  },
  {
   "cell_type": "code",
   "execution_count": 15,
   "metadata": {},
   "outputs": [
    {
     "data": {
      "text/plain": [
       "7885"
      ]
     },
     "execution_count": 15,
     "metadata": {},
     "output_type": "execute_result"
    }
   ],
   "source": [
    "len(df)"
   ]
  },
  {
   "cell_type": "markdown",
   "metadata": {},
   "source": [
    "# Create Training and Test Sets"
   ]
  },
  {
   "cell_type": "code",
   "execution_count": 16,
   "metadata": {},
   "outputs": [],
   "source": [
    "df['target'] = (df[\"target\"] == 0.5)"
   ]
  },
  {
   "cell_type": "code",
   "execution_count": 17,
   "metadata": {
    "scrolled": true
   },
   "outputs": [
    {
     "data": {
      "text/html": [
       "<div>\n",
       "<style scoped>\n",
       "    .dataframe tbody tr th:only-of-type {\n",
       "        vertical-align: middle;\n",
       "    }\n",
       "\n",
       "    .dataframe tbody tr th {\n",
       "        vertical-align: top;\n",
       "    }\n",
       "\n",
       "    .dataframe thead th {\n",
       "        text-align: right;\n",
       "    }\n",
       "</style>\n",
       "<table border=\"1\" class=\"dataframe\">\n",
       "  <thead>\n",
       "    <tr style=\"text-align: right;\">\n",
       "      <th></th>\n",
       "      <th>delta</th>\n",
       "      <th>fifthpercent</th>\n",
       "      <th>firstpercent</th>\n",
       "      <th>maximum</th>\n",
       "      <th>minimum</th>\n",
       "      <th>target</th>\n",
       "      <th>thirdpercent</th>\n",
       "    </tr>\n",
       "  </thead>\n",
       "  <tbody>\n",
       "    <tr>\n",
       "      <th>0</th>\n",
       "      <td>0.004157</td>\n",
       "      <td>0.999170</td>\n",
       "      <td>0.998773</td>\n",
       "      <td>1.002296</td>\n",
       "      <td>0.998139</td>\n",
       "      <td>True</td>\n",
       "      <td>0.999048</td>\n",
       "    </tr>\n",
       "    <tr>\n",
       "      <th>1</th>\n",
       "      <td>0.004157</td>\n",
       "      <td>0.999170</td>\n",
       "      <td>0.998773</td>\n",
       "      <td>1.002296</td>\n",
       "      <td>0.998139</td>\n",
       "      <td>True</td>\n",
       "      <td>0.999048</td>\n",
       "    </tr>\n",
       "    <tr>\n",
       "      <th>2</th>\n",
       "      <td>0.021173</td>\n",
       "      <td>0.995924</td>\n",
       "      <td>0.994854</td>\n",
       "      <td>1.006699</td>\n",
       "      <td>0.985526</td>\n",
       "      <td>False</td>\n",
       "      <td>0.995604</td>\n",
       "    </tr>\n",
       "    <tr>\n",
       "      <th>3</th>\n",
       "      <td>0.020493</td>\n",
       "      <td>0.998810</td>\n",
       "      <td>0.992693</td>\n",
       "      <td>1.012022</td>\n",
       "      <td>0.991529</td>\n",
       "      <td>False</td>\n",
       "      <td>0.996204</td>\n",
       "    </tr>\n",
       "    <tr>\n",
       "      <th>4</th>\n",
       "      <td>0.003358</td>\n",
       "      <td>0.999801</td>\n",
       "      <td>0.999660</td>\n",
       "      <td>1.002780</td>\n",
       "      <td>0.999422</td>\n",
       "      <td>False</td>\n",
       "      <td>0.999757</td>\n",
       "    </tr>\n",
       "    <tr>\n",
       "      <th>5</th>\n",
       "      <td>0.016990</td>\n",
       "      <td>0.999027</td>\n",
       "      <td>0.998136</td>\n",
       "      <td>1.011780</td>\n",
       "      <td>0.994790</td>\n",
       "      <td>True</td>\n",
       "      <td>0.998838</td>\n",
       "    </tr>\n",
       "    <tr>\n",
       "      <th>6</th>\n",
       "      <td>0.015097</td>\n",
       "      <td>1.000090</td>\n",
       "      <td>0.987409</td>\n",
       "      <td>1.001118</td>\n",
       "      <td>0.986021</td>\n",
       "      <td>True</td>\n",
       "      <td>0.998452</td>\n",
       "    </tr>\n",
       "    <tr>\n",
       "      <th>7</th>\n",
       "      <td>0.007174</td>\n",
       "      <td>0.994633</td>\n",
       "      <td>0.993714</td>\n",
       "      <td>1.000743</td>\n",
       "      <td>0.993569</td>\n",
       "      <td>True</td>\n",
       "      <td>0.993983</td>\n",
       "    </tr>\n",
       "    <tr>\n",
       "      <th>8</th>\n",
       "      <td>0.013041</td>\n",
       "      <td>0.999538</td>\n",
       "      <td>0.991328</td>\n",
       "      <td>1.003709</td>\n",
       "      <td>0.990669</td>\n",
       "      <td>True</td>\n",
       "      <td>0.995176</td>\n",
       "    </tr>\n",
       "    <tr>\n",
       "      <th>9</th>\n",
       "      <td>0.003097</td>\n",
       "      <td>0.999817</td>\n",
       "      <td>0.999723</td>\n",
       "      <td>1.002409</td>\n",
       "      <td>0.999312</td>\n",
       "      <td>True</td>\n",
       "      <td>0.999789</td>\n",
       "    </tr>\n",
       "    <tr>\n",
       "      <th>10</th>\n",
       "      <td>0.028587</td>\n",
       "      <td>0.999176</td>\n",
       "      <td>0.996507</td>\n",
       "      <td>1.010865</td>\n",
       "      <td>0.982278</td>\n",
       "      <td>False</td>\n",
       "      <td>0.999023</td>\n",
       "    </tr>\n",
       "    <tr>\n",
       "      <th>11</th>\n",
       "      <td>0.022716</td>\n",
       "      <td>0.998804</td>\n",
       "      <td>0.991506</td>\n",
       "      <td>1.013085</td>\n",
       "      <td>0.990369</td>\n",
       "      <td>False</td>\n",
       "      <td>0.998366</td>\n",
       "    </tr>\n",
       "    <tr>\n",
       "      <th>12</th>\n",
       "      <td>0.081266</td>\n",
       "      <td>0.999166</td>\n",
       "      <td>0.998232</td>\n",
       "      <td>1.009711</td>\n",
       "      <td>0.928445</td>\n",
       "      <td>False</td>\n",
       "      <td>0.999010</td>\n",
       "    </tr>\n",
       "    <tr>\n",
       "      <th>13</th>\n",
       "      <td>0.008177</td>\n",
       "      <td>0.999293</td>\n",
       "      <td>0.998918</td>\n",
       "      <td>1.006517</td>\n",
       "      <td>0.998341</td>\n",
       "      <td>True</td>\n",
       "      <td>0.999198</td>\n",
       "    </tr>\n",
       "    <tr>\n",
       "      <th>14</th>\n",
       "      <td>0.030608</td>\n",
       "      <td>0.998703</td>\n",
       "      <td>0.998176</td>\n",
       "      <td>1.027749</td>\n",
       "      <td>0.997140</td>\n",
       "      <td>True</td>\n",
       "      <td>0.998487</td>\n",
       "    </tr>\n",
       "    <tr>\n",
       "      <th>15</th>\n",
       "      <td>0.012006</td>\n",
       "      <td>0.999106</td>\n",
       "      <td>0.998705</td>\n",
       "      <td>1.010214</td>\n",
       "      <td>0.998208</td>\n",
       "      <td>False</td>\n",
       "      <td>0.998966</td>\n",
       "    </tr>\n",
       "    <tr>\n",
       "      <th>16</th>\n",
       "      <td>0.004176</td>\n",
       "      <td>0.999072</td>\n",
       "      <td>0.998699</td>\n",
       "      <td>1.002486</td>\n",
       "      <td>0.998310</td>\n",
       "      <td>True</td>\n",
       "      <td>0.998923</td>\n",
       "    </tr>\n",
       "    <tr>\n",
       "      <th>17</th>\n",
       "      <td>0.004176</td>\n",
       "      <td>0.999072</td>\n",
       "      <td>0.998699</td>\n",
       "      <td>1.002486</td>\n",
       "      <td>0.998310</td>\n",
       "      <td>True</td>\n",
       "      <td>0.998923</td>\n",
       "    </tr>\n",
       "    <tr>\n",
       "      <th>18</th>\n",
       "      <td>0.004176</td>\n",
       "      <td>0.999072</td>\n",
       "      <td>0.998699</td>\n",
       "      <td>1.002486</td>\n",
       "      <td>0.998310</td>\n",
       "      <td>True</td>\n",
       "      <td>0.998923</td>\n",
       "    </tr>\n",
       "    <tr>\n",
       "      <th>19</th>\n",
       "      <td>0.003138</td>\n",
       "      <td>0.999775</td>\n",
       "      <td>0.999657</td>\n",
       "      <td>1.001985</td>\n",
       "      <td>0.998847</td>\n",
       "      <td>False</td>\n",
       "      <td>0.999746</td>\n",
       "    </tr>\n",
       "    <tr>\n",
       "      <th>20</th>\n",
       "      <td>0.012214</td>\n",
       "      <td>0.998774</td>\n",
       "      <td>0.998387</td>\n",
       "      <td>1.009844</td>\n",
       "      <td>0.997630</td>\n",
       "      <td>True</td>\n",
       "      <td>0.998598</td>\n",
       "    </tr>\n",
       "    <tr>\n",
       "      <th>21</th>\n",
       "      <td>0.013703</td>\n",
       "      <td>0.999211</td>\n",
       "      <td>0.998836</td>\n",
       "      <td>1.011832</td>\n",
       "      <td>0.998129</td>\n",
       "      <td>True</td>\n",
       "      <td>0.999079</td>\n",
       "    </tr>\n",
       "    <tr>\n",
       "      <th>22</th>\n",
       "      <td>0.014461</td>\n",
       "      <td>0.998993</td>\n",
       "      <td>0.997677</td>\n",
       "      <td>1.011509</td>\n",
       "      <td>0.997048</td>\n",
       "      <td>False</td>\n",
       "      <td>0.998712</td>\n",
       "    </tr>\n",
       "    <tr>\n",
       "      <th>23</th>\n",
       "      <td>0.011011</td>\n",
       "      <td>0.999364</td>\n",
       "      <td>0.999100</td>\n",
       "      <td>1.009529</td>\n",
       "      <td>0.998517</td>\n",
       "      <td>False</td>\n",
       "      <td>0.999247</td>\n",
       "    </tr>\n",
       "    <tr>\n",
       "      <th>24</th>\n",
       "      <td>0.014103</td>\n",
       "      <td>0.998977</td>\n",
       "      <td>0.998567</td>\n",
       "      <td>1.012122</td>\n",
       "      <td>0.998019</td>\n",
       "      <td>False</td>\n",
       "      <td>0.998835</td>\n",
       "    </tr>\n",
       "    <tr>\n",
       "      <th>25</th>\n",
       "      <td>0.006447</td>\n",
       "      <td>0.999410</td>\n",
       "      <td>0.999189</td>\n",
       "      <td>1.005261</td>\n",
       "      <td>0.998815</td>\n",
       "      <td>True</td>\n",
       "      <td>0.999326</td>\n",
       "    </tr>\n",
       "    <tr>\n",
       "      <th>26</th>\n",
       "      <td>0.016990</td>\n",
       "      <td>0.999027</td>\n",
       "      <td>0.998136</td>\n",
       "      <td>1.011780</td>\n",
       "      <td>0.994790</td>\n",
       "      <td>True</td>\n",
       "      <td>0.998838</td>\n",
       "    </tr>\n",
       "    <tr>\n",
       "      <th>27</th>\n",
       "      <td>0.016990</td>\n",
       "      <td>0.999027</td>\n",
       "      <td>0.998136</td>\n",
       "      <td>1.011780</td>\n",
       "      <td>0.994790</td>\n",
       "      <td>True</td>\n",
       "      <td>0.998838</td>\n",
       "    </tr>\n",
       "    <tr>\n",
       "      <th>28</th>\n",
       "      <td>0.014339</td>\n",
       "      <td>0.999073</td>\n",
       "      <td>0.998665</td>\n",
       "      <td>1.012452</td>\n",
       "      <td>0.998113</td>\n",
       "      <td>True</td>\n",
       "      <td>0.998913</td>\n",
       "    </tr>\n",
       "    <tr>\n",
       "      <th>29</th>\n",
       "      <td>0.010584</td>\n",
       "      <td>0.999365</td>\n",
       "      <td>0.998988</td>\n",
       "      <td>1.008661</td>\n",
       "      <td>0.998077</td>\n",
       "      <td>True</td>\n",
       "      <td>0.999264</td>\n",
       "    </tr>\n",
       "    <tr>\n",
       "      <th>30</th>\n",
       "      <td>0.010584</td>\n",
       "      <td>0.999365</td>\n",
       "      <td>0.998988</td>\n",
       "      <td>1.008661</td>\n",
       "      <td>0.998077</td>\n",
       "      <td>True</td>\n",
       "      <td>0.999264</td>\n",
       "    </tr>\n",
       "    <tr>\n",
       "      <th>31</th>\n",
       "      <td>0.036866</td>\n",
       "      <td>0.999342</td>\n",
       "      <td>0.992411</td>\n",
       "      <td>1.026333</td>\n",
       "      <td>0.989467</td>\n",
       "      <td>True</td>\n",
       "      <td>0.999125</td>\n",
       "    </tr>\n",
       "    <tr>\n",
       "      <th>32</th>\n",
       "      <td>0.010706</td>\n",
       "      <td>0.999156</td>\n",
       "      <td>0.998785</td>\n",
       "      <td>1.009093</td>\n",
       "      <td>0.998386</td>\n",
       "      <td>True</td>\n",
       "      <td>0.999006</td>\n",
       "    </tr>\n",
       "    <tr>\n",
       "      <th>33</th>\n",
       "      <td>0.003310</td>\n",
       "      <td>0.999782</td>\n",
       "      <td>0.999469</td>\n",
       "      <td>1.002500</td>\n",
       "      <td>0.999190</td>\n",
       "      <td>True</td>\n",
       "      <td>0.999746</td>\n",
       "    </tr>\n",
       "    <tr>\n",
       "      <th>34</th>\n",
       "      <td>0.011531</td>\n",
       "      <td>0.999225</td>\n",
       "      <td>0.998990</td>\n",
       "      <td>1.009970</td>\n",
       "      <td>0.998440</td>\n",
       "      <td>True</td>\n",
       "      <td>0.999106</td>\n",
       "    </tr>\n",
       "    <tr>\n",
       "      <th>35</th>\n",
       "      <td>0.012423</td>\n",
       "      <td>0.999005</td>\n",
       "      <td>0.998610</td>\n",
       "      <td>1.010314</td>\n",
       "      <td>0.997891</td>\n",
       "      <td>True</td>\n",
       "      <td>0.998868</td>\n",
       "    </tr>\n",
       "    <tr>\n",
       "      <th>36</th>\n",
       "      <td>0.028928</td>\n",
       "      <td>0.999366</td>\n",
       "      <td>0.983857</td>\n",
       "      <td>1.011594</td>\n",
       "      <td>0.982665</td>\n",
       "      <td>True</td>\n",
       "      <td>0.991564</td>\n",
       "    </tr>\n",
       "    <tr>\n",
       "      <th>37</th>\n",
       "      <td>0.019577</td>\n",
       "      <td>0.998827</td>\n",
       "      <td>0.995483</td>\n",
       "      <td>1.013030</td>\n",
       "      <td>0.993453</td>\n",
       "      <td>False</td>\n",
       "      <td>0.998613</td>\n",
       "    </tr>\n",
       "    <tr>\n",
       "      <th>38</th>\n",
       "      <td>0.021882</td>\n",
       "      <td>0.999061</td>\n",
       "      <td>0.998751</td>\n",
       "      <td>1.019814</td>\n",
       "      <td>0.997932</td>\n",
       "      <td>True</td>\n",
       "      <td>0.998941</td>\n",
       "    </tr>\n",
       "    <tr>\n",
       "      <th>39</th>\n",
       "      <td>0.020401</td>\n",
       "      <td>0.999014</td>\n",
       "      <td>0.998585</td>\n",
       "      <td>1.018097</td>\n",
       "      <td>0.997695</td>\n",
       "      <td>True</td>\n",
       "      <td>0.998876</td>\n",
       "    </tr>\n",
       "    <tr>\n",
       "      <th>40</th>\n",
       "      <td>0.020401</td>\n",
       "      <td>0.999014</td>\n",
       "      <td>0.998585</td>\n",
       "      <td>1.018097</td>\n",
       "      <td>0.997695</td>\n",
       "      <td>True</td>\n",
       "      <td>0.998876</td>\n",
       "    </tr>\n",
       "    <tr>\n",
       "      <th>41</th>\n",
       "      <td>0.039216</td>\n",
       "      <td>0.999050</td>\n",
       "      <td>0.998627</td>\n",
       "      <td>1.037101</td>\n",
       "      <td>0.997885</td>\n",
       "      <td>True</td>\n",
       "      <td>0.998928</td>\n",
       "    </tr>\n",
       "    <tr>\n",
       "      <th>42</th>\n",
       "      <td>0.003574</td>\n",
       "      <td>0.999742</td>\n",
       "      <td>0.999505</td>\n",
       "      <td>1.002725</td>\n",
       "      <td>0.999151</td>\n",
       "      <td>True</td>\n",
       "      <td>0.999685</td>\n",
       "    </tr>\n",
       "    <tr>\n",
       "      <th>43</th>\n",
       "      <td>0.003310</td>\n",
       "      <td>0.999782</td>\n",
       "      <td>0.999469</td>\n",
       "      <td>1.002500</td>\n",
       "      <td>0.999190</td>\n",
       "      <td>True</td>\n",
       "      <td>0.999746</td>\n",
       "    </tr>\n",
       "    <tr>\n",
       "      <th>44</th>\n",
       "      <td>0.038941</td>\n",
       "      <td>0.998687</td>\n",
       "      <td>0.985327</td>\n",
       "      <td>1.014317</td>\n",
       "      <td>0.975376</td>\n",
       "      <td>False</td>\n",
       "      <td>0.998304</td>\n",
       "    </tr>\n",
       "    <tr>\n",
       "      <th>45</th>\n",
       "      <td>0.011723</td>\n",
       "      <td>0.998762</td>\n",
       "      <td>0.998104</td>\n",
       "      <td>1.007651</td>\n",
       "      <td>0.995928</td>\n",
       "      <td>True</td>\n",
       "      <td>0.998470</td>\n",
       "    </tr>\n",
       "    <tr>\n",
       "      <th>46</th>\n",
       "      <td>0.011723</td>\n",
       "      <td>0.998762</td>\n",
       "      <td>0.998104</td>\n",
       "      <td>1.007651</td>\n",
       "      <td>0.995928</td>\n",
       "      <td>True</td>\n",
       "      <td>0.998470</td>\n",
       "    </tr>\n",
       "    <tr>\n",
       "      <th>47</th>\n",
       "      <td>0.011723</td>\n",
       "      <td>0.998762</td>\n",
       "      <td>0.998104</td>\n",
       "      <td>1.007651</td>\n",
       "      <td>0.995928</td>\n",
       "      <td>True</td>\n",
       "      <td>0.998470</td>\n",
       "    </tr>\n",
       "    <tr>\n",
       "      <th>48</th>\n",
       "      <td>0.022943</td>\n",
       "      <td>0.998926</td>\n",
       "      <td>0.995387</td>\n",
       "      <td>1.017465</td>\n",
       "      <td>0.994522</td>\n",
       "      <td>True</td>\n",
       "      <td>0.998485</td>\n",
       "    </tr>\n",
       "    <tr>\n",
       "      <th>49</th>\n",
       "      <td>0.016044</td>\n",
       "      <td>0.997838</td>\n",
       "      <td>0.997182</td>\n",
       "      <td>1.010988</td>\n",
       "      <td>0.994944</td>\n",
       "      <td>True</td>\n",
       "      <td>0.997590</td>\n",
       "    </tr>\n",
       "  </tbody>\n",
       "</table>\n",
       "</div>"
      ],
      "text/plain": [
       "       delta  fifthpercent  firstpercent   maximum   minimum  target  \\\n",
       "0   0.004157      0.999170      0.998773  1.002296  0.998139    True   \n",
       "1   0.004157      0.999170      0.998773  1.002296  0.998139    True   \n",
       "2   0.021173      0.995924      0.994854  1.006699  0.985526   False   \n",
       "3   0.020493      0.998810      0.992693  1.012022  0.991529   False   \n",
       "4   0.003358      0.999801      0.999660  1.002780  0.999422   False   \n",
       "5   0.016990      0.999027      0.998136  1.011780  0.994790    True   \n",
       "6   0.015097      1.000090      0.987409  1.001118  0.986021    True   \n",
       "7   0.007174      0.994633      0.993714  1.000743  0.993569    True   \n",
       "8   0.013041      0.999538      0.991328  1.003709  0.990669    True   \n",
       "9   0.003097      0.999817      0.999723  1.002409  0.999312    True   \n",
       "10  0.028587      0.999176      0.996507  1.010865  0.982278   False   \n",
       "11  0.022716      0.998804      0.991506  1.013085  0.990369   False   \n",
       "12  0.081266      0.999166      0.998232  1.009711  0.928445   False   \n",
       "13  0.008177      0.999293      0.998918  1.006517  0.998341    True   \n",
       "14  0.030608      0.998703      0.998176  1.027749  0.997140    True   \n",
       "15  0.012006      0.999106      0.998705  1.010214  0.998208   False   \n",
       "16  0.004176      0.999072      0.998699  1.002486  0.998310    True   \n",
       "17  0.004176      0.999072      0.998699  1.002486  0.998310    True   \n",
       "18  0.004176      0.999072      0.998699  1.002486  0.998310    True   \n",
       "19  0.003138      0.999775      0.999657  1.001985  0.998847   False   \n",
       "20  0.012214      0.998774      0.998387  1.009844  0.997630    True   \n",
       "21  0.013703      0.999211      0.998836  1.011832  0.998129    True   \n",
       "22  0.014461      0.998993      0.997677  1.011509  0.997048   False   \n",
       "23  0.011011      0.999364      0.999100  1.009529  0.998517   False   \n",
       "24  0.014103      0.998977      0.998567  1.012122  0.998019   False   \n",
       "25  0.006447      0.999410      0.999189  1.005261  0.998815    True   \n",
       "26  0.016990      0.999027      0.998136  1.011780  0.994790    True   \n",
       "27  0.016990      0.999027      0.998136  1.011780  0.994790    True   \n",
       "28  0.014339      0.999073      0.998665  1.012452  0.998113    True   \n",
       "29  0.010584      0.999365      0.998988  1.008661  0.998077    True   \n",
       "30  0.010584      0.999365      0.998988  1.008661  0.998077    True   \n",
       "31  0.036866      0.999342      0.992411  1.026333  0.989467    True   \n",
       "32  0.010706      0.999156      0.998785  1.009093  0.998386    True   \n",
       "33  0.003310      0.999782      0.999469  1.002500  0.999190    True   \n",
       "34  0.011531      0.999225      0.998990  1.009970  0.998440    True   \n",
       "35  0.012423      0.999005      0.998610  1.010314  0.997891    True   \n",
       "36  0.028928      0.999366      0.983857  1.011594  0.982665    True   \n",
       "37  0.019577      0.998827      0.995483  1.013030  0.993453   False   \n",
       "38  0.021882      0.999061      0.998751  1.019814  0.997932    True   \n",
       "39  0.020401      0.999014      0.998585  1.018097  0.997695    True   \n",
       "40  0.020401      0.999014      0.998585  1.018097  0.997695    True   \n",
       "41  0.039216      0.999050      0.998627  1.037101  0.997885    True   \n",
       "42  0.003574      0.999742      0.999505  1.002725  0.999151    True   \n",
       "43  0.003310      0.999782      0.999469  1.002500  0.999190    True   \n",
       "44  0.038941      0.998687      0.985327  1.014317  0.975376   False   \n",
       "45  0.011723      0.998762      0.998104  1.007651  0.995928    True   \n",
       "46  0.011723      0.998762      0.998104  1.007651  0.995928    True   \n",
       "47  0.011723      0.998762      0.998104  1.007651  0.995928    True   \n",
       "48  0.022943      0.998926      0.995387  1.017465  0.994522    True   \n",
       "49  0.016044      0.997838      0.997182  1.010988  0.994944    True   \n",
       "\n",
       "    thirdpercent  \n",
       "0       0.999048  \n",
       "1       0.999048  \n",
       "2       0.995604  \n",
       "3       0.996204  \n",
       "4       0.999757  \n",
       "5       0.998838  \n",
       "6       0.998452  \n",
       "7       0.993983  \n",
       "8       0.995176  \n",
       "9       0.999789  \n",
       "10      0.999023  \n",
       "11      0.998366  \n",
       "12      0.999010  \n",
       "13      0.999198  \n",
       "14      0.998487  \n",
       "15      0.998966  \n",
       "16      0.998923  \n",
       "17      0.998923  \n",
       "18      0.998923  \n",
       "19      0.999746  \n",
       "20      0.998598  \n",
       "21      0.999079  \n",
       "22      0.998712  \n",
       "23      0.999247  \n",
       "24      0.998835  \n",
       "25      0.999326  \n",
       "26      0.998838  \n",
       "27      0.998838  \n",
       "28      0.998913  \n",
       "29      0.999264  \n",
       "30      0.999264  \n",
       "31      0.999125  \n",
       "32      0.999006  \n",
       "33      0.999746  \n",
       "34      0.999106  \n",
       "35      0.998868  \n",
       "36      0.991564  \n",
       "37      0.998613  \n",
       "38      0.998941  \n",
       "39      0.998876  \n",
       "40      0.998876  \n",
       "41      0.998928  \n",
       "42      0.999685  \n",
       "43      0.999746  \n",
       "44      0.998304  \n",
       "45      0.998470  \n",
       "46      0.998470  \n",
       "47      0.998470  \n",
       "48      0.998485  \n",
       "49      0.997590  "
      ]
     },
     "execution_count": 17,
     "metadata": {},
     "output_type": "execute_result"
    }
   ],
   "source": [
    "df.head(50)"
   ]
  },
  {
   "cell_type": "code",
   "execution_count": 18,
   "metadata": {},
   "outputs": [],
   "source": [
    "x = df.drop(['target'], axis=1)\n",
    "y = df['target']"
   ]
  },
  {
   "cell_type": "code",
   "execution_count": 19,
   "metadata": {},
   "outputs": [],
   "source": [
    "x_train, x_test, y_train, y_test = train_test_split(x, y, test_size=0.25, random_state=40, stratify=y)"
   ]
  },
  {
   "cell_type": "code",
   "execution_count": null,
   "metadata": {},
   "outputs": [],
   "source": []
  },
  {
   "cell_type": "markdown",
   "metadata": {},
   "source": [
    "# Fixing Class Imbalance"
   ]
  },
  {
   "cell_type": "code",
   "execution_count": 20,
   "metadata": {},
   "outputs": [
    {
     "data": {
      "text/plain": [
       "True     3005\n",
       "False    2908\n",
       "Name: target, dtype: int64"
      ]
     },
     "execution_count": 20,
     "metadata": {},
     "output_type": "execute_result"
    }
   ],
   "source": [
    "train_majority = (y_train==False)\n",
    "train_majority.value_counts()"
   ]
  },
  {
   "cell_type": "code",
   "execution_count": 21,
   "metadata": {},
   "outputs": [],
   "source": [
    "# its actually fine"
   ]
  },
  {
   "cell_type": "code",
   "execution_count": null,
   "metadata": {},
   "outputs": [],
   "source": []
  },
  {
   "cell_type": "markdown",
   "metadata": {},
   "source": [
    "# Modeling: Artificial Neural Net using new feature-engineered DataFrame"
   ]
  },
  {
   "cell_type": "markdown",
   "metadata": {},
   "source": [
    "### Keras2: Define X and Y,  train and test sets"
   ]
  },
  {
   "cell_type": "code",
   "execution_count": 43,
   "metadata": {},
   "outputs": [],
   "source": [
    "x_train_np = np.array(x_train).reshape(5913, 1, 6)\n",
    "y_train_np = np.array(y_train).reshape(5913, 1)\n",
    "\n",
    "x_test_np = np.array(x_test).reshape(1972, 1, 6)\n",
    "y_test_np = np.array(y_test).reshape(1972, 1)"
   ]
  },
  {
   "cell_type": "markdown",
   "metadata": {},
   "source": [
    "---\n",
    "### Keras2: Test for correct backend"
   ]
  },
  {
   "cell_type": "code",
   "execution_count": 44,
   "metadata": {},
   "outputs": [],
   "source": [
    "if K.backend() != 'tensorflow':\n",
    "    raise RuntimeError('This example can only run with the TensorFlow backend,'\n",
    "                       ' because it requires the Datset API, which is not'\n",
    "                       ' supported on other platforms.')"
   ]
  },
  {
   "cell_type": "markdown",
   "metadata": {},
   "source": [
    "---\n",
    "### Keras2: Construct Model Architecture"
   ]
  },
  {
   "cell_type": "code",
   "execution_count": 45,
   "metadata": {},
   "outputs": [],
   "source": [
    "model3 = Sequential()\n",
    "\n",
    "model3.add(Dense(6, input_shape=(1,6), activation='sigmoid'))\n",
    "\n",
    "model3.add(Flatten())\n",
    "\n",
    "model3.add(Dense(5, activation='linear'))\n",
    "#model.add(Dropout(0.25))\n",
    "\n",
    "model3.add(Dense(4, activation='linear'))\n",
    "#model.add(Dropout(0.25))\n",
    "\n",
    "model3.add(Dense(3, activation='linear'))\n",
    "#model.add(Dropout(0.25))\n",
    "\n",
    "model3.add(Dense(1, activation='sigmoid'))"
   ]
  },
  {
   "cell_type": "markdown",
   "metadata": {},
   "source": [
    "---\n",
    "### Keras2 Visualization: shows each layer in the model, and its output"
   ]
  },
  {
   "cell_type": "code",
   "execution_count": 46,
   "metadata": {
    "scrolled": true
   },
   "outputs": [
    {
     "name": "stdout",
     "output_type": "stream",
     "text": [
      "_________________________________________________________________\n",
      "Layer (type)                 Output Shape              Param #   \n",
      "=================================================================\n",
      "dense_1 (Dense)              (None, 1, 6)              42        \n",
      "_________________________________________________________________\n",
      "flatten_1 (Flatten)          (None, 6)                 0         \n",
      "_________________________________________________________________\n",
      "dense_2 (Dense)              (None, 5)                 35        \n",
      "_________________________________________________________________\n",
      "dense_3 (Dense)              (None, 4)                 24        \n",
      "_________________________________________________________________\n",
      "dense_4 (Dense)              (None, 3)                 15        \n",
      "_________________________________________________________________\n",
      "dense_5 (Dense)              (None, 1)                 4         \n",
      "=================================================================\n",
      "Total params: 120\n",
      "Trainable params: 120\n",
      "Non-trainable params: 0\n",
      "_________________________________________________________________\n"
     ]
    }
   ],
   "source": [
    "model3.summary()"
   ]
  },
  {
   "cell_type": "markdown",
   "metadata": {},
   "source": [
    "---\n",
    "### Keras2: Compile Model"
   ]
  },
  {
   "cell_type": "code",
   "execution_count": 47,
   "metadata": {},
   "outputs": [],
   "source": [
    "model3.compile(loss='binary_crossentropy', optimizer='adam', metrics=['accuracy'])"
   ]
  },
  {
   "cell_type": "markdown",
   "metadata": {},
   "source": [
    "---\n",
    "### Keras2: Train the model"
   ]
  },
  {
   "cell_type": "code",
   "execution_count": 48,
   "metadata": {},
   "outputs": [
    {
     "name": "stdout",
     "output_type": "stream",
     "text": [
      "Train on 5913 samples, validate on 1972 samples\n",
      "Epoch 1/10\n",
      "5913/5913 [==============================] - 1s 109us/step - loss: 0.6934 - acc: 0.5062 - val_loss: 0.6928 - val_acc: 0.5081\n",
      "Epoch 2/10\n",
      "5913/5913 [==============================] - 0s 58us/step - loss: 0.6929 - acc: 0.5075 - val_loss: 0.6924 - val_acc: 0.5081\n",
      "Epoch 3/10\n",
      "5913/5913 [==============================] - 0s 58us/step - loss: 0.6928 - acc: 0.5053 - val_loss: 0.6923 - val_acc: 0.5081\n",
      "Epoch 4/10\n",
      "5913/5913 [==============================] - 0s 59us/step - loss: 0.6929 - acc: 0.5038 - val_loss: 0.6922 - val_acc: 0.5081\n",
      "Epoch 5/10\n",
      "5913/5913 [==============================] - 0s 59us/step - loss: 0.6928 - acc: 0.5079 - val_loss: 0.6920 - val_acc: 0.5081\n",
      "Epoch 6/10\n",
      "5913/5913 [==============================] - 0s 59us/step - loss: 0.6927 - acc: 0.5023 - val_loss: 0.6920 - val_acc: 0.5081\n",
      "Epoch 7/10\n",
      "5913/5913 [==============================] - 0s 58us/step - loss: 0.6922 - acc: 0.5082 - val_loss: 0.6929 - val_acc: 0.5081\n",
      "Epoch 8/10\n",
      "5913/5913 [==============================] - 0s 57us/step - loss: 0.6919 - acc: 0.5138 - val_loss: 0.6924 - val_acc: 0.5071\n",
      "Epoch 9/10\n",
      "5913/5913 [==============================] - 0s 58us/step - loss: 0.6918 - acc: 0.5129 - val_loss: 0.6917 - val_acc: 0.5177\n",
      "Epoch 10/10\n",
      "5913/5913 [==============================] - 0s 58us/step - loss: 0.6922 - acc: 0.5111 - val_loss: 0.6915 - val_acc: 0.5081\n"
     ]
    },
    {
     "data": {
      "text/plain": [
       "<keras.callbacks.History at 0x7f7dd4600c18>"
      ]
     },
     "execution_count": 48,
     "metadata": {},
     "output_type": "execute_result"
    }
   ],
   "source": [
    "model3.fit(x_train_np, y_train_np, epochs=10, batch_size=28, validation_data=(x_test_np, y_test_np))"
   ]
  },
  {
   "cell_type": "markdown",
   "metadata": {},
   "source": [
    "---\n",
    "### Keras2: Evaluate the model on test data"
   ]
  },
  {
   "cell_type": "code",
   "execution_count": 49,
   "metadata": {
    "scrolled": false
   },
   "outputs": [
    {
     "name": "stdout",
     "output_type": "stream",
     "text": [
      "1972/1972 [==============================] - 0s 22us/step\n"
     ]
    }
   ],
   "source": [
    "model3.evaluate(x_test_np, y_test_np, verbose=True)\n",
    "y_prob_np = model3.predict_proba(x_test_np)"
   ]
  },
  {
   "cell_type": "markdown",
   "metadata": {},
   "source": [
    "---\n",
    "### Keras2: Model Scorecard"
   ]
  },
  {
   "cell_type": "code",
   "execution_count": 50,
   "metadata": {},
   "outputs": [
    {
     "name": "stdout",
     "output_type": "stream",
     "text": [
      "Accuracy: 50.81%\n",
      "             precision    recall  f1-score   support\n",
      "\n",
      "      False       0.51      1.00      0.67      1002\n",
      "       True       0.00      0.00      0.00       970\n",
      "\n",
      "avg / total       0.26      0.51      0.34      1972\n",
      "\n",
      "[0.6915219016297594, 0.5081135903241426]\n"
     ]
    },
    {
     "name": "stderr",
     "output_type": "stream",
     "text": [
      "/home/ubuntu/anaconda3/lib/python3.6/site-packages/sklearn/metrics/classification.py:1135: UndefinedMetricWarning: Precision and F-score are ill-defined and being set to 0.0 in labels with no predicted samples.\n",
      "  'precision', 'predicted', average, warn_for)\n"
     ]
    }
   ],
   "source": [
    "scores = model3.evaluate(x_test_np, y_test_np, verbose=0)\n",
    "y_prob_np = model3.predict_proba(x_test_np)\n",
    "yhat = predict_with_cutoff(y_prob_np, 0.5)\n",
    "\n",
    "print(\"Accuracy: %.2f%%\" % (scores[1]*100))\n",
    "print(classification_report(y_test_np, yhat))\n",
    "print(scores)"
   ]
  },
  {
   "cell_type": "markdown",
   "metadata": {},
   "source": [
    "---\n",
    "### Keras2: Confusion Matrix"
   ]
  },
  {
   "cell_type": "code",
   "execution_count": 51,
   "metadata": {},
   "outputs": [
    {
     "name": "stdout",
     "output_type": "stream",
     "text": [
      "[[1002    0]\n",
      " [ 970    0]]\n"
     ]
    },
    {
     "data": {
      "image/png": "[encoded data removed]",
      "text/plain": [
       "<matplotlib.figure.Figure at 0x7f7d98480c50>"
      ]
     },
     "metadata": {},
     "output_type": "display_data"
    }
   ],
   "source": [
    "plt.tight_layout()\n",
    "plt.title(\"Keras Confusion Matrix\", fontweight='bold')\n",
    "plt.ylabel('True label', fontweight='bold')\n",
    "plt.xlabel('Predicted label', fontweight='bold')\n",
    "\n",
    "plot_confusion_matrix(metrics.confusion_matrix(y_test_np,yhat), ['Not', 'Exo'])"
   ]
  },
  {
   "cell_type": "markdown",
   "metadata": {},
   "source": [
    "---\n",
    "### Keras2 with Cutoff: Model Scorecard\n",
    "Cutoff at p=0.4734"
   ]
  },
  {
   "cell_type": "code",
   "execution_count": 52,
   "metadata": {},
   "outputs": [
    {
     "name": "stdout",
     "output_type": "stream",
     "text": [
      "Accuracy: 50.81%\n",
      "             precision    recall  f1-score   support\n",
      "\n",
      "      False       0.51      1.00      0.67      1002\n",
      "       True       0.00      0.00      0.00       970\n",
      "\n",
      "avg / total       0.26      0.51      0.34      1972\n",
      "\n",
      "[0.6915219016297594, 0.5081135903241426]\n"
     ]
    },
    {
     "name": "stderr",
     "output_type": "stream",
     "text": [
      "/home/ubuntu/anaconda3/lib/python3.6/site-packages/sklearn/metrics/classification.py:1135: UndefinedMetricWarning: Precision and F-score are ill-defined and being set to 0.0 in labels with no predicted samples.\n",
      "  'precision', 'predicted', average, warn_for)\n"
     ]
    }
   ],
   "source": [
    "scores = model3.evaluate(x_test_np, y_test_np, verbose=0)\n",
    "y_prob_np = model3.predict_proba(x_test_np)\n",
    "yhat = predict_with_cutoff(y_prob_np, 0.4734)\n",
    "\n",
    "print(\"Accuracy: %.2f%%\" % (scores[1]*100))\n",
    "print(classification_report(y_test_np, yhat))\n",
    "print(scores)"
   ]
  },
  {
   "cell_type": "markdown",
   "metadata": {},
   "source": [
    "---\n",
    "### Keras2 with Cutoff: Confusion Matrix"
   ]
  },
  {
   "cell_type": "code",
   "execution_count": 53,
   "metadata": {
    "scrolled": false
   },
   "outputs": [
    {
     "name": "stdout",
     "output_type": "stream",
     "text": [
      "[[1002    0]\n",
      " [ 970    0]]\n"
     ]
    },
    {
     "data": {
      "image/png": "[encoded data removed]",
      "text/plain": [
       "<matplotlib.figure.Figure at 0x7f7d984800b8>"
      ]
     },
     "metadata": {},
     "output_type": "display_data"
    }
   ],
   "source": [
    "plt.tight_layout()\n",
    "plt.title(\"Keras (with Cutoff) Confusion Matrix\", fontweight='bold')\n",
    "plt.ylabel('True label', fontweight='bold')\n",
    "plt.xlabel('Predicted label', fontweight='bold')\n",
    "\n",
    "plot_confusion_matrix(metrics.confusion_matrix(y_test_np,yhat), ['Not', 'Exo'])"
   ]
  },
  {
   "cell_type": "code",
   "execution_count": null,
   "metadata": {},
   "outputs": [],
   "source": []
  },
  {
   "cell_type": "markdown",
   "metadata": {},
   "source": [
    "---------\n",
    "# Modeling: Random Forest"
   ]
  },
  {
   "cell_type": "markdown",
   "metadata": {},
   "source": [
    "### Grid Search Random Forest parameters"
   ]
  },
  {
   "cell_type": "code",
   "execution_count": 24,
   "metadata": {},
   "outputs": [
    {
     "name": "stdout",
     "output_type": "stream",
     "text": [
      "{'max_depth': 16, 'n_estimators': 49}\n"
     ]
    }
   ],
   "source": [
    "rfc = RandomForestClassifier(n_jobs=-1, max_features='sqrt') \n",
    " \n",
    "# Use a grid over parameters of interest\n",
    "param_grid = { \n",
    "           \"n_estimators\" : [49, 50, 51, 52],\n",
    "           \"max_depth\" : [14, 15, 16, 17, 18]}\n",
    " \n",
    "CV_rfc = GridSearchCV(estimator=rfc, param_grid=param_grid, cv= 10)\n",
    "CV_rfc.fit(x_train, y_train)\n",
    "print(CV_rfc.best_params_)"
   ]
  },
  {
   "cell_type": "markdown",
   "metadata": {},
   "source": [
    "--------\n",
    "### Fitting Random Forest"
   ]
  },
  {
   "cell_type": "code",
   "execution_count": 25,
   "metadata": {},
   "outputs": [],
   "source": [
    "randomforest = RandomForestClassifier(class_weight = 'balanced', max_depth=15, n_estimators=51, random_state=76)\n",
    "randomforest.fit(x_train, y_train)\n",
    "\n",
    "y_pred = randomforest.predict(x_test)\n",
    "y_pred_proba = randomforest.predict_proba(x_test)"
   ]
  },
  {
   "cell_type": "markdown",
   "metadata": {},
   "source": [
    "-----\n",
    "### Random Forest: Print Scorecard for Model"
   ]
  },
  {
   "cell_type": "code",
   "execution_count": 26,
   "metadata": {},
   "outputs": [
    {
     "name": "stdout",
     "output_type": "stream",
     "text": [
      "Model accuracy: 66.13%\n",
      "Model F1 Score: 0.69\n",
      "             precision    recall  f1-score   support\n",
      "\n",
      "      False       0.71      0.57      0.63      1002\n",
      "       True       0.63      0.76      0.69       970\n",
      "\n",
      "avg / total       0.67      0.66      0.66      1972\n",
      "\n"
     ]
    }
   ],
   "source": [
    "print(\"Model accuracy: {:.2f}%\".format(randomforest.score(x_test, y_test)*100))\n",
    "print(\"Model F1 Score: {:.2f}\".format(metrics.f1_score(y_pred, y_test)))\n",
    "print(metrics.classification_report(y_test, y_pred))"
   ]
  },
  {
   "cell_type": "markdown",
   "metadata": {},
   "source": [
    "----\n",
    "### Random Forest: Plot ROC Curve and find AUC"
   ]
  },
  {
   "cell_type": "code",
   "execution_count": 27,
   "metadata": {
    "scrolled": true
   },
   "outputs": [
    {
     "name": "stdout",
     "output_type": "stream",
     "text": [
      "AREA UNDER CURVE: 0.7222668065929996\n"
     ]
    },
    {
     "data": {
      "image/png": "[encoded data removed]",
      "text/plain": [
       "<matplotlib.figure.Figure at 0x7f7d9b077eb8>"
      ]
     },
     "metadata": {},
     "output_type": "display_data"
    }
   ],
   "source": [
    "y_score=randomforest.predict_proba(x_test)[:,1]\n",
    "\n",
    "fpr, tpr,_ = roc_curve(y_test, y_score)\n",
    "roc_auc = auc(fpr, tpr)\n",
    "\n",
    "plt.figure()\n",
    "plt.plot([0,1],[0,1])\n",
    "plt.plot(fpr,tpr)\n",
    "plt.title(\"RANDOM FOREST ROC CURVE\", fontweight='bold')\n",
    "plt.xlabel('False Positive Rate', fontweight='bold')\n",
    "plt.ylabel('True Positive Rate', fontweight='bold')\n",
    "print(\"AREA UNDER CURVE: \"+str(roc_auc));"
   ]
  },
  {
   "cell_type": "markdown",
   "metadata": {},
   "source": [
    "----\n",
    "### Random Forest: Confusion Matrix"
   ]
  },
  {
   "cell_type": "code",
   "execution_count": 28,
   "metadata": {},
   "outputs": [
    {
     "name": "stdout",
     "output_type": "stream",
     "text": [
      "[[570 432]\n",
      " [236 734]]\n"
     ]
    },
    {
     "data": {
      "image/png": "[encoded data removed]",
      "text/plain": [
       "<matplotlib.figure.Figure at 0x7f7d9b050518>"
      ]
     },
     "metadata": {},
     "output_type": "display_data"
    }
   ],
   "source": [
    "# Print a lovely confusion matrix\n",
    "\n",
    "plt.tight_layout()\n",
    "plt.title(\"Random Forest Confusion Matrix\", fontweight='bold')\n",
    "plt.ylabel('True label', fontweight='bold')\n",
    "plt.xlabel('Predicted label', fontweight='bold')\n",
    "\n",
    "plot_confusion_matrix(metrics.confusion_matrix(y_test,y_pred), ['Not', 'Exo'])"
   ]
  },
  {
   "cell_type": "markdown",
   "metadata": {},
   "source": [
    "-----\n",
    "### Random Forest: Plot Probability Density Functions for each class"
   ]
  },
  {
   "cell_type": "code",
   "execution_count": 29,
   "metadata": {},
   "outputs": [],
   "source": [
    "ypredprobatrue = []\n",
    "for i in range(len(y_pred_proba)):\n",
    "    ypredprobatrue.append(y_pred_proba[i][0])\n",
    "    \n",
    "ypredprobafalse = []\n",
    "for i in range(len(y_pred_proba)):\n",
    "    ypredprobafalse.append(y_pred_proba[i][1])"
   ]
  },
  {
   "cell_type": "code",
   "execution_count": 30,
   "metadata": {},
   "outputs": [
    {
     "data": {
      "text/plain": [
       "''"
      ]
     },
     "execution_count": 30,
     "metadata": {},
     "output_type": "execute_result"
    },
    {
     "data": {
      "image/png": "[encoded data removed]",
      "text/plain": [
       "<matplotlib.figure.Figure at 0x7f7dd4c94e80>"
      ]
     },
     "metadata": {},
     "output_type": "display_data"
    }
   ],
   "source": [
    "true_data = ypredprobatrue\n",
    "false_data = ypredprobafalse\n",
    "\n",
    "kde1 = gaussian_kde(true_data)\n",
    "kde2 = gaussian_kde(false_data)\n",
    "\n",
    "dist_space1 = linspace(min(true_data), max(true_data), 100)\n",
    "dist_space2 = linspace(min(false_data), max(false_data), 100)\n",
    "\n",
    "plt.plot(dist_space1, kde1(dist_space1))\n",
    "plt.plot(dist_space2, kde2(dist_space2))\n",
    "plt.legend(\"TF\")\n",
    "plt.title(\"Random Forest Probability Distributions\", fontweight='bold')\n",
    "plt.ylabel('Probability', fontweight='bold')\n",
    "plt.xlabel('Predicted label', fontweight='bold')\n",
    ";"
   ]
  },
  {
   "cell_type": "markdown",
   "metadata": {},
   "source": [
    "----\n",
    "### Random Forest: Bar Plot of Feature Importances"
   ]
  },
  {
   "cell_type": "code",
   "execution_count": 31,
   "metadata": {},
   "outputs": [
    {
     "name": "stdout",
     "output_type": "stream",
     "text": [
      "Feature ranking:\n",
      "1. delta (0.191784)\n",
      "2. minimum (0.191261)\n",
      "3. maximum (0.157485)\n",
      "4. fifth percentile (0.156246)\n",
      "5. third percentile (0.154118)\n",
      "6. first percentile (0.149105)\n"
     ]
    },
    {
     "data": {
      "image/png": "[encoded data removed]",
      "text/plain": [
       "<matplotlib.figure.Figure at 0x7f7dd487ac88>"
      ]
     },
     "metadata": {},
     "output_type": "display_data"
    }
   ],
   "source": [
    "#forest.fit(X, y)\n",
    "importances = randomforest.feature_importances_\n",
    "std = np.std([tree.feature_importances_ for tree in randomforest.estimators_],\n",
    "             axis=0)\n",
    "indices = np.argsort(importances)[::-1]\n",
    "\n",
    "names = ['delta', 'minimum', 'maximum', 'fifth percentile', 'third percentile', 'first percentile']\n",
    "\n",
    "# Print the feature ranking\n",
    "print(\"Feature ranking:\")\n",
    "\n",
    "for f in range(x_test.shape[1]):\n",
    "    print(\"%d. %s (%f)\" % (f + 1, names[f], importances[indices[f]]))\n",
    "\n",
    "\n",
    "plt.rcdefaults()\n",
    "fig, ax = plt.subplots()\n",
    "ax.barh(range(x_test.shape[1]), importances[indices],color=\"green\", align=\"center\",)\n",
    "ax.set_yticks(range(x_test.shape[1]), names)\n",
    "ax.set_yticklabels(names)\n",
    "ax.invert_yaxis()  # labels read top-to-bottom\n",
    "ax.set_xlabel('Proportion Used in Random Forest Model')\n",
    "ax.set_title('Feature Importances', fontweight='bold');"
   ]
  },
  {
   "cell_type": "code",
   "execution_count": null,
   "metadata": {},
   "outputs": [],
   "source": []
  },
  {
   "cell_type": "markdown",
   "metadata": {},
   "source": [
    "----\n",
    "# Modeling: Logistic Regression"
   ]
  },
  {
   "cell_type": "markdown",
   "metadata": {},
   "source": [
    "### Logistic Regression: Fit the Model"
   ]
  },
  {
   "cell_type": "code",
   "execution_count": 32,
   "metadata": {},
   "outputs": [],
   "source": [
    "logistic = LogisticRegression(class_weight='balanced', random_state=135)\n",
    "\n",
    "logistic.fit(x_train,y_train)\n",
    "y_pred = logistic.predict(x_test)\n",
    "y_pred_proba = logistic.predict_proba(x_test)"
   ]
  },
  {
   "cell_type": "markdown",
   "metadata": {},
   "source": [
    "---\n",
    "### Logistic Regression: Print a nice Scorecard for the model"
   ]
  },
  {
   "cell_type": "code",
   "execution_count": 33,
   "metadata": {},
   "outputs": [
    {
     "name": "stdout",
     "output_type": "stream",
     "text": [
      "Model accuracy: 56.77%\n",
      "Model F1 Score: 0.68\n",
      "             precision    recall  f1-score   support\n",
      "\n",
      "      False       0.78      0.21      0.34      1002\n",
      "       True       0.54      0.94      0.68       970\n",
      "\n",
      "avg / total       0.66      0.57      0.51      1972\n",
      "\n"
     ]
    }
   ],
   "source": [
    "# Print a nice little score card for this model\n",
    "# do you need to normalize?\n",
    "\n",
    "print(\"Model accuracy: {:.2f}%\".format(logistic.score(x_train, y_train)*100))\n",
    "print(\"Model F1 Score: {:.2f}\".format(metrics.f1_score(y_pred, y_test)))\n",
    "print(metrics.classification_report(y_test, logistic.predict(x_test)))"
   ]
  },
  {
   "cell_type": "markdown",
   "metadata": {},
   "source": [
    "---\n",
    "### Logistic Regression: Plot ROC Curve and find AUC"
   ]
  },
  {
   "cell_type": "code",
   "execution_count": 34,
   "metadata": {},
   "outputs": [
    {
     "name": "stdout",
     "output_type": "stream",
     "text": [
      "AREA UNDER CURVE: 0.5685623598164495\n"
     ]
    },
    {
     "data": {
      "image/png": "[encoded data removed]",
      "text/plain": [
       "<matplotlib.figure.Figure at 0x7f7dd4d08cf8>"
      ]
     },
     "metadata": {},
     "output_type": "display_data"
    }
   ],
   "source": [
    "# Plot ROC Curve and print AUC\n",
    "\n",
    "y_score=logistic.predict_proba(x_test)[:,1]\n",
    "\n",
    "fpr, tpr,_ = roc_curve(y_test, y_score)\n",
    "roc_auc = auc(fpr, tpr)\n",
    "\n",
    "plt.figure()\n",
    "# Plotting our Baseline..\n",
    "plt.plot([0,1],[0,1])\n",
    "plt.plot(fpr,tpr)\n",
    "plt.title(\"LOGISTIC REGRESSION ROC CURVE\", fontweight=\"bold\")\n",
    "plt.xlabel('False Positive Rate', fontweight=\"bold\")\n",
    "plt.ylabel('True Positive Rate', fontweight='bold')\n",
    "print(\"AREA UNDER CURVE: \"+str(roc_auc));"
   ]
  },
  {
   "cell_type": "markdown",
   "metadata": {},
   "source": [
    "---\n",
    "### Logistic Regression: Print Confusion Matrix"
   ]
  },
  {
   "cell_type": "code",
   "execution_count": 35,
   "metadata": {},
   "outputs": [
    {
     "name": "stdout",
     "output_type": "stream",
     "text": [
      "[[215 787]\n",
      " [ 60 910]]\n"
     ]
    },
    {
     "data": {
      "image/png": "[encoded data removed]",
      "text/plain": [
       "<matplotlib.figure.Figure at 0x7f7dd4ccbf28>"
      ]
     },
     "metadata": {},
     "output_type": "display_data"
    }
   ],
   "source": [
    "# Print a lovely confusion matrix\n",
    "\n",
    "plt.tight_layout()\n",
    "plt.title(\"Log. Reg. Confusion Matrix\", fontweight='bold')\n",
    "plt.ylabel('True label', fontweight=\"bold\")\n",
    "plt.xlabel('Predicted label', fontweight='bold')\n",
    "\n",
    "plot_confusion_matrix(metrics.confusion_matrix(y_test,y_pred), ['Not', 'Exo'])"
   ]
  },
  {
   "cell_type": "markdown",
   "metadata": {},
   "source": [
    "---\n",
    "### Logistic Regression with Cutoff: Print Scorecard and Confusion Matrix\n",
    "set cutoff probability at 0.24"
   ]
  },
  {
   "cell_type": "code",
   "execution_count": 36,
   "metadata": {},
   "outputs": [],
   "source": [
    "y_pred_prob = []\n",
    "for i in range(len(y_pred_proba)):\n",
    "    y_pred_prob.append(y_pred_proba[i][1])"
   ]
  },
  {
   "cell_type": "code",
   "execution_count": 37,
   "metadata": {},
   "outputs": [
    {
     "name": "stdout",
     "output_type": "stream",
     "text": [
      "             precision    recall  f1-score   support\n",
      "\n",
      "      False       0.96      0.05      0.09      1002\n",
      "       True       0.50      1.00      0.67       970\n",
      "\n",
      "avg / total       0.74      0.52      0.38      1972\n",
      "\n",
      "[[ 49 953]\n",
      " [  2 968]]\n"
     ]
    },
    {
     "data": {
      "image/png": "[encoded data removed]",
      "text/plain": [
       "<matplotlib.figure.Figure at 0x7f7dd47d2ef0>"
      ]
     },
     "metadata": {},
     "output_type": "display_data"
    }
   ],
   "source": [
    "yhat = predict_with_cutoff(y_pred_prob, 0.24)\n",
    "print(classification_report(y_test, yhat))\n",
    "\n",
    "plt.tight_layout()\n",
    "plt.title(\"Log. Reg. Confusion Matrix\", fontweight='bold')\n",
    "plt.ylabel('True label', fontweight=\"bold\")\n",
    "plt.xlabel('Predicted label', fontweight='bold')\n",
    "\n",
    "plot_confusion_matrix(metrics.confusion_matrix(y_test,yhat), ['Not', 'Exo'])"
   ]
  },
  {
   "cell_type": "code",
   "execution_count": null,
   "metadata": {},
   "outputs": [],
   "source": []
  },
  {
   "cell_type": "markdown",
   "metadata": {},
   "source": [
    "---\n",
    "# Modeling: Decision Tree"
   ]
  },
  {
   "cell_type": "markdown",
   "metadata": {},
   "source": [
    "\n",
    "### Decision Tree: Grid Search hyperparameters"
   ]
  },
  {
   "cell_type": "code",
   "execution_count": 38,
   "metadata": {},
   "outputs": [
    {
     "name": "stdout",
     "output_type": "stream",
     "text": [
      "{'max_depth': 8}\n"
     ]
    }
   ],
   "source": [
    "dtc = DecisionTreeClassifier(splitter='best') \n",
    " \n",
    "# Use a grid over parameters of interest\n",
    "param_grid = { \"max_depth\" : [2, 4, 6, 8, 10, 12, 14, 16, 18, 20, 22, 24, 26, 28, 30, 32, 34, 36, 38, 40]}\n",
    " \n",
    "CV_dtc = GridSearchCV(estimator=dtc, param_grid=param_grid, cv= 10)\n",
    "CV_dtc.fit(x_train, y_train)\n",
    "print(CV_dtc.best_params_)"
   ]
  },
  {
   "cell_type": "markdown",
   "metadata": {},
   "source": [
    "---\n",
    "### Decision Tree: Fit the Model"
   ]
  },
  {
   "cell_type": "code",
   "execution_count": 39,
   "metadata": {},
   "outputs": [],
   "source": [
    "# Fit a Decision Tree model to the data, with max_depth=60\n",
    "\n",
    "decisiontree = DecisionTreeClassifier(class_weight = 'balanced', max_depth=8)\n",
    "decisiontree.fit(x_train, y_train)\n",
    "y_pred = decisiontree.predict(x_test)\n"
   ]
  },
  {
   "cell_type": "markdown",
   "metadata": {},
   "source": [
    "---\n",
    "### Decision Tree: Model Scorecard"
   ]
  },
  {
   "cell_type": "code",
   "execution_count": 40,
   "metadata": {
    "scrolled": true
   },
   "outputs": [
    {
     "name": "stdout",
     "output_type": "stream",
     "text": [
      "Model accuracy: 60.85%\n",
      "Model F1 Score: 0.67\n",
      "             precision    recall  f1-score   support\n",
      "\n",
      "      False       0.68      0.43      0.53      1002\n",
      "       True       0.57      0.79      0.67       970\n",
      "\n",
      "avg / total       0.63      0.61      0.60      1972\n",
      "\n"
     ]
    }
   ],
   "source": [
    "# Print a nice little score card for this model\n",
    "\n",
    "print(\"Model accuracy: {:.2f}%\".format(decisiontree.score(x_test, y_test)*100))\n",
    "print(\"Model F1 Score: {:.2f}\".format(metrics.f1_score(y_pred, y_test)))\n",
    "print(metrics.classification_report(y_test, decisiontree.predict(x_test)))"
   ]
  },
  {
   "cell_type": "markdown",
   "metadata": {},
   "source": [
    "---\n",
    "### Decision Tree: ROC Curve and AUC"
   ]
  },
  {
   "cell_type": "code",
   "execution_count": 41,
   "metadata": {},
   "outputs": [
    {
     "name": "stdout",
     "output_type": "stream",
     "text": [
      "AREA UNDER CURVE: 0.6264620244047986\n"
     ]
    },
    {
     "data": {
      "image/png": "[encoded data removed]",
      "text/plain": [
       "<matplotlib.figure.Figure at 0x7f7dd46b4710>"
      ]
     },
     "metadata": {},
     "output_type": "display_data"
    }
   ],
   "source": [
    "# Plot the ROC Curve and print AUC\n",
    "\n",
    "y_score=decisiontree.predict_proba(x_test)[:,1]\n",
    "\n",
    "fpr, tpr,_ = roc_curve(y_test, y_score)\n",
    "roc_auc = auc(fpr, tpr)\n",
    "\n",
    "plt.figure()\n",
    "# Plotting our Baseline..\n",
    "plt.plot([0,1],[0,1])\n",
    "plt.plot(fpr,tpr)\n",
    "plt.title(\"DECISION TREE ROC CURVE\", fontweight='bold')\n",
    "plt.xlabel('False Positive Rate', fontweight='bold')\n",
    "plt.ylabel('True Positive Rate', fontweight='bold')\n",
    "print(\"AREA UNDER CURVE: \"+str(roc_auc));"
   ]
  },
  {
   "cell_type": "markdown",
   "metadata": {},
   "source": [
    "---\n",
    "### Decision Tree: Print Confusion Matrix"
   ]
  },
  {
   "cell_type": "code",
   "execution_count": 42,
   "metadata": {
    "scrolled": false
   },
   "outputs": [
    {
     "name": "stdout",
     "output_type": "stream",
     "text": [
      "[[433 569]\n",
      " [203 767]]\n"
     ]
    },
    {
     "data": {
      "image/png": "[encoded data removed]",
      "text/plain": [
       "<matplotlib.figure.Figure at 0x7f7dd46f1c88>"
      ]
     },
     "metadata": {},
     "output_type": "display_data"
    }
   ],
   "source": [
    "# Print a lovely confusion matrix\n",
    "\n",
    "plt.tight_layout()\n",
    "plt.title(\"Decision Tree Confusion Matrix\", fontweight='bold')\n",
    "plt.ylabel('True label', fontweight='bold')\n",
    "plt.xlabel('Predicted label', fontweight='bold')\n",
    "\n",
    "plot_confusion_matrix(metrics.confusion_matrix(y_test,y_pred), ['Not', 'Exo'])"
   ]
  },
  {
   "cell_type": "code",
   "execution_count": null,
   "metadata": {},
   "outputs": [],
   "source": []
  },
  {
   "cell_type": "markdown",
   "metadata": {},
   "source": [
    "# Model Aggregating: Random Forest with Random Forest"
   ]
  },
  {
   "cell_type": "markdown",
   "metadata": {},
   "source": [
    "### RF+RF: Fit First Layer"
   ]
  },
  {
   "cell_type": "code",
   "execution_count": 54,
   "metadata": {},
   "outputs": [],
   "source": [
    "randomforest1 = RandomForestClassifier(class_weight = 'balanced', max_depth=15, n_estimators=51, random_state=76)\n",
    "randomforest1.fit(x_train, y_train)\n",
    "\n",
    "y_pred1 = randomforest1.predict(x_test)\n",
    "ypredictproba1 = randomforest1.predict_proba(x_test)\n",
    "#ypredictproba1 = ypredictproba1[1]"
   ]
  },
  {
   "cell_type": "markdown",
   "metadata": {},
   "source": [
    "---\n",
    "### RF+RF: Store Layer1 Results in Dictionaries"
   ]
  },
  {
   "cell_type": "code",
   "execution_count": 55,
   "metadata": {},
   "outputs": [],
   "source": [
    "exo_dict = {}\n",
    "for i in range(len(y_test)):\n",
    "    ytestpredict = ypredictproba1[i][1]\n",
    "    if ytestpredict > 0.5:\n",
    "        exo_dict[x_test.index[i]] = True\n",
    "\n",
    "        \n",
    "        \n",
    "aggregated_dict = {}\n",
    "for i in range(len(y_test)):\n",
    "    ytestpredict = ypredictproba1[i][1]\n",
    "    if ytestpredict <= 0.5:\n",
    "        aggregated_dict[x_test.index[i]] = False"
   ]
  },
  {
   "cell_type": "markdown",
   "metadata": {},
   "source": [
    "---\n",
    "### RF+RF: Create smaller df using Positive results of 1st Layer"
   ]
  },
  {
   "cell_type": "code",
   "execution_count": 56,
   "metadata": {},
   "outputs": [],
   "source": [
    "df2 = df.loc[exo_dict.keys()]\n",
    "\n",
    "x2 = df2.drop(['target'], axis=1)\n",
    "y2 = df2['target']\n",
    "\n",
    "x_train2, x_test2, y_train2, y_test2 = train_test_split(x2, y2, test_size=0.25, random_state=40, stratify=y2)"
   ]
  },
  {
   "cell_type": "markdown",
   "metadata": {},
   "source": [
    "----\n",
    "### RF+RF: Fit Second Layer"
   ]
  },
  {
   "cell_type": "code",
   "execution_count": 57,
   "metadata": {},
   "outputs": [],
   "source": [
    "randomforest2 = RandomForestClassifier(class_weight = 'balanced', max_depth=18, n_estimators=21, random_state=76)\n",
    "\n",
    "randomforest2.fit(x_train2,y_train2)\n",
    "y_pred2 = randomforest2.predict(x_test2)\n",
    "ypredictproba2 = randomforest2.predict_proba(x_test2)"
   ]
  },
  {
   "cell_type": "markdown",
   "metadata": {},
   "source": [
    "---\n",
    "### RF+RF: Store Layer2 Results in Dictionaries"
   ]
  },
  {
   "cell_type": "code",
   "execution_count": 58,
   "metadata": {},
   "outputs": [],
   "source": [
    "aggregated_dict2 = {}\n",
    "for i in range(len(y_test2)):\n",
    "    ytestpredict = ypredictproba2[i][1]\n",
    "    if ytestpredict > 0.45:\n",
    "        aggregated_dict2[y_test2.index[i]] = True\n",
    "\n",
    "\n",
    "for i in range(len(y_test2)):\n",
    "    ytestpredict = ypredictproba2[i][1]\n",
    "    if ytestpredict <= 0.45:\n",
    "        aggregated_dict2[y_test2.index[i]] = False"
   ]
  },
  {
   "cell_type": "markdown",
   "metadata": {},
   "source": [
    "---\n",
    "### RF+RF: Print Scorecard for Layer2"
   ]
  },
  {
   "cell_type": "code",
   "execution_count": 59,
   "metadata": {},
   "outputs": [
    {
     "name": "stdout",
     "output_type": "stream",
     "text": [
      "Model accuracy: 58.90%\n",
      "Model F1 Score: 0.72\n",
      "             precision    recall  f1-score   support\n",
      "\n",
      "      False       0.41      0.22      0.29       108\n",
      "       True       0.64      0.82      0.72       184\n",
      "\n",
      "avg / total       0.56      0.60      0.56       292\n",
      "\n"
     ]
    }
   ],
   "source": [
    "aggregated_array = list(aggregated_dict2.values())\n",
    "#print(classification_report(y_test2, yhat))\n",
    "#plot_confusion_matrix(metrics.confusion_matrix(y_test2,yhat), ['Not', 'Exo'])\n",
    "\n",
    "\n",
    "print(\"Model accuracy: {:.2f}%\".format(randomforest2.score(x_test2, y_test2)*100))\n",
    "print(\"Model F1 Score: {:.2f}\".format(metrics.f1_score(aggregated_array, y_test2)))\n",
    "print(classification_report(y_test2,aggregated_array))"
   ]
  },
  {
   "cell_type": "markdown",
   "metadata": {},
   "source": [
    "---\n",
    "### RF+RF: Confusion Matrix for Layer2"
   ]
  },
  {
   "cell_type": "code",
   "execution_count": 60,
   "metadata": {
    "scrolled": true
   },
   "outputs": [
    {
     "name": "stdout",
     "output_type": "stream",
     "text": [
      "[[ 24  84]\n",
      " [ 34 150]]\n"
     ]
    },
    {
     "data": {
      "image/png": "[encoded data removed]",
      "text/plain": [
       "<matplotlib.figure.Figure at 0x7f7d984708d0>"
      ]
     },
     "metadata": {},
     "output_type": "display_data"
    }
   ],
   "source": [
    "plot_confusion_matrix(metrics.confusion_matrix(y_test2,aggregated_array), ['Not', 'Exo'])"
   ]
  },
  {
   "cell_type": "markdown",
   "metadata": {},
   "source": [
    "---\n",
    "### RF+RF: Print ROC and find AUC for Layer2"
   ]
  },
  {
   "cell_type": "code",
   "execution_count": 61,
   "metadata": {},
   "outputs": [
    {
     "name": "stdout",
     "output_type": "stream",
     "text": [
      "AREA UNDER CURVE: 0.5760869565217391\n"
     ]
    },
    {
     "data": {
      "image/png": "[encoded data removed]",
      "text/plain": [
       "<matplotlib.figure.Figure at 0x7f7dd4699668>"
      ]
     },
     "metadata": {},
     "output_type": "display_data"
    }
   ],
   "source": [
    "y_score=randomforest2.predict_proba(x_test2)[:,1]\n",
    "\n",
    "fpr, tpr,_ = roc_curve(y_test2, y_score)\n",
    "roc_auc = auc(fpr, tpr)\n",
    "\n",
    "plt.figure()\n",
    "# Plotting our Baseline..\n",
    "plt.plot([0,1],[0,1])\n",
    "plt.plot(fpr,tpr)\n",
    "plt.title(\"DECISION TREE ROC CURVE\", fontweight='bold')\n",
    "plt.xlabel('False Positive Rate', fontweight='bold')\n",
    "plt.ylabel('True Positive Rate', fontweight='bold')\n",
    "print(\"AREA UNDER CURVE: \"+str(roc_auc));"
   ]
  },
  {
   "cell_type": "code",
   "execution_count": null,
   "metadata": {},
   "outputs": [],
   "source": []
  },
  {
   "cell_type": "markdown",
   "metadata": {},
   "source": [
    "---\n",
    "# Model Aggregating: Random Forest with Decision Tree"
   ]
  },
  {
   "cell_type": "markdown",
   "metadata": {},
   "source": [
    "### RF+DT: Fit First Layer"
   ]
  },
  {
   "cell_type": "code",
   "execution_count": 62,
   "metadata": {},
   "outputs": [],
   "source": [
    "randomforest1 = RandomForestClassifier(class_weight = 'balanced', max_depth=15, n_estimators=51, random_state=76)\n",
    "randomforest1.fit(x_train, y_train)\n",
    "\n",
    "y_pred1 = randomforest1.predict(x_test)\n",
    "ypredictproba1 = randomforest1.predict_proba(x_test)"
   ]
  },
  {
   "cell_type": "markdown",
   "metadata": {},
   "source": [
    "---\n",
    "### RF+DT: Store Layer1 Results in Dictionaries\n",
    "Cutoff at p=0.5"
   ]
  },
  {
   "cell_type": "code",
   "execution_count": 63,
   "metadata": {},
   "outputs": [],
   "source": [
    "exo_dict = {}\n",
    "for i in range(len(y_test)):\n",
    "    ytestpredict = ypredictproba1[i][1]\n",
    "    if ytestpredict > 0.5:\n",
    "        exo_dict[x_test.index[i]] = True\n",
    "\n",
    "        \n",
    "        \n",
    "aggregated_dict = {}\n",
    "for i in range(len(y_test)):\n",
    "    ytestpredict = ypredictproba1[i][1]\n",
    "    if ytestpredict <= 0.5:\n",
    "        aggregated_dict[x_test.index[i]] = False"
   ]
  },
  {
   "cell_type": "markdown",
   "metadata": {},
   "source": [
    "---\n",
    "### RF+DT: Creat Smaller df using Positive results of Layer1"
   ]
  },
  {
   "cell_type": "code",
   "execution_count": 64,
   "metadata": {},
   "outputs": [],
   "source": [
    "df2 = df.loc[exo_dict.keys()]\n",
    "\n",
    "#df2 = df2.reset_index(drop=True)\n",
    "x2 = df2.drop(['target'], axis=1)\n",
    "y2 = df2['target']\n",
    "\n",
    "x_train2, x_test2, y_train2, y_test2 = train_test_split(x2, y2, test_size=0.25, random_state=40, stratify=y2)"
   ]
  },
  {
   "cell_type": "markdown",
   "metadata": {},
   "source": [
    "---\n",
    "### RF+DT: Fit Second Layer"
   ]
  },
  {
   "cell_type": "code",
   "execution_count": 65,
   "metadata": {},
   "outputs": [],
   "source": [
    "decisiontree2 = DecisionTreeClassifier(class_weight = 'balanced', max_depth=8, random_state=8)\n",
    "\n",
    "decisiontree2.fit(x_train2,y_train2)\n",
    "y_pred2 = decisiontree2.predict(x_test2)\n",
    "ypredictproba2 = decisiontree2.predict_proba(x_test2)"
   ]
  },
  {
   "cell_type": "markdown",
   "metadata": {},
   "source": [
    "---\n",
    "### RF+DT: Store Layer2 Results in Dictionary\n",
    "Cutoff at p=0.47"
   ]
  },
  {
   "cell_type": "code",
   "execution_count": 66,
   "metadata": {},
   "outputs": [],
   "source": [
    "aggregated_dict2 = {}\n",
    "for i in range(len(y_test2)):\n",
    "    ytestpredict = ypredictproba2[i][1]\n",
    "    if ytestpredict > 0.47:\n",
    "        aggregated_dict2[y_test2.index[i]] = True\n",
    "\n",
    "for i in range(len(y_test2)):\n",
    "    ytestpredict = ypredictproba2[i][1]\n",
    "    if ytestpredict <= 0.47:\n",
    "        aggregated_dict2[y_test2.index[i]] = False"
   ]
  },
  {
   "cell_type": "markdown",
   "metadata": {},
   "source": [
    "---\n",
    "### RF+DT: Print Scorecard for Layer2"
   ]
  },
  {
   "cell_type": "code",
   "execution_count": 67,
   "metadata": {},
   "outputs": [
    {
     "name": "stdout",
     "output_type": "stream",
     "text": [
      "Model accuracy: 52.74%\n",
      "Model F1 Score: 0.73\n",
      "             precision    recall  f1-score   support\n",
      "\n",
      "      False       0.38      0.13      0.19       108\n",
      "       True       0.63      0.88      0.73       184\n",
      "\n",
      "avg / total       0.54      0.60      0.53       292\n",
      "\n"
     ]
    }
   ],
   "source": [
    "aggregated_array = list(aggregated_dict2.values())\n",
    "\n",
    "print(\"Model accuracy: {:.2f}%\".format(decisiontree2.score(x_test2, y_test2)*100))\n",
    "print(\"Model F1 Score: {:.2f}\".format(metrics.f1_score(aggregated_array, y_test2)))\n",
    "print(classification_report(y_test2,aggregated_array))"
   ]
  },
  {
   "cell_type": "markdown",
   "metadata": {},
   "source": [
    "---\n",
    "### RF+DT: Confusion Matrix for Layer2"
   ]
  },
  {
   "cell_type": "code",
   "execution_count": 68,
   "metadata": {
    "scrolled": true
   },
   "outputs": [
    {
     "name": "stdout",
     "output_type": "stream",
     "text": [
      "[[ 14  94]\n",
      " [ 23 161]]\n"
     ]
    },
    {
     "data": {
      "image/png": "[encoded data removed]",
      "text/plain": [
       "<matplotlib.figure.Figure at 0x7f7d9a845da0>"
      ]
     },
     "metadata": {},
     "output_type": "display_data"
    }
   ],
   "source": [
    "plot_confusion_matrix(metrics.confusion_matrix(y_test2,aggregated_array), ['Not', 'Exo'])"
   ]
  },
  {
   "cell_type": "markdown",
   "metadata": {},
   "source": [
    "---\n",
    "### RF+DT: Plot ROC and find AUC for Layer2"
   ]
  },
  {
   "cell_type": "code",
   "execution_count": 69,
   "metadata": {},
   "outputs": [
    {
     "name": "stdout",
     "output_type": "stream",
     "text": [
      "AREA UNDER CURVE: 0.5685386473429952\n"
     ]
    },
    {
     "data": {
      "image/png": "[encoded data removed]",
      "text/plain": [
       "<matplotlib.figure.Figure at 0x7f7d9a8e8470>"
      ]
     },
     "metadata": {},
     "output_type": "display_data"
    }
   ],
   "source": [
    "y_score=decisiontree2.predict_proba(x_test2)[:,1]\n",
    "\n",
    "fpr, tpr,_ = roc_curve(y_test2, y_score)\n",
    "roc_auc = auc(fpr, tpr)\n",
    "\n",
    "plt.figure()\n",
    "# Plotting our Baseline..\n",
    "plt.plot([0,1],[0,1])\n",
    "plt.plot(fpr,tpr)\n",
    "plt.title(\"DECISION TREE ROC CURVE\", fontweight='bold')\n",
    "plt.xlabel('False Positive Rate', fontweight='bold')\n",
    "plt.ylabel('True Positive Rate', fontweight='bold')\n",
    "print(\"AREA UNDER CURVE: \"+str(roc_auc));"
   ]
  },
  {
   "cell_type": "code",
   "execution_count": null,
   "metadata": {},
   "outputs": [],
   "source": []
  },
  {
   "cell_type": "markdown",
   "metadata": {},
   "source": [
    "# Aggregating Logistic Regression with Logistic Regression"
   ]
  },
  {
   "cell_type": "markdown",
   "metadata": {},
   "source": [
    "### LR+LR: Fit First Layer"
   ]
  },
  {
   "cell_type": "code",
   "execution_count": 70,
   "metadata": {},
   "outputs": [],
   "source": [
    "logistic1 = LogisticRegression(class_weight='balanced', \n",
    "                               random_state=135, \n",
    "                               verbose=0)\n",
    "\n",
    "logistic1.fit(x_train, y_train)\n",
    "\n",
    "y_pred1 = logistic1.predict(x_test)\n",
    "ypredictproba1 = logistic1.predict_proba(x_test)"
   ]
  },
  {
   "cell_type": "markdown",
   "metadata": {},
   "source": [
    "---\n",
    "### LR+LR: Store Layer1 Results in Dictionaries\n",
    "Cutoff = 0.24"
   ]
  },
  {
   "cell_type": "code",
   "execution_count": 71,
   "metadata": {},
   "outputs": [],
   "source": [
    "exo_dict = {}\n",
    "for i in range(len(y_test)):\n",
    "    ytestpredict = ypredictproba1[i][1]\n",
    "    if ytestpredict > 0.24:\n",
    "        exo_dict[x_test.index[i]] = True\n",
    "\n",
    "        \n",
    "        \n",
    "aggregated_dict = {}\n",
    "for i in range(len(y_test)):\n",
    "    ytestpredict = ypredictproba1[i][1]\n",
    "    if ytestpredict <= 0.24:\n",
    "        aggregated_dict[x_test.index[i]] = False"
   ]
  },
  {
   "cell_type": "markdown",
   "metadata": {},
   "source": [
    "---\n",
    "### LR+LR: Create smaller df using positive results from Layer1"
   ]
  },
  {
   "cell_type": "code",
   "execution_count": 72,
   "metadata": {},
   "outputs": [],
   "source": [
    "df2 = df.loc[exo_dict.keys()]\n",
    "\n",
    "#df2 = df2.reset_index(drop=True)\n",
    "x2 = df2.drop(['target'], axis=1)\n",
    "y2 = df2['target']\n",
    "\n",
    "x_train2, x_test2, y_train2, y_test2 = train_test_split(x2, y2, test_size=0.25, random_state=40, stratify=y2)"
   ]
  },
  {
   "cell_type": "markdown",
   "metadata": {},
   "source": [
    "---\n",
    "### LR+LR: Fit Second Layer"
   ]
  },
  {
   "cell_type": "code",
   "execution_count": 73,
   "metadata": {},
   "outputs": [],
   "source": [
    "logistic2 = LogisticRegression(class_weight = 'balanced',random_state=8,verbose=0)\n",
    "\n",
    "logistic2.fit(x_train2,y_train2)\n",
    "y_pred2 = logistic2.predict(x_test2)\n",
    "ypredictproba2 = logistic2.predict_proba(x_test2)"
   ]
  },
  {
   "cell_type": "markdown",
   "metadata": {},
   "source": [
    "---\n",
    "### LR+LR: Store Layer2 Results in Dictionary\n",
    "Cutoff at p=0.495"
   ]
  },
  {
   "cell_type": "code",
   "execution_count": 74,
   "metadata": {},
   "outputs": [],
   "source": [
    "aggregated_dict2 = {}\n",
    "for i in range(len(y_test2)):\n",
    "    ytestpredict = ypredictproba2[i][1]\n",
    "    if ytestpredict > 0.495:\n",
    "        aggregated_dict2[y_test2.index[i]] = True\n",
    "\n",
    "\n",
    "#non_exo_dict2 = {}\n",
    "for i in range(len(y_test2)):\n",
    "    ytestpredict = ypredictproba2[i][1]\n",
    "    if ytestpredict <= 0.495:\n",
    "        aggregated_dict2[y_test2.index[i]] = False"
   ]
  },
  {
   "cell_type": "markdown",
   "metadata": {},
   "source": [
    "---\n",
    "### LR+LR: Scorecard for Layer2"
   ]
  },
  {
   "cell_type": "code",
   "execution_count": 75,
   "metadata": {},
   "outputs": [
    {
     "name": "stdout",
     "output_type": "stream",
     "text": [
      "Model accuracy: 53.64%\n",
      "Model F1 Score: 0.65\n",
      "             precision    recall  f1-score   support\n",
      "\n",
      "      False       0.52      0.10      0.17       239\n",
      "       True       0.51      0.90      0.65       242\n",
      "\n",
      "avg / total       0.51      0.51      0.41       481\n",
      "\n"
     ]
    }
   ],
   "source": [
    "aggregated_array = list(aggregated_dict2.values())\n",
    "#print(classification_report(y_test2, yhat))\n",
    "#plot_confusion_matrix(metrics.confusion_matrix(y_test2,yhat), ['Not', 'Exo'])\n",
    "\n",
    "print(\"Model accuracy: {:.2f}%\".format(logistic2.score(x_test2, y_test2)*100))\n",
    "print(\"Model F1 Score: {:.2f}\".format(metrics.f1_score(aggregated_array, y_test2)))\n",
    "print(classification_report(y_test2,aggregated_array))"
   ]
  },
  {
   "cell_type": "markdown",
   "metadata": {},
   "source": [
    "---\n",
    "### LR+LR: Confusion Matrix for Layer2"
   ]
  },
  {
   "cell_type": "code",
   "execution_count": 76,
   "metadata": {
    "scrolled": true
   },
   "outputs": [
    {
     "name": "stdout",
     "output_type": "stream",
     "text": [
      "[[ 25 214]\n",
      " [ 23 219]]\n"
     ]
    },
    {
     "data": {
      "image/png": "[encoded data removed]",
      "text/plain": [
       "<matplotlib.figure.Figure at 0x7f7d9b15dc18>"
      ]
     },
     "metadata": {},
     "output_type": "display_data"
    }
   ],
   "source": [
    "plot_confusion_matrix(metrics.confusion_matrix(y_test2,aggregated_array), ['Not', 'Exo'])"
   ]
  },
  {
   "cell_type": "markdown",
   "metadata": {},
   "source": [
    "---\n",
    "### LR+LR: Plot ROC and find AUC"
   ]
  },
  {
   "cell_type": "code",
   "execution_count": 77,
   "metadata": {
    "scrolled": true
   },
   "outputs": [
    {
     "name": "stdout",
     "output_type": "stream",
     "text": [
      "AREA UNDER CURVE: 0.5220097513745289\n"
     ]
    },
    {
     "data": {
      "image/png": "[encoded data removed]",
      "text/plain": [
       "<matplotlib.figure.Figure at 0x7f7d9b161780>"
      ]
     },
     "metadata": {},
     "output_type": "display_data"
    }
   ],
   "source": [
    "y_score=logistic2.predict_proba(x_test2)[:,1]\n",
    "\n",
    "fpr, tpr,_ = roc_curve(y_test2, y_score)\n",
    "roc_auc = auc(fpr, tpr)\n",
    "\n",
    "plt.figure()\n",
    "# Plotting our Baseline..\n",
    "plt.plot([0,1],[0,1])\n",
    "plt.plot(fpr,tpr)\n",
    "plt.title(\"DECISION TREE ROC CURVE\", fontweight='bold')\n",
    "plt.xlabel('False Positive Rate', fontweight='bold')\n",
    "plt.ylabel('True Positive Rate', fontweight='bold')\n",
    "print(\"AREA UNDER CURVE: \"+str(roc_auc));"
   ]
  },
  {
   "cell_type": "code",
   "execution_count": null,
   "metadata": {},
   "outputs": [],
   "source": []
  },
  {
   "cell_type": "code",
   "execution_count": null,
   "metadata": {},
   "outputs": [],
   "source": []
  }
 ],
 "metadata": {
  "kernelspec": {
   "display_name": "Python 3",
   "language": "python",
   "name": "python3"
  },
  "language_info": {
   "codemirror_mode": {
    "name": "ipython",
    "version": 3
   },
   "file_extension": ".py",
   "mimetype": "text/x-python",
   "name": "python",
   "nbconvert_exporter": "python",
   "pygments_lexer": "ipython3",
   "version": "3.6.4"
  }
 },
 "nbformat": 4,
 "nbformat_minor": 2
}
