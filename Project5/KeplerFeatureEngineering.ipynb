{
 "cells": [
  {
   "cell_type": "code",
   "execution_count": 49,
   "metadata": {},
   "outputs": [],
   "source": [
    "import numpy as np\n",
    "import pandas as pd\n",
    "from lightkurve import KeplerTargetPixelFile\n",
    "import csv\n",
    "from tqdm import tqdm\n",
    "from sklearn.cross_validation import train_test_split\n",
    "from sklearn.utils import resample\n",
    "import matplotlib.pyplot as plt\n",
    "from sklearn.ensemble import RandomForestClassifier\n",
    "from sklearn.linear_model import LogisticRegression\n",
    "from sklearn.tree import DecisionTreeClassifier\n",
    "from sklearn import metrics\n",
    "from sklearn.metrics import roc_curve, auc\n",
    "import itertools"
   ]
  },
  {
   "cell_type": "code",
   "execution_count": 23,
   "metadata": {},
   "outputs": [],
   "source": [
    "# I will create my own dataset that is more indicative of the data at hand."
   ]
  },
  {
   "cell_type": "code",
   "execution_count": 3,
   "metadata": {},
   "outputs": [],
   "source": [
    "# columns I want:\n",
    "# 1. Kepler ID = index\n",
    "# 2. Minimum(flux)\n",
    "# 3. Maximum(flux)\n",
    "# 4. Delta\n",
    "# 5. first percentile of flux\n",
    "# 6. 3rd percentile of flux\n",
    "# 7. 5th percentile of flux\n",
    "# 8. Target label"
   ]
  },
  {
   "cell_type": "code",
   "execution_count": 4,
   "metadata": {},
   "outputs": [],
   "source": [
    "xtrain = np.load('xtrainfile2.npy')\n",
    "xtest = np.load('xtestfile2.npy')"
   ]
  },
  {
   "cell_type": "code",
   "execution_count": 5,
   "metadata": {},
   "outputs": [],
   "source": [
    "ytrain = np.load('ytrainfile3.npy')\n",
    "ytest = np.load('ytestfile3.npy')"
   ]
  },
  {
   "cell_type": "code",
   "execution_count": 6,
   "metadata": {},
   "outputs": [
    {
     "name": "stdout",
     "output_type": "stream",
     "text": [
      "(2160, 1626)\n",
      "(5725, 1626)\n",
      "(5727,)\n",
      "(2161,)\n"
     ]
    }
   ],
   "source": [
    "print(xtest.shape)\n",
    "print(xtrain.shape)\n",
    "print(ytrain.shape)\n",
    "print(ytest.shape)"
   ]
  },
  {
   "cell_type": "code",
   "execution_count": 7,
   "metadata": {},
   "outputs": [],
   "source": [
    "# find the minimum value for each vector\n",
    "# put it in a list\n",
    "\n",
    "minimum = []\n",
    "for i in range(len(xtrain)):\n",
    "    minimum.append(np.amin(xtrain[i]))\n",
    "for i in range(len(xtest)):\n",
    "    minimum.append(np.amin(xtest[i]))"
   ]
  },
  {
   "cell_type": "code",
   "execution_count": 8,
   "metadata": {},
   "outputs": [],
   "source": [
    "# find the maximum value for each vector\n",
    "# put it in a list\n",
    "\n",
    "maximum = []\n",
    "for i in range(len(xtrain)):\n",
    "    maximum.append(np.amax(xtrain[i]))\n",
    "for i in range(len(xtest)):\n",
    "    maximum.append(np.amax(xtest[i]))"
   ]
  },
  {
   "cell_type": "code",
   "execution_count": 9,
   "metadata": {},
   "outputs": [],
   "source": [
    "# find the first percentile\n",
    "# put it all in a list\n",
    "\n",
    "first = []\n",
    "for i in range(len(xtrain)):\n",
    "    first.append(np.percentile(xtrain[i], 1))\n",
    "for i in range(len(xtest)):\n",
    "    first.append(np.percentile(xtest[i], 1))"
   ]
  },
  {
   "cell_type": "code",
   "execution_count": 10,
   "metadata": {},
   "outputs": [],
   "source": [
    "# find the third percentile\n",
    "# put it all in a list\n",
    "\n",
    "third = []\n",
    "for i in range(len(xtrain)):\n",
    "    third.append(np.percentile(xtrain[i], 3))\n",
    "for i in range(len(xtest)):\n",
    "    third.append(np.percentile(xtest[i], 3))"
   ]
  },
  {
   "cell_type": "code",
   "execution_count": 11,
   "metadata": {},
   "outputs": [],
   "source": [
    "# find the 5th percentile\n",
    "# put it all in a list\n",
    "\n",
    "fifth = []\n",
    "for i in range(len(xtrain)):\n",
    "    fifth.append(np.percentile(xtrain[i], 5))\n",
    "for i in range(len(xtest)):\n",
    "    fifth.append(np.percentile(xtest[i], 5))"
   ]
  },
  {
   "cell_type": "code",
   "execution_count": 12,
   "metadata": {},
   "outputs": [],
   "source": [
    "# create delta between min and max\n",
    "delta = []\n",
    "for i in range(len(xtrain)):\n",
    "    delta.append(maximum[i]-minimum[i])\n",
    "for i in range(len(xtest)):\n",
    "    delta.append(maximum[i]-minimum[i])"
   ]
  },
  {
   "cell_type": "code",
   "execution_count": 13,
   "metadata": {},
   "outputs": [
    {
     "data": {
      "text/plain": [
       "array([0. , 0. , 0.5, ..., 0.5, 0. , 0. ])"
      ]
     },
     "execution_count": 13,
     "metadata": {},
     "output_type": "execute_result"
    }
   ],
   "source": [
    "ytest"
   ]
  },
  {
   "cell_type": "code",
   "execution_count": 14,
   "metadata": {
    "scrolled": true
   },
   "outputs": [],
   "source": [
    "# create target values\n",
    "target = []\n",
    "for i in range(len(xtrain)):\n",
    "    target.append(ytrain[i])\n",
    "for i in range(len(xtest)):\n",
    "    target.append(ytest[i])"
   ]
  },
  {
   "cell_type": "code",
   "execution_count": 30,
   "metadata": {},
   "outputs": [],
   "source": [
    "df = pd.DataFrame({'minimum': minimum,\n",
    "                   'maximum': maximum,\n",
    "                   'delta': delta,\n",
    "                   'firstpercent': first,\n",
    "                   'thirdpercent': third,\n",
    "                   'fifthpercent': fifth,\n",
    "                   'target': target})"
   ]
  },
  {
   "cell_type": "code",
   "execution_count": 31,
   "metadata": {},
   "outputs": [
    {
     "data": {
      "text/html": [
       "<div>\n",
       "<style scoped>\n",
       "    .dataframe tbody tr th:only-of-type {\n",
       "        vertical-align: middle;\n",
       "    }\n",
       "\n",
       "    .dataframe tbody tr th {\n",
       "        vertical-align: top;\n",
       "    }\n",
       "\n",
       "    .dataframe thead th {\n",
       "        text-align: right;\n",
       "    }\n",
       "</style>\n",
       "<table border=\"1\" class=\"dataframe\">\n",
       "  <thead>\n",
       "    <tr style=\"text-align: right;\">\n",
       "      <th></th>\n",
       "      <th>delta</th>\n",
       "      <th>fifthpercent</th>\n",
       "      <th>firstpercent</th>\n",
       "      <th>maximum</th>\n",
       "      <th>minimum</th>\n",
       "      <th>target</th>\n",
       "      <th>thirdpercent</th>\n",
       "    </tr>\n",
       "  </thead>\n",
       "  <tbody>\n",
       "    <tr>\n",
       "      <th>0</th>\n",
       "      <td>0.004157</td>\n",
       "      <td>0.999170</td>\n",
       "      <td>0.998773</td>\n",
       "      <td>1.002296</td>\n",
       "      <td>0.998139</td>\n",
       "      <td>0.5</td>\n",
       "      <td>0.999048</td>\n",
       "    </tr>\n",
       "    <tr>\n",
       "      <th>1</th>\n",
       "      <td>0.004157</td>\n",
       "      <td>0.999170</td>\n",
       "      <td>0.998773</td>\n",
       "      <td>1.002296</td>\n",
       "      <td>0.998139</td>\n",
       "      <td>0.5</td>\n",
       "      <td>0.999048</td>\n",
       "    </tr>\n",
       "    <tr>\n",
       "      <th>2</th>\n",
       "      <td>0.021173</td>\n",
       "      <td>0.995924</td>\n",
       "      <td>0.994854</td>\n",
       "      <td>1.006699</td>\n",
       "      <td>0.985526</td>\n",
       "      <td>0.0</td>\n",
       "      <td>0.995604</td>\n",
       "    </tr>\n",
       "    <tr>\n",
       "      <th>3</th>\n",
       "      <td>0.020493</td>\n",
       "      <td>0.998810</td>\n",
       "      <td>0.992693</td>\n",
       "      <td>1.012022</td>\n",
       "      <td>0.991529</td>\n",
       "      <td>0.0</td>\n",
       "      <td>0.996204</td>\n",
       "    </tr>\n",
       "    <tr>\n",
       "      <th>4</th>\n",
       "      <td>0.003358</td>\n",
       "      <td>0.999801</td>\n",
       "      <td>0.999660</td>\n",
       "      <td>1.002780</td>\n",
       "      <td>0.999422</td>\n",
       "      <td>0.0</td>\n",
       "      <td>0.999757</td>\n",
       "    </tr>\n",
       "  </tbody>\n",
       "</table>\n",
       "</div>"
      ],
      "text/plain": [
       "      delta  fifthpercent  firstpercent   maximum   minimum  target  \\\n",
       "0  0.004157      0.999170      0.998773  1.002296  0.998139     0.5   \n",
       "1  0.004157      0.999170      0.998773  1.002296  0.998139     0.5   \n",
       "2  0.021173      0.995924      0.994854  1.006699  0.985526     0.0   \n",
       "3  0.020493      0.998810      0.992693  1.012022  0.991529     0.0   \n",
       "4  0.003358      0.999801      0.999660  1.002780  0.999422     0.0   \n",
       "\n",
       "   thirdpercent  \n",
       "0      0.999048  \n",
       "1      0.999048  \n",
       "2      0.995604  \n",
       "3      0.996204  \n",
       "4      0.999757  "
      ]
     },
     "execution_count": 31,
     "metadata": {},
     "output_type": "execute_result"
    }
   ],
   "source": [
    "df.head()"
   ]
  },
  {
   "cell_type": "markdown",
   "metadata": {},
   "source": [
    "# Create Training and Test Sets"
   ]
  },
  {
   "cell_type": "code",
   "execution_count": 32,
   "metadata": {},
   "outputs": [],
   "source": [
    "df['target'] = (df[\"target\"] == 0.5)"
   ]
  },
  {
   "cell_type": "code",
   "execution_count": 33,
   "metadata": {},
   "outputs": [
    {
     "data": {
      "text/html": [
       "<div>\n",
       "<style scoped>\n",
       "    .dataframe tbody tr th:only-of-type {\n",
       "        vertical-align: middle;\n",
       "    }\n",
       "\n",
       "    .dataframe tbody tr th {\n",
       "        vertical-align: top;\n",
       "    }\n",
       "\n",
       "    .dataframe thead th {\n",
       "        text-align: right;\n",
       "    }\n",
       "</style>\n",
       "<table border=\"1\" class=\"dataframe\">\n",
       "  <thead>\n",
       "    <tr style=\"text-align: right;\">\n",
       "      <th></th>\n",
       "      <th>delta</th>\n",
       "      <th>fifthpercent</th>\n",
       "      <th>firstpercent</th>\n",
       "      <th>maximum</th>\n",
       "      <th>minimum</th>\n",
       "      <th>target</th>\n",
       "      <th>thirdpercent</th>\n",
       "    </tr>\n",
       "  </thead>\n",
       "  <tbody>\n",
       "    <tr>\n",
       "      <th>0</th>\n",
       "      <td>0.004157</td>\n",
       "      <td>0.999170</td>\n",
       "      <td>0.998773</td>\n",
       "      <td>1.002296</td>\n",
       "      <td>0.998139</td>\n",
       "      <td>True</td>\n",
       "      <td>0.999048</td>\n",
       "    </tr>\n",
       "    <tr>\n",
       "      <th>1</th>\n",
       "      <td>0.004157</td>\n",
       "      <td>0.999170</td>\n",
       "      <td>0.998773</td>\n",
       "      <td>1.002296</td>\n",
       "      <td>0.998139</td>\n",
       "      <td>True</td>\n",
       "      <td>0.999048</td>\n",
       "    </tr>\n",
       "    <tr>\n",
       "      <th>2</th>\n",
       "      <td>0.021173</td>\n",
       "      <td>0.995924</td>\n",
       "      <td>0.994854</td>\n",
       "      <td>1.006699</td>\n",
       "      <td>0.985526</td>\n",
       "      <td>False</td>\n",
       "      <td>0.995604</td>\n",
       "    </tr>\n",
       "    <tr>\n",
       "      <th>3</th>\n",
       "      <td>0.020493</td>\n",
       "      <td>0.998810</td>\n",
       "      <td>0.992693</td>\n",
       "      <td>1.012022</td>\n",
       "      <td>0.991529</td>\n",
       "      <td>False</td>\n",
       "      <td>0.996204</td>\n",
       "    </tr>\n",
       "    <tr>\n",
       "      <th>4</th>\n",
       "      <td>0.003358</td>\n",
       "      <td>0.999801</td>\n",
       "      <td>0.999660</td>\n",
       "      <td>1.002780</td>\n",
       "      <td>0.999422</td>\n",
       "      <td>False</td>\n",
       "      <td>0.999757</td>\n",
       "    </tr>\n",
       "  </tbody>\n",
       "</table>\n",
       "</div>"
      ],
      "text/plain": [
       "      delta  fifthpercent  firstpercent   maximum   minimum  target  \\\n",
       "0  0.004157      0.999170      0.998773  1.002296  0.998139    True   \n",
       "1  0.004157      0.999170      0.998773  1.002296  0.998139    True   \n",
       "2  0.021173      0.995924      0.994854  1.006699  0.985526   False   \n",
       "3  0.020493      0.998810      0.992693  1.012022  0.991529   False   \n",
       "4  0.003358      0.999801      0.999660  1.002780  0.999422   False   \n",
       "\n",
       "   thirdpercent  \n",
       "0      0.999048  \n",
       "1      0.999048  \n",
       "2      0.995604  \n",
       "3      0.996204  \n",
       "4      0.999757  "
      ]
     },
     "execution_count": 33,
     "metadata": {},
     "output_type": "execute_result"
    }
   ],
   "source": [
    "df.head()"
   ]
  },
  {
   "cell_type": "code",
   "execution_count": 34,
   "metadata": {},
   "outputs": [],
   "source": [
    "x = df.drop(['target'], axis=1)\n",
    "y = df['target']"
   ]
  },
  {
   "cell_type": "code",
   "execution_count": 35,
   "metadata": {},
   "outputs": [],
   "source": [
    "x_train, x_test, y_train, y_test = train_test_split(x, y, test_size=0.25, random_state=40, stratify=y)"
   ]
  },
  {
   "cell_type": "code",
   "execution_count": null,
   "metadata": {},
   "outputs": [],
   "source": []
  },
  {
   "cell_type": "markdown",
   "metadata": {},
   "source": [
    "# Fixing Class Imbalance"
   ]
  },
  {
   "cell_type": "code",
   "execution_count": 38,
   "metadata": {},
   "outputs": [
    {
     "data": {
      "text/plain": [
       "True     3005\n",
       "False    2908\n",
       "Name: target, dtype: int64"
      ]
     },
     "execution_count": 38,
     "metadata": {},
     "output_type": "execute_result"
    }
   ],
   "source": [
    "train_majority = (y_train==False)\n",
    "train_majority.value_counts()"
   ]
  },
  {
   "cell_type": "code",
   "execution_count": null,
   "metadata": {},
   "outputs": [],
   "source": [
    "# its actually fine"
   ]
  },
  {
   "cell_type": "markdown",
   "metadata": {},
   "source": [
    "# Function to Plot Confusion Matrices"
   ]
  },
  {
   "cell_type": "code",
   "execution_count": 47,
   "metadata": {},
   "outputs": [],
   "source": [
    "# define a function to draw beautiful confusion matrix!\n",
    "\n",
    "def plot_confusion_matrix(cm, classes,\n",
    "                         normalize=False,\n",
    "                         title='Confusion matrix',\n",
    "                         cmap=plt.cm.Reds):\n",
    "\n",
    "    print(cm)\n",
    "\n",
    "    plt.imshow(cm, interpolation='nearest', cmap=cmap)\n",
    "    plt.colorbar()\n",
    "    tick_marks = np.arange(len(classes))\n",
    "    plt.xticks(tick_marks, classes, rotation=45)\n",
    "    plt.yticks(tick_marks, classes)\n",
    "\n",
    "    fmt = '.2f' if normalize else 'd'\n",
    "    thresh = cm.max() / 2.\n",
    "    for i, j in itertools.product(range(cm.shape[0]), range(cm.shape[1])):\n",
    "        plt.text(j, i, format(cm[i, j], fmt),\n",
    "             horizontalalignment=\"center\",\n",
    "             color=\"white\" if cm[i, j] > thresh else \"black\")"
   ]
  },
  {
   "cell_type": "markdown",
   "metadata": {},
   "source": [
    "# Modeling\n",
    "### Random Forest"
   ]
  },
  {
   "cell_type": "code",
   "execution_count": 67,
   "metadata": {},
   "outputs": [],
   "source": [
    "from sklearn.ensemble import RandomForestClassifier"
   ]
  },
  {
   "cell_type": "code",
   "execution_count": 68,
   "metadata": {},
   "outputs": [],
   "source": [
    "parameters = {'max_depth': list(range(1,20)), 'n_estimators': list(range(1,100))}\n"
   ]
  },
  {
   "cell_type": "code",
   "execution_count": 39,
   "metadata": {},
   "outputs": [],
   "source": [
    "# Fit a Random Forest Model to the dataset\n",
    "\n",
    "randomforest = RandomForestClassifier(class_weight = 'balanced', max_depth=20, n_estimators=100, random_state=76)\n",
    "randomforest.fit(x_train, y_train)\n",
    "\n",
    "#y_pred_proba = randomforest.predict_proba(x_test)[:,1]\n",
    "#threshold = 0.4\n",
    "#y_cutoff = np.where(y_pred_proba >= threshold, 1, 0)\n",
    "y_pred = randomforest.predict(x_test)"
   ]
  },
  {
   "cell_type": "code",
   "execution_count": 42,
   "metadata": {},
   "outputs": [
    {
     "name": "stdout",
     "output_type": "stream",
     "text": [
      "Model accuracy: 97.26%\n",
      "Model F1 Score: 0.67\n",
      "             precision    recall  f1-score   support\n",
      "\n",
      "      False       0.68      0.61      0.65      1002\n",
      "       True       0.64      0.71      0.67       970\n",
      "\n",
      "avg / total       0.66      0.66      0.66      1972\n",
      "\n"
     ]
    }
   ],
   "source": [
    "# Print a nice little score card for this model\n",
    "\n",
    "print(\"Model accuracy: {:.2f}%\".format(randomforest.score(x_train, y_train)*100))\n",
    "print(\"Model F1 Score: {:.2f}\".format(metrics.f1_score(y_pred, y_test)))\n",
    "#print(metrics.classification_report(y1test, randomforest.predict(x1test_norm)))\n",
    "print(metrics.classification_report(y_test, y_pred))"
   ]
  },
  {
   "cell_type": "code",
   "execution_count": 45,
   "metadata": {
    "scrolled": true
   },
   "outputs": [
    {
     "name": "stdout",
     "output_type": "stream",
     "text": [
      "AREA UNDER CURVE: 0.726492376072597\n"
     ]
    },
    {
     "data": {
      "image/png": "[encoded data removed]",
      "text/plain": [
       "<matplotlib.figure.Figure at 0x7ff12a3866a0>"
      ]
     },
     "metadata": {},
     "output_type": "display_data"
    }
   ],
   "source": [
    "# Plot the ROC Curve and print the AUC\n",
    "\n",
    "y_score=randomforest.predict_proba(x_test)[:,1]\n",
    "\n",
    "fpr, tpr,_ = roc_curve(y_test, y_score)\n",
    "roc_auc = auc(fpr, tpr)\n",
    "\n",
    "plt.figure()\n",
    "# Plotting our Baseline..\n",
    "plt.plot([0,1],[0,1])\n",
    "plt.plot(fpr,tpr)\n",
    "plt.title(\"RANDOM FOREST ROC CURVE\", fontweight='bold')\n",
    "plt.xlabel('False Positive Rate', fontweight='bold')\n",
    "plt.ylabel('True Positive Rate', fontweight='bold')\n",
    "print(\"AREA UNDER CURVE: \"+str(roc_auc));"
   ]
  },
  {
   "cell_type": "code",
   "execution_count": 52,
   "metadata": {},
   "outputs": [
    {
     "name": "stdout",
     "output_type": "stream",
     "text": [
      "[[613 389]\n",
      " [282 688]]\n"
     ]
    },
    {
     "data": {
      "image/png": "[encoded data removed]",
      "text/plain": [
       "<matplotlib.figure.Figure at 0x7ff12a32c400>"
      ]
     },
     "metadata": {},
     "output_type": "display_data"
    }
   ],
   "source": [
    "# Print a lovely confusion matrix\n",
    "\n",
    "plt.tight_layout()\n",
    "plt.title(\"Random Forest Confusion Matrix\", fontweight='bold')\n",
    "plt.ylabel('True label', fontweight='bold')\n",
    "plt.xlabel('Predicted label', fontweight='bold')\n",
    "\n",
    "plot_confusion_matrix(metrics.confusion_matrix(y_test,y_pred), ['Exoplanet', 'Not'])"
   ]
  },
  {
   "cell_type": "code",
   "execution_count": null,
   "metadata": {},
   "outputs": [],
   "source": []
  },
  {
   "cell_type": "markdown",
   "metadata": {},
   "source": [
    "# Modeling\n",
    "### Logistic Regression"
   ]
  },
  {
   "cell_type": "code",
   "execution_count": 53,
   "metadata": {},
   "outputs": [],
   "source": [
    "# fit a logistic regression model, print the f1 score\n",
    "\n",
    "logistic = LogisticRegression(penalty='l2', \n",
    "                              dual=True, \n",
    "                              tol=0.0001, \n",
    "                              C=200.0, \n",
    "                              fit_intercept=True, \n",
    "                              intercept_scaling=1, \n",
    "                              class_weight='balanced', \n",
    "                              random_state=135, \n",
    "                              solver='liblinear', \n",
    "                              max_iter=100, \n",
    "                              multi_class='ovr', \n",
    "                              verbose=0, warm_start=False, n_jobs=1)\n",
    "logistic.fit(x_train,y_train)\n",
    "y_pred = logistic.predict(x_test)"
   ]
  },
  {
   "cell_type": "code",
   "execution_count": 54,
   "metadata": {},
   "outputs": [
    {
     "name": "stdout",
     "output_type": "stream",
     "text": [
      "Model accuracy: 50.82%\n",
      "Model F1 Score: 0.00\n",
      "             precision    recall  f1-score   support\n",
      "\n",
      "      False       0.51      1.00      0.67      1002\n",
      "       True       0.00      0.00      0.00       970\n",
      "\n",
      "avg / total       0.26      0.51      0.34      1972\n",
      "\n"
     ]
    },
    {
     "name": "stderr",
     "output_type": "stream",
     "text": [
      "/home/ubuntu/anaconda3/lib/python3.6/site-packages/sklearn/metrics/classification.py:1137: UndefinedMetricWarning: F-score is ill-defined and being set to 0.0 due to no true samples.\n",
      "  'recall', 'true', average, warn_for)\n",
      "/home/ubuntu/anaconda3/lib/python3.6/site-packages/sklearn/metrics/classification.py:1135: UndefinedMetricWarning: Precision and F-score are ill-defined and being set to 0.0 in labels with no predicted samples.\n",
      "  'precision', 'predicted', average, warn_for)\n"
     ]
    }
   ],
   "source": [
    "# Print a nice little score card for this model\n",
    "# do you need to normalize?\n",
    "\n",
    "print(\"Model accuracy: {:.2f}%\".format(logistic.score(x_train, y_train)*100))\n",
    "print(\"Model F1 Score: {:.2f}\".format(metrics.f1_score(y_pred, y_test)))\n",
    "print(metrics.classification_report(y_test, logistic.predict(x_test)))"
   ]
  },
  {
   "cell_type": "code",
   "execution_count": 55,
   "metadata": {},
   "outputs": [
    {
     "name": "stdout",
     "output_type": "stream",
     "text": [
      "AREA UNDER CURVE: 0.5678925653846945\n"
     ]
    },
    {
     "data": {
      "image/png": "[encoded data removed]",
      "text/plain": [
       "<matplotlib.figure.Figure at 0x7ff1282712e8>"
      ]
     },
     "metadata": {},
     "output_type": "display_data"
    }
   ],
   "source": [
    "# Plot ROC Curve and print AUC\n",
    "\n",
    "y_score=logistic.predict_proba(x_test)[:,1]\n",
    "\n",
    "fpr, tpr,_ = roc_curve(y_test, y_score)\n",
    "roc_auc = auc(fpr, tpr)\n",
    "\n",
    "plt.figure()\n",
    "# Plotting our Baseline..\n",
    "plt.plot([0,1],[0,1])\n",
    "plt.plot(fpr,tpr)\n",
    "plt.title(\"LOGISTIC REGRESSION ROC CURVE\", fontweight=\"bold\")\n",
    "plt.xlabel('False Positive Rate', fontweight=\"bold\")\n",
    "plt.ylabel('True Positive Rate', fontweight='bold')\n",
    "print(\"AREA UNDER CURVE: \"+str(roc_auc));"
   ]
  },
  {
   "cell_type": "code",
   "execution_count": 56,
   "metadata": {},
   "outputs": [
    {
     "name": "stdout",
     "output_type": "stream",
     "text": [
      "[[1002    0]\n",
      " [ 970    0]]\n"
     ]
    },
    {
     "data": {
      "image/png": "[encoded data removed]",
      "text/plain": [
       "<matplotlib.figure.Figure at 0x7ff12a29dfd0>"
      ]
     },
     "metadata": {},
     "output_type": "display_data"
    }
   ],
   "source": [
    "# Print a lovely confusion matrix\n",
    "\n",
    "plt.tight_layout()\n",
    "plt.title(\"Log. Reg. Confusion Matrix\", fontweight='bold')\n",
    "plt.ylabel('True label', fontweight=\"bold\")\n",
    "plt.xlabel('Predicted label', fontweight='bold')\n",
    "\n",
    "plot_confusion_matrix(metrics.confusion_matrix(y_test,y_pred), ['absent', 'present'])"
   ]
  },
  {
   "cell_type": "code",
   "execution_count": null,
   "metadata": {},
   "outputs": [],
   "source": []
  },
  {
   "cell_type": "markdown",
   "metadata": {},
   "source": [
    "# Modeling\n",
    "### Decision Tree"
   ]
  },
  {
   "cell_type": "code",
   "execution_count": 57,
   "metadata": {},
   "outputs": [],
   "source": [
    "# Fit a Decision Tree model to the data, with max_depth=60\n",
    "\n",
    "decisiontree = DecisionTreeClassifier(class_weight = 'balanced', max_depth=5)\n",
    "decisiontree.fit(x_train, y_train)\n",
    "y_pred = decisiontree.predict(x_test)"
   ]
  },
  {
   "cell_type": "code",
   "execution_count": 58,
   "metadata": {
    "scrolled": true
   },
   "outputs": [
    {
     "name": "stdout",
     "output_type": "stream",
     "text": [
      "Model accuracy: 64.11%\n",
      "Model F1 Score: 0.70\n",
      "             precision    recall  f1-score   support\n",
      "\n",
      "      False       0.78      0.35      0.49      1002\n",
      "       True       0.57      0.89      0.70       970\n",
      "\n",
      "avg / total       0.68      0.62      0.59      1972\n",
      "\n"
     ]
    }
   ],
   "source": [
    "# Print a nice little score card for this model\n",
    "\n",
    "print(\"Model accuracy: {:.2f}%\".format(decisiontree.score(x_train, y_train)*100))\n",
    "print(\"Model F1 Score: {:.2f}\".format(metrics.f1_score(y_pred, y_test)))\n",
    "print(metrics.classification_report(y_test, decisiontree.predict(x_test)))"
   ]
  },
  {
   "cell_type": "code",
   "execution_count": 59,
   "metadata": {},
   "outputs": [
    {
     "name": "stdout",
     "output_type": "stream",
     "text": [
      "AREA UNDER CURVE: 0.6418276848365125\n"
     ]
    },
    {
     "data": {
      "image/png": "[encoded data removed]",
      "text/plain": [
       "<matplotlib.figure.Figure at 0x7ff12a2de588>"
      ]
     },
     "metadata": {},
     "output_type": "display_data"
    }
   ],
   "source": [
    "# Plot the ROC Curve and print AUC\n",
    "\n",
    "y_score=decisiontree.predict_proba(x_test)[:,1]\n",
    "\n",
    "fpr, tpr,_ = roc_curve(y_test, y_score)\n",
    "roc_auc = auc(fpr, tpr)\n",
    "\n",
    "plt.figure()\n",
    "# Plotting our Baseline..\n",
    "plt.plot([0,1],[0,1])\n",
    "plt.plot(fpr,tpr)\n",
    "plt.title(\"DECISION TREE ROC CURVE\", fontweight='bold')\n",
    "plt.xlabel('False Positive Rate', fontweight='bold')\n",
    "plt.ylabel('True Positive Rate', fontweight='bold')\n",
    "print(\"AREA UNDER CURVE: \"+str(roc_auc));"
   ]
  },
  {
   "cell_type": "code",
   "execution_count": 60,
   "metadata": {
    "scrolled": true
   },
   "outputs": [
    {
     "name": "stdout",
     "output_type": "stream",
     "text": [
      "[[354 648]\n",
      " [102 868]]\n"
     ]
    },
    {
     "data": {
      "image/png": "[encoded data removed]",
      "text/plain": [
       "<matplotlib.figure.Figure at 0x7ff12807e4a8>"
      ]
     },
     "metadata": {},
     "output_type": "display_data"
    }
   ],
   "source": [
    "# Print a lovely confusion matrix\n",
    "\n",
    "plt.tight_layout()\n",
    "plt.title(\"Decision Tree Confusion Matrix\", fontweight='bold')\n",
    "plt.ylabel('True label', fontweight='bold')\n",
    "plt.xlabel('Predicted label', fontweight='bold')\n",
    "\n",
    "plot_confusion_matrix(metrics.confusion_matrix(y_test,y_pred), ['absent', 'present'])"
   ]
  },
  {
   "cell_type": "code",
   "execution_count": null,
   "metadata": {},
   "outputs": [],
   "source": []
  },
  {
   "cell_type": "code",
   "execution_count": null,
   "metadata": {},
   "outputs": [],
   "source": []
  },
  {
   "cell_type": "code",
   "execution_count": null,
   "metadata": {},
   "outputs": [],
   "source": []
  }
 ],
 "metadata": {
  "kernelspec": {
   "display_name": "Python 3",
   "language": "python",
   "name": "python3"
  },
  "language_info": {
   "codemirror_mode": {
    "name": "ipython",
    "version": 3
   },
   "file_extension": ".py",
   "mimetype": "text/x-python",
   "name": "python",
   "nbconvert_exporter": "python",
   "pygments_lexer": "ipython3",
   "version": "3.6.3"
  }
 },
 "nbformat": 4,
 "nbformat_minor": 2
}
