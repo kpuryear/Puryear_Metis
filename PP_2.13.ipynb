{
 "cells": [
  {
   "cell_type": "markdown",
   "metadata": {},
   "source": [
    "What is the derivative of $x^{2}$?\n",
    "\n",
    "What is the derivative of log(x)?\n",
    "\n",
    "What is the derivative of $e^{x}$?\n",
    "\n",
    "z = f(y) & y = g(x) what is $\\frac{dz}{dx}$?\n",
    "\n",
    "How would you numerically evaluate a gradient? What does the python code look like?"
   ]
  },
  {
   "cell_type": "code",
   "execution_count": null,
   "metadata": {},
   "outputs": [],
   "source": [
    "def derivative(formula, wrt):\n",
    "    "
   ]
  }
 ],
 "metadata": {
  "kernelspec": {
   "display_name": "Python 3",
   "language": "python",
   "name": "python3"
  },
  "language_info": {
   "codemirror_mode": {
    "name": "ipython",
    "version": 3
   },
   "file_extension": ".py",
   "mimetype": "text/x-python",
   "name": "python",
   "nbconvert_exporter": "python",
   "pygments_lexer": "ipython3",
   "version": "3.6.4"
  }
 },
 "nbformat": 4,
 "nbformat_minor": 2
}
