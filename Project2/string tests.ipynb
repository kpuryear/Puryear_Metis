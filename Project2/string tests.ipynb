{
 "cells": [
  {
   "cell_type": "code",
   "execution_count": 42,
   "metadata": {},
   "outputs": [],
   "source": [
    "import re\n",
    "import pandas as pd\n",
    "\n",
    "df = pd.read_pickle('raw_band_data.pkl')"
   ]
  },
  {
   "cell_type": "code",
   "execution_count": 43,
   "metadata": {},
   "outputs": [
    {
     "data": {
      "text/html": [
       "<div>\n",
       "<style scoped>\n",
       "    .dataframe tbody tr th:only-of-type {\n",
       "        vertical-align: middle;\n",
       "    }\n",
       "\n",
       "    .dataframe tbody tr th {\n",
       "        vertical-align: top;\n",
       "    }\n",
       "\n",
       "    .dataframe thead th {\n",
       "        text-align: right;\n",
       "    }\n",
       "</style>\n",
       "<table border=\"1\" class=\"dataframe\">\n",
       "  <thead>\n",
       "    <tr style=\"text-align: right;\">\n",
       "      <th></th>\n",
       "      <th>Artist</th>\n",
       "      <th>Country/Market</th>\n",
       "      <th>Period Active</th>\n",
       "      <th>Year of First Record</th>\n",
       "      <th>Genre</th>\n",
       "      <th>Total Certified Units</th>\n",
       "      <th>Claimed Sales</th>\n",
       "    </tr>\n",
       "  </thead>\n",
       "  <tbody>\n",
       "    <tr>\n",
       "      <th>0</th>\n",
       "      <td>The Beatles</td>\n",
       "      <td>United Kingdom</td>\n",
       "      <td>1960–1970</td>\n",
       "      <td>1962</td>\n",
       "      <td>Rock  /  Pop</td>\n",
       "      <td>7002271100000000000♠  Total available certifie...</td>\n",
       "      <td>600 million    500 million</td>\n",
       "    </tr>\n",
       "    <tr>\n",
       "      <th>1</th>\n",
       "      <td>Elvis Presley</td>\n",
       "      <td>United States</td>\n",
       "      <td>1954–1977</td>\n",
       "      <td>1954</td>\n",
       "      <td>Rock and roll  / Pop /  Country</td>\n",
       "      <td>7002212400000000000♠  Total available certifie...</td>\n",
       "      <td>600 million    500 million</td>\n",
       "    </tr>\n",
       "    <tr>\n",
       "      <th>2</th>\n",
       "      <td>Michael Jackson</td>\n",
       "      <td>United States</td>\n",
       "      <td>1964–2009</td>\n",
       "      <td>1971</td>\n",
       "      <td>Pop / Rock / Dance / Soul /  R&amp;B</td>\n",
       "      <td>7002184600000000000♠  Total available certifie...</td>\n",
       "      <td>350 million    300 million</td>\n",
       "    </tr>\n",
       "    <tr>\n",
       "      <th>3</th>\n",
       "      <td>Madonna</td>\n",
       "      <td>United States</td>\n",
       "      <td>1979–present</td>\n",
       "      <td>1982</td>\n",
       "      <td>Pop / Dance /  Electronica</td>\n",
       "      <td>7002170600000000000♠  Total available certifie...</td>\n",
       "      <td>300 million    275 million</td>\n",
       "    </tr>\n",
       "    <tr>\n",
       "      <th>4</th>\n",
       "      <td>Elton John</td>\n",
       "      <td>United Kingdom</td>\n",
       "      <td>1964–present</td>\n",
       "      <td>1969</td>\n",
       "      <td>Pop / Rock</td>\n",
       "      <td>7002169000000000000♠  Total available certifie...</td>\n",
       "      <td>300 million    250 million</td>\n",
       "    </tr>\n",
       "  </tbody>\n",
       "</table>\n",
       "</div>"
      ],
      "text/plain": [
       "            Artist  Country/Market  Period Active Year of First Record  \\\n",
       "0      The Beatles  United Kingdom     1960–1970                 1962    \n",
       "1    Elvis Presley   United States     1954–1977                 1954    \n",
       "2  Michael Jackson   United States     1964–2009                 1971    \n",
       "3          Madonna   United States  1979–present                 1982    \n",
       "4       Elton John  United Kingdom  1964–present                 1969    \n",
       "\n",
       "                               Genre  \\\n",
       "0                      Rock  /  Pop    \n",
       "1   Rock and roll  / Pop /  Country    \n",
       "2  Pop / Rock / Dance / Soul /  R&B    \n",
       "3        Pop / Dance /  Electronica    \n",
       "4                        Pop / Rock    \n",
       "\n",
       "                               Total Certified Units  \\\n",
       "0  7002271100000000000♠  Total available certifie...   \n",
       "1  7002212400000000000♠  Total available certifie...   \n",
       "2  7002184600000000000♠  Total available certifie...   \n",
       "3  7002170600000000000♠  Total available certifie...   \n",
       "4  7002169000000000000♠  Total available certifie...   \n",
       "\n",
       "                  Claimed Sales  \n",
       "0   600 million    500 million   \n",
       "1   600 million    500 million   \n",
       "2  350 million    300 million    \n",
       "3   300 million    275 million   \n",
       "4  300 million    250 million    "
      ]
     },
     "execution_count": 43,
     "metadata": {},
     "output_type": "execute_result"
    }
   ],
   "source": [
    "df.head()"
   ]
  },
  {
   "cell_type": "code",
   "execution_count": 64,
   "metadata": {},
   "outputs": [],
   "source": [
    "'''If you need it, here is a sample of the TCU data from Beatles'''\n",
    "#s = '7002271100000000000♠  Total available certified units: 271.1 million  US  : 212.250 million   JPN  : 4.950 million    UK  : 18.045 million    GER  : 8 million    FRA  : 3.890 million     CAN  : 14.455 million    AUS  : 3.060 million     ITA  : 355,000    BRA  : 550,000    SWE  485,000    SPA  : 1.250 million     SWI  : 350,000    BEL  : 265,000     ARG  : 1.606 million     DEN  : 270,000     AUT  : 500,000    POL  : 175,000    NZ  : 660,000   '\n",
    "#print(s)"
   ]
  },
  {
   "cell_type": "code",
   "execution_count": 44,
   "metadata": {},
   "outputs": [
    {
     "ename": "IndentationError",
     "evalue": "expected an indented block (<ipython-input-44-5cdaa6b89ec7>, line 4)",
     "output_type": "error",
     "traceback": [
      "\u001b[0;36m  File \u001b[0;32m\"<ipython-input-44-5cdaa6b89ec7>\"\u001b[0;36m, line \u001b[0;32m4\u001b[0m\n\u001b[0;31m    returns a list of tuples [(country: number), (country2: number2), ...]'''\u001b[0m\n\u001b[0m                                                                             \n^\u001b[0m\n\u001b[0;31mIndentationError\u001b[0m\u001b[0;31m:\u001b[0m expected an indented block\n"
     ]
    }
   ],
   "source": [
    "def formats(s):\n",
    "'''takes in the raw TCU string\n",
    "   uses the RegularExpressionsStuff to format it\n",
    "   returns a list of tuples [(country: number), (country2: number2), ...]'''\n",
    "    rgxspaces = re.compile(r\"([A-Z]+)  (?:: )?([0-9]+\\.[0-9]+|[0-9]+,[0-9]{3})\")\n",
    "    rgxnospaces = re.compile(r\"([A-Z]+)(?:: )?([0-9]+\\.[0-9]+|[0-9]+,[0-9]{3})\")      #<---- this one is new, untested\n",
    "    return(rgx.findall(s))\n",
    "\n",
    "\n",
    "def makedict(s):\n",
    "'''takes in the post-regex list of tuples\n",
    "   creates a dictionary with 3digit country code is the key, values are numbers\n",
    "   returns the dictionary'''\n",
    "    monies = {i:aux(j) for i,j in s}\n",
    "    return monies\n",
    "\n",
    "\n",
    "def aux(j):\n",
    "'''works within makedict(s)\n",
    "   converts millions to actual numbers, and all numbers to ints'''\n",
    "    if \",\" in j:\n",
    "        return int(j.replace(\",\",\"\"))\n",
    "    else:\n",
    "        return int(float(j)*1000000)\n",
    "    \n",
    "    \n",
    "def banddict(df):                                         #<----------this needs work\n",
    "'''takes in the full raw df\n",
    "   returns a dictionary of things we want'''\n",
    "    bands = {i:pd.Series(makedict(formats(j))) for i,j in s}\n",
    "    return bands    \n",
    "    \n",
    "'''workflow'''\n",
    "#m = formats(s) #gives tuple format\n",
    "#l = makedict(m) #takes care of the millions and makes a dictionary\n",
    "#k = pd.Series(l) #turns it into a pandas series\n",
    "#j = banddict(k) #creates the huge dictionary, with band as key countries and stuff as values. \n",
    "     #It would be great if we could just call \"banddict(df)\" and have it return formated everything"
   ]
  },
  {
   "cell_type": "code",
   "execution_count": 72,
   "metadata": {},
   "outputs": [
    {
     "data": {
      "text/plain": [
       "ARG      1606000\n",
       "AUS      3060000\n",
       "AUT       500000\n",
       "BEL       265000\n",
       "BRA       550000\n",
       "CAN     14455000\n",
       "DEN       270000\n",
       "FRA      3890000\n",
       "ITA       355000\n",
       "JPN      4950000\n",
       "NZ        660000\n",
       "POL       175000\n",
       "SPA      1250000\n",
       "SWE       485000\n",
       "SWI       350000\n",
       "UK      18045000\n",
       "US     212250000\n",
       "dtype: int64"
      ]
     },
     "execution_count": 72,
     "metadata": {},
     "output_type": "execute_result"
    }
   ],
   "source": [
    "pd.Series(k)"
   ]
  },
  {
   "cell_type": "code",
   "execution_count": 22,
   "metadata": {},
   "outputs": [
    {
     "data": {
      "text/plain": [
       "{'Elvis Presley': FIN    213945\n",
       " MEX    105000\n",
       " dtype: int64,\n",
       " 'Michael Jackson': Series([], dtype: float64),\n",
       " 'The Beatles': ARG      1606000\n",
       " AUS      3060000\n",
       " AUT       500000\n",
       " BEL       265000\n",
       " BRA       550000\n",
       " CAN     14455000\n",
       " DEN       270000\n",
       " FRA      3890000\n",
       " ITA       355000\n",
       " JPN      4950000\n",
       " NZ        660000\n",
       " POL       175000\n",
       " SPA      1250000\n",
       " SWE       485000\n",
       " SWI       350000\n",
       " UK      18045000\n",
       " US     212250000\n",
       " dtype: int64}"
      ]
     },
     "execution_count": 22,
     "metadata": {},
     "output_type": "execute_result"
    }
   ],
   "source": [
    "#imports the band data to the total band dictionary\n",
    "artists = df.iloc[0:3, 0] \n",
    "tcu = df.iloc[0:3, 5]\n",
    "d = list(zip(artists, tcu))\n",
    "#returns tuple list\n",
    "\n",
    "banddict(d)"
   ]
  },
  {
   "cell_type": "code",
   "execution_count": 28,
   "metadata": {},
   "outputs": [
    {
     "data": {
      "text/plain": [
       "'7002184600000000000♠  Total available certified units: 184.6 million  US: 104.5 million   JPN: 4.650 million     UK: 27.545 million   GER: 11.275 million   FRA: 11.375 million     CAN: 4.670 million   AUS: 6.670 million        ITA: 1.170 million    BRA: 280,000    SWE: 1.230 million     SPA: 1.995 million        MEX: 3.670 million    SWI: 910,000    BEL: 365,000     ARG: 124,000     DEN: 1.224 million      AUT: 1.197 million    POL: 530,000    FIN: 384,127   NZ: 902,500  '"
      ]
     },
     "execution_count": 28,
     "metadata": {},
     "output_type": "execute_result"
    }
   ],
   "source": [
    "df[\"Total Certified Units\"][2]"
   ]
  },
  {
   "cell_type": "code",
   "execution_count": 27,
   "metadata": {},
   "outputs": [
    {
     "data": {
      "text/plain": [
       "[]"
      ]
     },
     "execution_count": 27,
     "metadata": {},
     "output_type": "execute_result"
    }
   ],
   "source": [
    "#something is wrong with the formats function...\n",
    "formats(mj)"
   ]
  },
  {
   "cell_type": "code",
   "execution_count": 36,
   "metadata": {},
   "outputs": [
    {
     "ename": "KeyError",
     "evalue": "'Artist'",
     "output_type": "error",
     "traceback": [
      "\u001b[0;31m---------------------------------------------------------------------------\u001b[0m",
      "\u001b[0;31mTypeError\u001b[0m                                 Traceback (most recent call last)",
      "\u001b[0;32mpandas/_libs/index.pyx\u001b[0m in \u001b[0;36mpandas._libs.index.IndexEngine.get_loc\u001b[0;34m()\u001b[0m\n",
      "\u001b[0;32mpandas/_libs/hashtable_class_helper.pxi\u001b[0m in \u001b[0;36mpandas._libs.hashtable.Int64HashTable.get_item\u001b[0;34m()\u001b[0m\n",
      "\u001b[0;31mTypeError\u001b[0m: an integer is required",
      "\nDuring handling of the above exception, another exception occurred:\n",
      "\u001b[0;31mKeyError\u001b[0m                                  Traceback (most recent call last)",
      "\u001b[0;32m<ipython-input-36-e38fc1bc58bc>\u001b[0m in \u001b[0;36m<module>\u001b[0;34m()\u001b[0m\n\u001b[0;32m----> 1\u001b[0;31m \u001b[0mtes\u001b[0m \u001b[0;34m=\u001b[0m \u001b[0;34m{\u001b[0m\u001b[0mdf\u001b[0m\u001b[0;34m[\u001b[0m\u001b[0;34m\"Artist\"\u001b[0m\u001b[0;34m]\u001b[0m\u001b[0;34m[\u001b[0m\u001b[0mi\u001b[0m\u001b[0;34m]\u001b[0m\u001b[0;34m:\u001b[0m\u001b[0;34m(\u001b[0m\u001b[0mpd\u001b[0m\u001b[0;34m.\u001b[0m\u001b[0mSeries\u001b[0m\u001b[0;34m(\u001b[0m\u001b[0mmakedict\u001b[0m\u001b[0;34m(\u001b[0m\u001b[0mformats\u001b[0m\u001b[0;34m(\u001b[0m\u001b[0mdf\u001b[0m\u001b[0;34m[\u001b[0m\u001b[0;34m\"Total Certified Units\"\u001b[0m\u001b[0;34m]\u001b[0m\u001b[0;34m[\u001b[0m\u001b[0mi\u001b[0m\u001b[0;34m]\u001b[0m\u001b[0;34m)\u001b[0m\u001b[0;34m)\u001b[0m\u001b[0;34m)\u001b[0m\u001b[0;34m)\u001b[0m \u001b[0;32mfor\u001b[0m \u001b[0mi\u001b[0m \u001b[0;32min\u001b[0m \u001b[0mdf\u001b[0m\u001b[0;34m}\u001b[0m\u001b[0;34m\u001b[0m\u001b[0m\n\u001b[0m",
      "\u001b[0;32m<ipython-input-36-e38fc1bc58bc>\u001b[0m in \u001b[0;36m<dictcomp>\u001b[0;34m(.0)\u001b[0m\n\u001b[0;32m----> 1\u001b[0;31m \u001b[0mtes\u001b[0m \u001b[0;34m=\u001b[0m \u001b[0;34m{\u001b[0m\u001b[0mdf\u001b[0m\u001b[0;34m[\u001b[0m\u001b[0;34m\"Artist\"\u001b[0m\u001b[0;34m]\u001b[0m\u001b[0;34m[\u001b[0m\u001b[0mi\u001b[0m\u001b[0;34m]\u001b[0m\u001b[0;34m:\u001b[0m\u001b[0;34m(\u001b[0m\u001b[0mpd\u001b[0m\u001b[0;34m.\u001b[0m\u001b[0mSeries\u001b[0m\u001b[0;34m(\u001b[0m\u001b[0mmakedict\u001b[0m\u001b[0;34m(\u001b[0m\u001b[0mformats\u001b[0m\u001b[0;34m(\u001b[0m\u001b[0mdf\u001b[0m\u001b[0;34m[\u001b[0m\u001b[0;34m\"Total Certified Units\"\u001b[0m\u001b[0;34m]\u001b[0m\u001b[0;34m[\u001b[0m\u001b[0mi\u001b[0m\u001b[0;34m]\u001b[0m\u001b[0;34m)\u001b[0m\u001b[0;34m)\u001b[0m\u001b[0;34m)\u001b[0m\u001b[0;34m)\u001b[0m \u001b[0;32mfor\u001b[0m \u001b[0mi\u001b[0m \u001b[0;32min\u001b[0m \u001b[0mdf\u001b[0m\u001b[0;34m}\u001b[0m\u001b[0;34m\u001b[0m\u001b[0m\n\u001b[0m",
      "\u001b[0;32m/anaconda3/lib/python3.6/site-packages/pandas/core/series.py\u001b[0m in \u001b[0;36m__getitem__\u001b[0;34m(self, key)\u001b[0m\n\u001b[1;32m    621\u001b[0m         \u001b[0mkey\u001b[0m \u001b[0;34m=\u001b[0m \u001b[0mcom\u001b[0m\u001b[0;34m.\u001b[0m\u001b[0m_apply_if_callable\u001b[0m\u001b[0;34m(\u001b[0m\u001b[0mkey\u001b[0m\u001b[0;34m,\u001b[0m \u001b[0mself\u001b[0m\u001b[0;34m)\u001b[0m\u001b[0;34m\u001b[0m\u001b[0m\n\u001b[1;32m    622\u001b[0m         \u001b[0;32mtry\u001b[0m\u001b[0;34m:\u001b[0m\u001b[0;34m\u001b[0m\u001b[0m\n\u001b[0;32m--> 623\u001b[0;31m             \u001b[0mresult\u001b[0m \u001b[0;34m=\u001b[0m \u001b[0mself\u001b[0m\u001b[0;34m.\u001b[0m\u001b[0mindex\u001b[0m\u001b[0;34m.\u001b[0m\u001b[0mget_value\u001b[0m\u001b[0;34m(\u001b[0m\u001b[0mself\u001b[0m\u001b[0;34m,\u001b[0m \u001b[0mkey\u001b[0m\u001b[0;34m)\u001b[0m\u001b[0;34m\u001b[0m\u001b[0m\n\u001b[0m\u001b[1;32m    624\u001b[0m \u001b[0;34m\u001b[0m\u001b[0m\n\u001b[1;32m    625\u001b[0m             \u001b[0;32mif\u001b[0m \u001b[0;32mnot\u001b[0m \u001b[0mis_scalar\u001b[0m\u001b[0;34m(\u001b[0m\u001b[0mresult\u001b[0m\u001b[0;34m)\u001b[0m\u001b[0;34m:\u001b[0m\u001b[0;34m\u001b[0m\u001b[0m\n",
      "\u001b[0;32m/anaconda3/lib/python3.6/site-packages/pandas/core/indexes/base.py\u001b[0m in \u001b[0;36mget_value\u001b[0;34m(self, series, key)\u001b[0m\n\u001b[1;32m   2558\u001b[0m         \u001b[0;32mtry\u001b[0m\u001b[0;34m:\u001b[0m\u001b[0;34m\u001b[0m\u001b[0m\n\u001b[1;32m   2559\u001b[0m             return self._engine.get_value(s, k,\n\u001b[0;32m-> 2560\u001b[0;31m                                           tz=getattr(series.dtype, 'tz', None))\n\u001b[0m\u001b[1;32m   2561\u001b[0m         \u001b[0;32mexcept\u001b[0m \u001b[0mKeyError\u001b[0m \u001b[0;32mas\u001b[0m \u001b[0me1\u001b[0m\u001b[0;34m:\u001b[0m\u001b[0;34m\u001b[0m\u001b[0m\n\u001b[1;32m   2562\u001b[0m             \u001b[0;32mif\u001b[0m \u001b[0mlen\u001b[0m\u001b[0;34m(\u001b[0m\u001b[0mself\u001b[0m\u001b[0;34m)\u001b[0m \u001b[0;34m>\u001b[0m \u001b[0;36m0\u001b[0m \u001b[0;32mand\u001b[0m \u001b[0mself\u001b[0m\u001b[0;34m.\u001b[0m\u001b[0minferred_type\u001b[0m \u001b[0;32min\u001b[0m \u001b[0;34m[\u001b[0m\u001b[0;34m'integer'\u001b[0m\u001b[0;34m,\u001b[0m \u001b[0;34m'boolean'\u001b[0m\u001b[0;34m]\u001b[0m\u001b[0;34m:\u001b[0m\u001b[0;34m\u001b[0m\u001b[0m\n",
      "\u001b[0;32mpandas/_libs/index.pyx\u001b[0m in \u001b[0;36mpandas._libs.index.IndexEngine.get_value\u001b[0;34m()\u001b[0m\n",
      "\u001b[0;32mpandas/_libs/index.pyx\u001b[0m in \u001b[0;36mpandas._libs.index.IndexEngine.get_value\u001b[0;34m()\u001b[0m\n",
      "\u001b[0;32mpandas/_libs/index.pyx\u001b[0m in \u001b[0;36mpandas._libs.index.IndexEngine.get_loc\u001b[0;34m()\u001b[0m\n",
      "\u001b[0;31mKeyError\u001b[0m: 'Artist'"
     ]
    }
   ],
   "source": [
    "tes = {df[\"Artist\"][i]:(pd.Series(makedict(formats(df[\"Total Certified Units\"][i])))) for i in df}"
   ]
  },
  {
   "cell_type": "code",
   "execution_count": 37,
   "metadata": {},
   "outputs": [
    {
     "data": {
      "text/plain": [
       "'7002271100000000000♠  Total available certified units: 271.1 million  US  : 212.250 million   JPN  : 4.950 million    UK  : 18.045 million    GER  : 8 million    FRA  : 3.890 million     CAN  : 14.455 million    AUS  : 3.060 million     ITA  : 355,000    BRA  : 550,000    SWE  485,000    SPA  : 1.250 million     SWI  : 350,000    BEL  : 265,000     ARG  : 1.606 million     DEN  : 270,000     AUT  : 500,000    POL  : 175,000    NZ  : 660,000   '"
      ]
     },
     "execution_count": 37,
     "metadata": {},
     "output_type": "execute_result"
    }
   ],
   "source": [
    "df[\"Total Certified Units\"][0]"
   ]
  },
  {
   "cell_type": "code",
   "execution_count": 38,
   "metadata": {
    "scrolled": true
   },
   "outputs": [
    {
     "data": {
      "text/plain": [
       "[('US', '212.250'),\n",
       " ('JPN', '4.950'),\n",
       " ('UK', '18.045'),\n",
       " ('FRA', '3.890'),\n",
       " ('CAN', '14.455'),\n",
       " ('AUS', '3.060'),\n",
       " ('ITA', '355,000'),\n",
       " ('BRA', '550,000'),\n",
       " ('SWE', '485,000'),\n",
       " ('SPA', '1.250'),\n",
       " ('SWI', '350,000'),\n",
       " ('BEL', '265,000'),\n",
       " ('ARG', '1.606'),\n",
       " ('DEN', '270,000'),\n",
       " ('AUT', '500,000'),\n",
       " ('POL', '175,000'),\n",
       " ('NZ', '660,000')]"
      ]
     },
     "execution_count": 38,
     "metadata": {},
     "output_type": "execute_result"
    }
   ],
   "source": [
    "formats(df[\"Total Certified Units\"][0])"
   ]
  },
  {
   "cell_type": "code",
   "execution_count": 39,
   "metadata": {},
   "outputs": [
    {
     "data": {
      "text/plain": [
       "{'ARG': 1606000,\n",
       " 'AUS': 3060000,\n",
       " 'AUT': 500000,\n",
       " 'BEL': 265000,\n",
       " 'BRA': 550000,\n",
       " 'CAN': 14455000,\n",
       " 'DEN': 270000,\n",
       " 'FRA': 3890000,\n",
       " 'ITA': 355000,\n",
       " 'JPN': 4950000,\n",
       " 'NZ': 660000,\n",
       " 'POL': 175000,\n",
       " 'SPA': 1250000,\n",
       " 'SWE': 485000,\n",
       " 'SWI': 350000,\n",
       " 'UK': 18045000,\n",
       " 'US': 212250000}"
      ]
     },
     "execution_count": 39,
     "metadata": {},
     "output_type": "execute_result"
    }
   ],
   "source": [
    "makedict(formats(df[\"Total Certified Units\"][0]))"
   ]
  },
  {
   "cell_type": "code",
   "execution_count": 32,
   "metadata": {},
   "outputs": [
    {
     "data": {
      "text/plain": [
       "ARG      1606000\n",
       "AUS      3060000\n",
       "AUT       500000\n",
       "BEL       265000\n",
       "BRA       550000\n",
       "CAN     14455000\n",
       "DEN       270000\n",
       "FRA      3890000\n",
       "ITA       355000\n",
       "JPN      4950000\n",
       "NZ        660000\n",
       "POL       175000\n",
       "SPA      1250000\n",
       "SWE       485000\n",
       "SWI       350000\n",
       "UK      18045000\n",
       "US     212250000\n",
       "dtype: int64"
      ]
     },
     "execution_count": 32,
     "metadata": {},
     "output_type": "execute_result"
    }
   ],
   "source": [
    "pd.Series(makedict(formats(df[\"Total Certified Units\"][0])))"
   ]
  },
  {
   "cell_type": "code",
   "execution_count": 45,
   "metadata": {},
   "outputs": [],
   "source": [
    "tes = {}\n",
    "for i in range(89):\n",
    "    ccoded = pd.Series(makedict(formats(df[\"Total Certified Units\"][i])))\n",
    "    tes[df[\"Artist\"][i]] = ccoded"
   ]
  },
  {
   "cell_type": "code",
   "execution_count": 46,
   "metadata": {},
   "outputs": [
    {
     "name": "stdout",
     "output_type": "stream",
     "text": [
      "{'The Beatles': ARG      1606000\n",
      "AUS      3060000\n",
      "AUT       500000\n",
      "BEL       265000\n",
      "BRA       550000\n",
      "CAN     14455000\n",
      "DEN       270000\n",
      "FRA      3890000\n",
      "ITA       355000\n",
      "JPN      4950000\n",
      "NZ        660000\n",
      "POL       175000\n",
      "SPA      1250000\n",
      "SWE       485000\n",
      "SWI       350000\n",
      "UK      18045000\n",
      "US     212250000\n",
      "dtype: int64, 'Elvis Presley': FIN    213945\n",
      "MEX    105000\n",
      "dtype: int64, 'Michael Jackson': Series([], dtype: float64), 'Madonna': Series([], dtype: float64), 'Elton John': Series([], dtype: float64), 'Led Zeppelin': Series([], dtype: float64), 'Pink Floyd': Series([], dtype: float64), 'Rihanna': AUS      9290000\n",
      "AUT       135000\n",
      "BEL       660000\n",
      "BRA       555000\n",
      "CAN      2840000\n",
      "DEN      1117000\n",
      "FRA      1525000\n",
      "GER      4675000\n",
      "IRE       240000\n",
      "ITA      1500000\n",
      "JPN      1400000\n",
      "MEX       410000\n",
      "NZ        667500\n",
      "POL       500000\n",
      "SPA      1450000\n",
      "SWE      2480000\n",
      "SWI       840000\n",
      "UK      30700000\n",
      "US     168550000\n",
      "dtype: int64, 'Mariah Carey': Series([], dtype: float64), 'Celine Dion': ARG    340000\n",
      "FIN    356183\n",
      "dtype: int64, 'Queen': Series([], dtype: float64), 'Whitney Houston': Series([], dtype: float64), 'AC/DC': Series([], dtype: float64), 'The Rolling Stones': Series([], dtype: float64), 'ABBA': Series([], dtype: float64), 'Taylor Swift': AUS    5495000\n",
      "BRA     170000\n",
      "CAN    4580000\n",
      "DEN     140000\n",
      "FRA     250000\n",
      "GER     950000\n",
      "ITA     285000\n",
      "JPN    2850000\n",
      "MEX     450000\n",
      "NZ      375000\n",
      "SWE     180000\n",
      "UK     8900000\n",
      "dtype: int64, 'Garth Brooks': Series([], dtype: float64), 'Eminem': AUT    325000\n",
      "BEL    475000\n",
      "FIN    124547\n",
      "IRE    285000\n",
      "POL    250000\n",
      "SPA    290000\n",
      "SWI    805000\n",
      "dtype: int64, 'Eagles': Series([], dtype: float64), 'U2': Series([], dtype: float64), 'Billy Joel': Series([], dtype: float64), 'Phil Collins': Series([], dtype: float64), 'Aerosmith': Series([], dtype: float64), 'Frank Sinatra': Series([], dtype: float64), 'Barbra Streisand': Series([], dtype: float64), 'Bruno Mars': PHL    330000\n",
      "dtype: int64, 'Kanye West': Series([], dtype: float64), 'Bruce Springsteen': Series([], dtype: float64), 'Bee Gees': Series([], dtype: float64), 'Lady Gaga': AUS     2890000\n",
      "AUT      182500\n",
      "BEL      270000\n",
      "BRA      470000\n",
      "CAN     2400000\n",
      "DEN      340000\n",
      "FRA     1655000\n",
      "GER     2900000\n",
      "IRE      165000\n",
      "ITA      840000\n",
      "JPN     5400000\n",
      "MEX      390000\n",
      "NZ       277500\n",
      "POL      130000\n",
      "SPA      410000\n",
      "SWE      680000\n",
      "SWI      445000\n",
      "UK     10985000\n",
      "US     68500000\n",
      "dtype: int64, 'Metallica': ARG    874000\n",
      "FIN    530676\n",
      "dtype: int64, 'Justin Bieber': Series([], dtype: float64), 'Katy Perry': Series([], dtype: float64), 'Adele': Series([], dtype: float64), 'Jay-Z': Series([], dtype: float64), \"B'z\": Series([], dtype: float64), 'Bon Jovi': Series([], dtype: float64), 'Linkin Park': Series([], dtype: float64), 'Beyoncé': Series([], dtype: float64), 'Lil Wayne': Series([], dtype: float64), 'Britney Spears': Series([], dtype: float64), 'Rod Stewart': Series([], dtype: float64), 'Fleetwood Mac': Series([], dtype: float64), \"Guns N' Roses\": Series([], dtype: float64), 'George Strait': Series([], dtype: float64), 'Backstreet Boys': Series([], dtype: float64), 'Neil Diamond': Series([], dtype: float64), 'Prince': Series([], dtype: float64), 'Kenny Rogers': Series([], dtype: float64), 'Paul McCartney': Series([], dtype: float64), 'Janet Jackson': Series([], dtype: float64), 'Julio Iglesias': Series([], dtype: float64), 'Chicago': Series([], dtype: float64), 'Bob Dylan': Series([], dtype: float64), 'Dire Straits': Series([], dtype: float64), 'Def Leppard': Series([], dtype: float64), 'Cher': Series([], dtype: float64), 'Genesis': Series([], dtype: float64), 'James Taylor': Series([], dtype: float64), 'Olivia Newton-John': Series([], dtype: float64), 'Stevie Wonder': Series([], dtype: float64), 'Tina Turner': Series([], dtype: float64), 'Linda Ronstadt': Series([], dtype: float64), 'Donna Summer': Series([], dtype: float64), 'The Beach Boys': Series([], dtype: float64), 'David Bowie': Series([], dtype: float64), 'The Who': Series([], dtype: float64), 'Barry White': Series([], dtype: float64), 'Coldplay': ARG      528000\n",
      "AUS     3725000\n",
      "AUT      197500\n",
      "BEL      765000\n",
      "BRA      340000\n",
      "CAN     3445000\n",
      "DEN      759000\n",
      "FRA     3030000\n",
      "GER     4150000\n",
      "IRE      210000\n",
      "ITA     2660000\n",
      "JPN      750000\n",
      "MEX     1890000\n",
      "NZ       345000\n",
      "POL      220000\n",
      "SPA     1030000\n",
      "SWE      670000\n",
      "SWI      510000\n",
      "UK     24285000\n",
      "US     29600000\n",
      "dtype: int64, 'Shania Twain': Series([], dtype: float64), 'Pink': Series([], dtype: float64), 'Santana': Series([], dtype: float64), 'The Carpenters': Series([], dtype: float64), 'Lionel Richie': Series([], dtype: float64), 'Earth, Wind & Fire': Series([], dtype: float64), 'Johnny Cash': Series([], dtype: float64), 'Nicki Minaj': Series([], dtype: float64), 'R.E.M.': IRE    127500\n",
      "dtype: int64, 'Flo Rida': Series([], dtype: float64), 'Ayumi Hamasaki': Series([], dtype: float64), 'Van Halen': Series([], dtype: float64), 'Red Hot Chili Peppers': Series([], dtype: float64), 'Foreigner': Series([], dtype: float64), 'The Doors': Series([], dtype: float64), 'George Michael': Series([], dtype: float64), 'Reba McEntire': Series([], dtype: float64), 'Meat Loaf': Series([], dtype: float64), 'Tom Petty': Series([], dtype: float64), 'Johnny Hallyday': Series([], dtype: float64)}\n"
     ]
    }
   ],
   "source": [
    "print(tes)"
   ]
  },
  {
   "cell_type": "code",
   "execution_count": 49,
   "metadata": {},
   "outputs": [
    {
     "data": {
      "text/plain": [
       "'7002212400000000000♠  Total available certified units: 212.4 million  US: 188.650 million   JPN: 300,000    UK: 13.145 million    GER: 1.2 million    FRA: 2.590 million     CAN: 2.925 million    AUS: 1.587 million    ITA: 105,000    BRA: 125,000    SWE 380,000    SPA: 300,000      MEX  : 105,000     SWI: 185,000    BEL: 115,000     ARG: 110,000    DEN: 120,000      AUT: 205,000    FIN  : 213,945    NZ: 117,500   '"
      ]
     },
     "execution_count": 49,
     "metadata": {},
     "output_type": "execute_result"
    }
   ],
   "source": [
    "df[\"Total Certified Units\"][1] #elvis"
   ]
  },
  {
   "cell_type": "code",
   "execution_count": 50,
   "metadata": {},
   "outputs": [
    {
     "data": {
      "text/plain": [
       "'7002184600000000000♠  Total available certified units: 184.6 million  US: 104.5 million   JPN: 4.650 million     UK: 27.545 million   GER: 11.275 million   FRA: 11.375 million     CAN: 4.670 million   AUS: 6.670 million        ITA: 1.170 million    BRA: 280,000    SWE: 1.230 million     SPA: 1.995 million        MEX: 3.670 million    SWI: 910,000    BEL: 365,000     ARG: 124,000     DEN: 1.224 million      AUT: 1.197 million    POL: 530,000    FIN: 384,127   NZ: 902,500  '"
      ]
     },
     "execution_count": 50,
     "metadata": {},
     "output_type": "execute_result"
    }
   ],
   "source": [
    "df[\"Total Certified Units\"][2] #michael Jackson"
   ]
  },
  {
   "cell_type": "code",
   "execution_count": 52,
   "metadata": {},
   "outputs": [],
   "source": [
    "ok = df[\"Total Certified Units\"][0]"
   ]
  },
  {
   "cell_type": "code",
   "execution_count": 53,
   "metadata": {},
   "outputs": [],
   "source": [
    "rgxspaces = re.compile(r\"([A-Z]+)  (?:: )?([0-9]+\\.[0-9]+|[0-9]+,[0-9]{3})\")\n",
    "rgxnospaces = re.compile(r\"([A-Z]+)(?:: )?([0-9]+\\.[0-9]+|[0-9]+,[0-9]{3})\") \n",
    "a = rgxspaces.findall(ok)\n",
    "b = rgxnospaces.findall(ok)"
   ]
  },
  {
   "cell_type": "code",
   "execution_count": 55,
   "metadata": {},
   "outputs": [
    {
     "name": "stdout",
     "output_type": "stream",
     "text": [
      "[('US', '212.250'), ('JPN', '4.950'), ('UK', '18.045'), ('FRA', '3.890'), ('CAN', '14.455'), ('AUS', '3.060'), ('ITA', '355,000'), ('BRA', '550,000'), ('SWE', '485,000'), ('SPA', '1.250'), ('SWI', '350,000'), ('BEL', '265,000'), ('ARG', '1.606'), ('DEN', '270,000'), ('AUT', '500,000'), ('POL', '175,000'), ('NZ', '660,000')]\n"
     ]
    }
   ],
   "source": [
    "print(a)"
   ]
  },
  {
   "cell_type": "code",
   "execution_count": null,
   "metadata": {},
   "outputs": [],
   "source": []
  }
 ],
 "metadata": {
  "kernelspec": {
   "display_name": "Python 3",
   "language": "python",
   "name": "python3"
  },
  "language_info": {
   "codemirror_mode": {
    "name": "ipython",
    "version": 3
   },
   "file_extension": ".py",
   "mimetype": "text/x-python",
   "name": "python",
   "nbconvert_exporter": "python",
   "pygments_lexer": "ipython3",
   "version": "3.6.4"
  }
 },
 "nbformat": 4,
 "nbformat_minor": 2
}
