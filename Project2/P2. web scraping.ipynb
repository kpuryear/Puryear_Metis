{
 "cells": [
  {
   "cell_type": "code",
   "execution_count": 154,
   "metadata": {},
   "outputs": [],
   "source": [
    "import requests\n",
    "from bs4 import BeautifulSoup\n",
    "import pandas as pd\n",
    "import numpy as np\n",
    "import re\n",
    "import statsmodels.api as sm\n",
    "import statsmodels.formula.api as smf\n",
    "import patsy\n",
    "import seaborn as sns\n",
    "import matplotlib.pyplot as plt\n",
    "from sklearn.linear_model import LinearRegression\n",
    "from sklearn.linear_model import RidgeCV\n",
    "%matplotlib inline"
   ]
  },
  {
   "cell_type": "code",
   "execution_count": 177,
   "metadata": {},
   "outputs": [],
   "source": [
    "#upload the information using BeautifulSoup\n",
    "url = 'https://en.wikipedia.org/wiki/List_of_best-selling_music_artists'\n",
    "\n",
    "response = requests.get(url)\n",
    "page = response.text\n",
    "soup = BeautifulSoup(page, 'lxml')"
   ]
  },
  {
   "cell_type": "code",
   "execution_count": 178,
   "metadata": {},
   "outputs": [],
   "source": [
    "#find the tables located on this page\n",
    "alltables = soup.find_all('table')\n",
    "#it finds 5 useful tables"
   ]
  },
  {
   "cell_type": "code",
   "execution_count": 179,
   "metadata": {},
   "outputs": [],
   "source": [
    "#for each table:\n",
    "#read the html into a pandas dataframe\n",
    "\n",
    "m250 = alltables[0]\n",
    "table1 = pd.read_html(m250.prettify())[0]\n",
    "\n",
    "m200 = alltables[1]\n",
    "table2 = pd.read_html(m200.prettify())[0]\n",
    "\n",
    "m120 = alltables[2]\n",
    "table3 = pd.read_html(m120.prettify())[0]\n",
    "\n",
    "m100 = alltables[3]\n",
    "table4 = pd.read_html(m100.prettify())[0]\n",
    "\n",
    "m80 = alltables[4]\n",
    "table5 = pd.read_html(m80.prettify())[0]"
   ]
  },
  {
   "cell_type": "code",
   "execution_count": 180,
   "metadata": {},
   "outputs": [],
   "source": [
    "#get rid of titles as datapoints\n",
    "table1 = table1.drop(0)\n",
    "table2 = table2.drop(0)\n",
    "table3 = table3.drop(0)\n",
    "table4 = table4.drop(0)\n",
    "table5 = table5.drop(0)"
   ]
  },
  {
   "cell_type": "code",
   "execution_count": 181,
   "metadata": {},
   "outputs": [],
   "source": [
    "#merge all 5 lists into one dataframe\n",
    "df = pd.concat([table1, table2, table3, table4, table5])"
   ]
  },
  {
   "cell_type": "code",
   "execution_count": 182,
   "metadata": {},
   "outputs": [],
   "source": [
    "#rename the headers/column titles\n",
    "df = df.rename(index=str, columns={0: \"Artist\", \n",
    "                                  1: \"Country/Market\", \n",
    "                                  2: \"Period Active\", \n",
    "                                  3: \"Year of First Record\", \n",
    "                                  4: \"Genre\", \n",
    "                                  5: \"Total Certified Units\", \n",
    "                                  6: \"Claimed Sales\"})"
   ]
  },
  {
   "cell_type": "code",
   "execution_count": 183,
   "metadata": {},
   "outputs": [],
   "source": [
    "#renumber indexes, so all tables are included\n",
    "df = df.reset_index(drop=True)"
   ]
  },
  {
   "cell_type": "code",
   "execution_count": 184,
   "metadata": {},
   "outputs": [],
   "source": [
    "#set up regular expression to weed out [##] ghost-links\n",
    "killbrackets = re.compile(r' \\[[0-9b]+\\]')\n",
    "\n",
    "#use the regex for each column just in case\n",
    "df[\"Artist\"] = [killbrackets.sub(\"\", i) for i in df[\"Artist\"]]\n",
    "df[\"Country/Market\"] = [killbrackets.sub(\"\", i) for i in df[\"Country/Market\"]]\n",
    "df[\"Period Active\"] = [killbrackets.sub(\"\", i) for i in df[\"Period Active\"]]\n",
    "df[\"Year of First Record\"] = [killbrackets.sub(\"\", i) for i in df[\"Year of First Record\"]]\n",
    "df[\"Genre\"] = [killbrackets.sub(\"\", i) for i in df[\"Genre\"]]\n",
    "df[\"Total Certified Units\"] = [killbrackets.sub(\"\", i) for i in df[\"Total Certified Units\"]]\n",
    "df[\"Claimed Sales\"] = [killbrackets.sub(\"\", i) for i in df[\"Claimed Sales\"]]"
   ]
  },
  {
   "cell_type": "code",
   "execution_count": 185,
   "metadata": {},
   "outputs": [],
   "source": [
    "#replace \"present\" to 2018 in Period Active\n",
    "df[\"Period Active\"] = pd.Series(df[\"Period Active\"]).str.replace(\"present\", \"2018\")\n",
    "\n",
    "#calculate the length of years playing music for each band\n",
    "for i in range(89):\n",
    "    int1 = int(df[\"Period Active\"][i][5:9])\n",
    "    int2 = int(df[\"Period Active\"][i][0:4])\n",
    "    df['Period Active'][i] = int1-int2\n",
    "\n",
    "#rename column    \n",
    "df = df.rename(index=str, columns={\"Period Active\": \"Years Active\"})"
   ]
  },
  {
   "cell_type": "code",
   "execution_count": 186,
   "metadata": {},
   "outputs": [
    {
     "data": {
      "text/html": [
       "<div>\n",
       "<style scoped>\n",
       "    .dataframe tbody tr th:only-of-type {\n",
       "        vertical-align: middle;\n",
       "    }\n",
       "\n",
       "    .dataframe tbody tr th {\n",
       "        vertical-align: top;\n",
       "    }\n",
       "\n",
       "    .dataframe thead th {\n",
       "        text-align: right;\n",
       "    }\n",
       "</style>\n",
       "<table border=\"1\" class=\"dataframe\">\n",
       "  <thead>\n",
       "    <tr style=\"text-align: right;\">\n",
       "      <th></th>\n",
       "      <th>Artist</th>\n",
       "      <th>Country/Market</th>\n",
       "      <th>Years Active</th>\n",
       "      <th>Year of First Record</th>\n",
       "      <th>Genre</th>\n",
       "      <th>Total Certified Units</th>\n",
       "      <th>Claimed Sales</th>\n",
       "    </tr>\n",
       "  </thead>\n",
       "  <tbody>\n",
       "    <tr>\n",
       "      <th>0</th>\n",
       "      <td>The Beatles</td>\n",
       "      <td>United Kingdom</td>\n",
       "      <td>10</td>\n",
       "      <td>1962</td>\n",
       "      <td>Rock  /  Pop</td>\n",
       "      <td>7002271100000000000♠  Total available certifie...</td>\n",
       "      <td>600 million    500 million</td>\n",
       "    </tr>\n",
       "    <tr>\n",
       "      <th>1</th>\n",
       "      <td>Elvis Presley</td>\n",
       "      <td>United States</td>\n",
       "      <td>23</td>\n",
       "      <td>1954</td>\n",
       "      <td>Rock and roll  / Pop /  Country</td>\n",
       "      <td>7002212400000000000♠  Total available certifie...</td>\n",
       "      <td>600 million    500 million</td>\n",
       "    </tr>\n",
       "    <tr>\n",
       "      <th>2</th>\n",
       "      <td>Michael Jackson</td>\n",
       "      <td>United States</td>\n",
       "      <td>45</td>\n",
       "      <td>1971</td>\n",
       "      <td>Pop / Rock / Dance / Soul /  R&amp;B</td>\n",
       "      <td>7002184600000000000♠  Total available certifie...</td>\n",
       "      <td>350 million    300 million</td>\n",
       "    </tr>\n",
       "    <tr>\n",
       "      <th>3</th>\n",
       "      <td>Madonna</td>\n",
       "      <td>United States</td>\n",
       "      <td>39</td>\n",
       "      <td>1982</td>\n",
       "      <td>Pop / Dance /  Electronica</td>\n",
       "      <td>7002170600000000000♠  Total available certifie...</td>\n",
       "      <td>300 million    275 million</td>\n",
       "    </tr>\n",
       "    <tr>\n",
       "      <th>4</th>\n",
       "      <td>Elton John</td>\n",
       "      <td>United Kingdom</td>\n",
       "      <td>54</td>\n",
       "      <td>1969</td>\n",
       "      <td>Pop / Rock</td>\n",
       "      <td>7002169000000000000♠  Total available certifie...</td>\n",
       "      <td>300 million    250 million</td>\n",
       "    </tr>\n",
       "  </tbody>\n",
       "</table>\n",
       "</div>"
      ],
      "text/plain": [
       "            Artist  Country/Market Years Active Year of First Record  \\\n",
       "0      The Beatles  United Kingdom           10                1962    \n",
       "1    Elvis Presley   United States           23                1954    \n",
       "2  Michael Jackson   United States           45                1971    \n",
       "3          Madonna   United States           39                1982    \n",
       "4       Elton John  United Kingdom           54                1969    \n",
       "\n",
       "                               Genre  \\\n",
       "0                      Rock  /  Pop    \n",
       "1   Rock and roll  / Pop /  Country    \n",
       "2  Pop / Rock / Dance / Soul /  R&B    \n",
       "3        Pop / Dance /  Electronica    \n",
       "4                        Pop / Rock    \n",
       "\n",
       "                               Total Certified Units  \\\n",
       "0  7002271100000000000♠  Total available certifie...   \n",
       "1  7002212400000000000♠  Total available certifie...   \n",
       "2  7002184600000000000♠  Total available certifie...   \n",
       "3  7002170600000000000♠  Total available certifie...   \n",
       "4  7002169000000000000♠  Total available certifie...   \n",
       "\n",
       "                  Claimed Sales  \n",
       "0   600 million    500 million   \n",
       "1   600 million    500 million   \n",
       "2  350 million    300 million    \n",
       "3   300 million    275 million   \n",
       "4  300 million    250 million    "
      ]
     },
     "execution_count": 186,
     "metadata": {},
     "output_type": "execute_result"
    }
   ],
   "source": [
    "df.head(5)"
   ]
  },
  {
   "cell_type": "code",
   "execution_count": 187,
   "metadata": {},
   "outputs": [],
   "source": [
    "df.to_pickle(\"raw_band_data.pkl\")"
   ]
  },
  {
   "cell_type": "code",
   "execution_count": 240,
   "metadata": {},
   "outputs": [],
   "source": [
    "#deal with that pesky \"Total Certified Units\" column.\n",
    "#this whole ordeal will return a dictionary of small dictionaries\n",
    "\n",
    "bands = {}\n",
    "\n",
    "def formats(s):\n",
    "#takes in the raw TCU string\n",
    " #  uses the RegularExpressionsStuff to format it\n",
    "  # returns a list of tuples [(country: number), (country2: number2), ...]'''\n",
    "    rgxnospaces = re.compile(r\"([A-Z]+)\\s*(?:: )?([0-9]+\\.[0-9]+|[0-9]+,[0-9]{3})\") \n",
    "    return(rgxnospaces.findall(s))\n",
    "\n",
    "\n",
    "def makedict(s):\n",
    "#'''takes in the post-regex list of tuples\n",
    " #  creates a dictionary with 3digit country code is the key, values are numbers\n",
    "  # returns the dictionary'''\n",
    "    monies = {i:aux(j) for i,j in s}\n",
    "    return monies\n",
    "\n",
    "\n",
    "def aux(j):\n",
    "#'''works within makedict(s)\n",
    " #  converts millions to actual numbers, and all numbers to ints'''\n",
    "    if \",\" in j:\n",
    "        return int(j.replace(\",\",\"\"))\n",
    "    else:\n",
    "        return int(float(j)*1000000)\n",
    "    \n",
    "    \n",
    "def banddict(df):\n",
    "#'''takes in the full raw df\n",
    " #  returns a dictionary of things we want'''\n",
    "    for i in range(89):\n",
    "        ccoded = pd.Series(makedict(formats(df[\"Total Certified Units\"][i])))\n",
    "        bands[df[\"Artist\"][i]] = ccoded\n",
    "    return bands \n",
    "\n",
    "\n",
    "def totalcertcounts(df):\n",
    "    for i in range(89):\n",
    "        tcurgx = re.compile(r\"^[0-9]+[^0-9]+([0-9\\.]+)\")\n",
    "        value = (tcurgx.findall(df[\"Total Certified Units\"][i]))\n",
    "        v1 = value[0]\n",
    "        v2 = float(v1)\n",
    "        v3 = v2*1000000\n",
    "        v4 = int(v3)\n",
    "        df['Certified Sales'][i] = v4 \n",
    "    return df\n",
    "        "
   ]
  },
  {
   "cell_type": "code",
   "execution_count": 244,
   "metadata": {},
   "outputs": [
    {
     "data": {
      "text/html": [
       "<div>\n",
       "<style scoped>\n",
       "    .dataframe tbody tr th:only-of-type {\n",
       "        vertical-align: middle;\n",
       "    }\n",
       "\n",
       "    .dataframe tbody tr th {\n",
       "        vertical-align: top;\n",
       "    }\n",
       "\n",
       "    .dataframe thead th {\n",
       "        text-align: right;\n",
       "    }\n",
       "</style>\n",
       "<table border=\"1\" class=\"dataframe\">\n",
       "  <thead>\n",
       "    <tr style=\"text-align: right;\">\n",
       "      <th></th>\n",
       "      <th>Artist</th>\n",
       "      <th>Country/Market</th>\n",
       "      <th>Years Active</th>\n",
       "      <th>Year of First Record</th>\n",
       "      <th>Genre</th>\n",
       "      <th>Total Certified Units</th>\n",
       "      <th>Claimed Sales</th>\n",
       "      <th>Certified Sales</th>\n",
       "    </tr>\n",
       "  </thead>\n",
       "  <tbody>\n",
       "    <tr>\n",
       "      <th>0</th>\n",
       "      <td>The Beatles</td>\n",
       "      <td>United Kingdom</td>\n",
       "      <td>10</td>\n",
       "      <td>1962</td>\n",
       "      <td>Rock  /  Pop</td>\n",
       "      <td>7002271100000000000♠  Total available certifie...</td>\n",
       "      <td>600 million    500 million</td>\n",
       "      <td>271100000.0</td>\n",
       "    </tr>\n",
       "    <tr>\n",
       "      <th>1</th>\n",
       "      <td>Elvis Presley</td>\n",
       "      <td>United States</td>\n",
       "      <td>23</td>\n",
       "      <td>1954</td>\n",
       "      <td>Rock and roll  / Pop /  Country</td>\n",
       "      <td>7002212400000000000♠  Total available certifie...</td>\n",
       "      <td>600 million    500 million</td>\n",
       "      <td>212400000.0</td>\n",
       "    </tr>\n",
       "  </tbody>\n",
       "</table>\n",
       "</div>"
      ],
      "text/plain": [
       "          Artist  Country/Market Years Active Year of First Record  \\\n",
       "0    The Beatles  United Kingdom           10                1962    \n",
       "1  Elvis Presley   United States           23                1954    \n",
       "\n",
       "                              Genre  \\\n",
       "0                     Rock  /  Pop    \n",
       "1  Rock and roll  / Pop /  Country    \n",
       "\n",
       "                               Total Certified Units  \\\n",
       "0  7002271100000000000♠  Total available certifie...   \n",
       "1  7002212400000000000♠  Total available certifie...   \n",
       "\n",
       "                 Claimed Sales  Certified Sales  \n",
       "0  600 million    500 million       271100000.0  \n",
       "1  600 million    500 million       212400000.0  "
      ]
     },
     "execution_count": 244,
     "metadata": {},
     "output_type": "execute_result"
    }
   ],
   "source": [
    "#create an empty column to recieve our certified sales data\n",
    "df = df.reindex(columns = ['Artist', \n",
    "                           'Country/Market', \n",
    "                           'Years Active', \n",
    "                           'Year of First Record',\n",
    "                           'Genre',\n",
    "                           'Total Certified Units',\n",
    "                           'Claimed Sales',\n",
    "                           'Certified Sales'])\n",
    "df.head(2)   "
   ]
  },
  {
   "cell_type": "code",
   "execution_count": 245,
   "metadata": {
    "scrolled": false
   },
   "outputs": [
    {
     "name": "stderr",
     "output_type": "stream",
     "text": [
      "/anaconda3/lib/python3.6/site-packages/ipykernel_launcher.py:48: SettingWithCopyWarning: \n",
      "A value is trying to be set on a copy of a slice from a DataFrame\n",
      "\n",
      "See the caveats in the documentation: http://pandas.pydata.org/pandas-docs/stable/indexing.html#indexing-view-versus-copy\n"
     ]
    },
    {
     "data": {
      "text/html": [
       "<div>\n",
       "<style scoped>\n",
       "    .dataframe tbody tr th:only-of-type {\n",
       "        vertical-align: middle;\n",
       "    }\n",
       "\n",
       "    .dataframe tbody tr th {\n",
       "        vertical-align: top;\n",
       "    }\n",
       "\n",
       "    .dataframe thead th {\n",
       "        text-align: right;\n",
       "    }\n",
       "</style>\n",
       "<table border=\"1\" class=\"dataframe\">\n",
       "  <thead>\n",
       "    <tr style=\"text-align: right;\">\n",
       "      <th></th>\n",
       "      <th>Artist</th>\n",
       "      <th>Country/Market</th>\n",
       "      <th>Years Active</th>\n",
       "      <th>Year of First Record</th>\n",
       "      <th>Genre</th>\n",
       "      <th>Total Certified Units</th>\n",
       "      <th>Claimed Sales</th>\n",
       "      <th>Certified Sales</th>\n",
       "    </tr>\n",
       "  </thead>\n",
       "  <tbody>\n",
       "    <tr>\n",
       "      <th>0</th>\n",
       "      <td>The Beatles</td>\n",
       "      <td>United Kingdom</td>\n",
       "      <td>10</td>\n",
       "      <td>1962</td>\n",
       "      <td>Rock  /  Pop</td>\n",
       "      <td>7002271100000000000♠  Total available certifie...</td>\n",
       "      <td>600 million    500 million</td>\n",
       "      <td>271100000.0</td>\n",
       "    </tr>\n",
       "    <tr>\n",
       "      <th>1</th>\n",
       "      <td>Elvis Presley</td>\n",
       "      <td>United States</td>\n",
       "      <td>23</td>\n",
       "      <td>1954</td>\n",
       "      <td>Rock and roll  / Pop /  Country</td>\n",
       "      <td>7002212400000000000♠  Total available certifie...</td>\n",
       "      <td>600 million    500 million</td>\n",
       "      <td>212400000.0</td>\n",
       "    </tr>\n",
       "  </tbody>\n",
       "</table>\n",
       "</div>"
      ],
      "text/plain": [
       "          Artist  Country/Market Years Active Year of First Record  \\\n",
       "0    The Beatles  United Kingdom           10                1962    \n",
       "1  Elvis Presley   United States           23                1954    \n",
       "\n",
       "                              Genre  \\\n",
       "0                     Rock  /  Pop    \n",
       "1  Rock and roll  / Pop /  Country    \n",
       "\n",
       "                               Total Certified Units  \\\n",
       "0  7002271100000000000♠  Total available certifie...   \n",
       "1  7002212400000000000♠  Total available certifie...   \n",
       "\n",
       "                 Claimed Sales  Certified Sales  \n",
       "0  600 million    500 million       271100000.0  \n",
       "1  600 million    500 million       212400000.0  "
      ]
     },
     "execution_count": 245,
     "metadata": {},
     "output_type": "execute_result"
    }
   ],
   "source": [
    "#populate the total certifiable sales data into the new column\n",
    "df = totalcertcounts(df)\n",
    "df.head(2)"
   ]
  },
  {
   "cell_type": "code",
   "execution_count": 148,
   "metadata": {},
   "outputs": [],
   "source": [
    "#df = df.set_index('Artist')   #sets the \"Artist\" to be the index, instead of arbitrary numbers"
   ]
  },
  {
   "cell_type": "code",
   "execution_count": null,
   "metadata": {},
   "outputs": [],
   "source": [
    "#banddict is a dictionary.\n",
    "#need to convert it to a pandas dataframe, then combine it with the other columns of data\n",
    "\n",
    "df2=pd.DataFrame.from_dict(bands, orient='index')"
   ]
  },
  {
   "cell_type": "code",
   "execution_count": null,
   "metadata": {},
   "outputs": [],
   "source": [
    "df3 = pd.concat([df, df2], axis=1)   #creates df3 as a pandastable of alphabetized artists and their attributes\n",
    "df3.head(2)"
   ]
  },
  {
   "cell_type": "code",
   "execution_count": null,
   "metadata": {},
   "outputs": [],
   "source": []
  },
  {
   "cell_type": "code",
   "execution_count": null,
   "metadata": {},
   "outputs": [],
   "source": []
  },
  {
   "cell_type": "code",
   "execution_count": null,
   "metadata": {},
   "outputs": [],
   "source": []
  }
 ],
 "metadata": {
  "kernelspec": {
   "display_name": "Python 3",
   "language": "python",
   "name": "python3"
  },
  "language_info": {
   "codemirror_mode": {
    "name": "ipython",
    "version": 3
   },
   "file_extension": ".py",
   "mimetype": "text/x-python",
   "name": "python",
   "nbconvert_exporter": "python",
   "pygments_lexer": "ipython3",
   "version": "3.6.4"
  }
 },
 "nbformat": 4,
 "nbformat_minor": 2
}
