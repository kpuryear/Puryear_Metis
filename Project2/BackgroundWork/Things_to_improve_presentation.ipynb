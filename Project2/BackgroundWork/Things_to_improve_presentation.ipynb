{
 "cells": [
  {
   "attachments": {},
   "cell_type": "markdown",
   "metadata": {},
   "source": [
    "### Improvements to Presentation\n",
    "Ridge Regression is good for this model\n",
    "\n",
    "Make a “future plans” slide for everything.\n",
    "\n",
    "Regularization is a mandatory part of this project.\n",
    "\n",
    "Correlation plots =  red is positive, blue is negative\n",
    "\n",
    "Why were the sklearn and statsmodels different? Should update the model after regularizing and cross validating. I feel like I got different models for each, and never compiled them.\n",
    "\n",
    "Should have gotten data from multiple sources\n",
    "\n",
    "Should have gotten more bands, more rows are better\n",
    "\n",
    "Make an overview slide\n",
    "\n",
    "Break the analysis into phases, or something\n",
    "\n",
    "You need to really go deeper on everything. Check out what other things are available in the packages you’re using."
   ]
  },
  {
   "cell_type": "code",
   "execution_count": null,
   "metadata": {},
   "outputs": [],
   "source": []
  }
 ],
 "metadata": {
  "kernelspec": {
   "display_name": "Python 3",
   "language": "python",
   "name": "python3"
  },
  "language_info": {
   "codemirror_mode": {
    "name": "ipython",
    "version": 3
   },
   "file_extension": ".py",
   "mimetype": "text/x-python",
   "name": "python",
   "nbconvert_exporter": "python",
   "pygments_lexer": "ipython3",
   "version": "3.6.4"
  }
 },
 "nbformat": 4,
 "nbformat_minor": 2
}
