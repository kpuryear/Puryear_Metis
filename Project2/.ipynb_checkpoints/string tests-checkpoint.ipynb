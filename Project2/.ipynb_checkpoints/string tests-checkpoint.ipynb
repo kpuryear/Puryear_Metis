{
 "cells": [
  {
   "cell_type": "code",
   "execution_count": 29,
   "metadata": {},
   "outputs": [],
   "source": [
    "import re\n",
    "import pandas as pd\n",
    "\n",
    "df = pd.read_pickle('raw_band_data.pkl')"
   ]
  },
  {
   "cell_type": "code",
   "execution_count": 30,
   "metadata": {},
   "outputs": [
    {
     "data": {
      "text/html": [
       "<div>\n",
       "<style scoped>\n",
       "    .dataframe tbody tr th:only-of-type {\n",
       "        vertical-align: middle;\n",
       "    }\n",
       "\n",
       "    .dataframe tbody tr th {\n",
       "        vertical-align: top;\n",
       "    }\n",
       "\n",
       "    .dataframe thead th {\n",
       "        text-align: right;\n",
       "    }\n",
       "</style>\n",
       "<table border=\"1\" class=\"dataframe\">\n",
       "  <thead>\n",
       "    <tr style=\"text-align: right;\">\n",
       "      <th></th>\n",
       "      <th>Artist</th>\n",
       "      <th>Country/Market</th>\n",
       "      <th>Period Active</th>\n",
       "      <th>Year of First Record</th>\n",
       "      <th>Genre</th>\n",
       "      <th>Total Certified Units</th>\n",
       "      <th>Claimed Sales</th>\n",
       "    </tr>\n",
       "  </thead>\n",
       "  <tbody>\n",
       "    <tr>\n",
       "      <th>0</th>\n",
       "      <td>The Beatles</td>\n",
       "      <td>United Kingdom</td>\n",
       "      <td>1960–1970</td>\n",
       "      <td>1962</td>\n",
       "      <td>Rock  /  Pop</td>\n",
       "      <td>7002271100000000000♠  Total available certifie...</td>\n",
       "      <td>600 million    500 million</td>\n",
       "    </tr>\n",
       "    <tr>\n",
       "      <th>1</th>\n",
       "      <td>Elvis Presley</td>\n",
       "      <td>United States</td>\n",
       "      <td>1954–1977</td>\n",
       "      <td>1954</td>\n",
       "      <td>Rock and roll  / Pop /  Country</td>\n",
       "      <td>7002212400000000000♠  Total available certifie...</td>\n",
       "      <td>600 million    500 million</td>\n",
       "    </tr>\n",
       "    <tr>\n",
       "      <th>2</th>\n",
       "      <td>Michael Jackson</td>\n",
       "      <td>United States</td>\n",
       "      <td>1964–2009</td>\n",
       "      <td>1971</td>\n",
       "      <td>Pop / Rock / Dance / Soul /  R&amp;B</td>\n",
       "      <td>7002184600000000000♠  Total available certifie...</td>\n",
       "      <td>350 million    300 million</td>\n",
       "    </tr>\n",
       "    <tr>\n",
       "      <th>3</th>\n",
       "      <td>Madonna</td>\n",
       "      <td>United States</td>\n",
       "      <td>1979–present</td>\n",
       "      <td>1982</td>\n",
       "      <td>Pop / Dance /  Electronica</td>\n",
       "      <td>7002170600000000000♠  Total available certifie...</td>\n",
       "      <td>300 million    275 million</td>\n",
       "    </tr>\n",
       "    <tr>\n",
       "      <th>4</th>\n",
       "      <td>Elton John</td>\n",
       "      <td>United Kingdom</td>\n",
       "      <td>1964–present</td>\n",
       "      <td>1969</td>\n",
       "      <td>Pop / Rock</td>\n",
       "      <td>7002169000000000000♠  Total available certifie...</td>\n",
       "      <td>300 million    250 million</td>\n",
       "    </tr>\n",
       "  </tbody>\n",
       "</table>\n",
       "</div>"
      ],
      "text/plain": [
       "            Artist  Country/Market  Period Active Year of First Record  \\\n",
       "0      The Beatles  United Kingdom     1960–1970                 1962    \n",
       "1    Elvis Presley   United States     1954–1977                 1954    \n",
       "2  Michael Jackson   United States     1964–2009                 1971    \n",
       "3          Madonna   United States  1979–present                 1982    \n",
       "4       Elton John  United Kingdom  1964–present                 1969    \n",
       "\n",
       "                               Genre  \\\n",
       "0                      Rock  /  Pop    \n",
       "1   Rock and roll  / Pop /  Country    \n",
       "2  Pop / Rock / Dance / Soul /  R&B    \n",
       "3        Pop / Dance /  Electronica    \n",
       "4                        Pop / Rock    \n",
       "\n",
       "                               Total Certified Units  \\\n",
       "0  7002271100000000000♠  Total available certifie...   \n",
       "1  7002212400000000000♠  Total available certifie...   \n",
       "2  7002184600000000000♠  Total available certifie...   \n",
       "3  7002170600000000000♠  Total available certifie...   \n",
       "4  7002169000000000000♠  Total available certifie...   \n",
       "\n",
       "                  Claimed Sales  \n",
       "0   600 million    500 million   \n",
       "1   600 million    500 million   \n",
       "2  350 million    300 million    \n",
       "3   300 million    275 million   \n",
       "4  300 million    250 million    "
      ]
     },
     "execution_count": 30,
     "metadata": {},
     "output_type": "execute_result"
    }
   ],
   "source": [
    "df.head()"
   ]
  },
  {
   "cell_type": "code",
   "execution_count": 64,
   "metadata": {},
   "outputs": [],
   "source": [
    "'''If you need it, here is a sample of the TCU data from Beatles'''\n",
    "#s = '7002271100000000000♠  Total available certified units: 271.1 million  US  : 212.250 million   JPN  : 4.950 million    UK  : 18.045 million    GER  : 8 million    FRA  : 3.890 million     CAN  : 14.455 million    AUS  : 3.060 million     ITA  : 355,000    BRA  : 550,000    SWE  485,000    SPA  : 1.250 million     SWI  : 350,000    BEL  : 265,000     ARG  : 1.606 million     DEN  : 270,000     AUT  : 500,000    POL  : 175,000    NZ  : 660,000   '\n",
    "#print(s)"
   ]
  },
  {
   "cell_type": "code",
   "execution_count": 18,
   "metadata": {},
   "outputs": [],
   "source": [
    "def formats(s):\n",
    "'''takes in the raw TCU string\n",
    "   uses the RegularExpressionsStuff to format it\n",
    "   returns a list of tuples [(country: number), (country2: number2), ...]'''\n",
    "    rgx = re.compile(r\"([A-Z]+)  (?:: )?([0-9]+\\.[0-9]+|[0-9]+,[0-9]{3})\")\n",
    "    return(rgx.findall(s))\n",
    "\n",
    "\n",
    "def makedict(s):\n",
    "'''takes in the post-regex list of tuples\n",
    "   creates a dictionary with 3digit country code is the key, values are numbers\n",
    "   returns the dictionary'''\n",
    "    monies = {i:aux(j) for i,j in s}\n",
    "    return monies\n",
    "\n",
    "\n",
    "def aux(j):\n",
    "'''works within makedict(s)\n",
    "   converts millions to actual numbers, and all numbers to ints'''\n",
    "    if \",\" in j:\n",
    "        return int(j.replace(\",\",\"\"))\n",
    "    else:\n",
    "        return int(float(j)*1000000)\n",
    "    \n",
    "    \n",
    "def banddict(s):                                         #<----------this needs work\n",
    "'''takes in the full raw df\n",
    "   returns a dictionary of things we want'''\n",
    "    bands = {i:pd.Series(makedict(formats(j))) for i,j in s}\n",
    "    return bands    \n",
    "    \n",
    "'''workflow'''\n",
    "#m = formats(s) #gives tuple format\n",
    "#l = makedict(m) #takes care of the millions and makes a dictionary\n",
    "#k = pd.Series(l) #turns it into a pandas series\n",
    "#j = banddict(k) #creates the huge dictionary, with band as key countries and stuff as values"
   ]
  },
  {
   "cell_type": "code",
   "execution_count": 72,
   "metadata": {},
   "outputs": [
    {
     "data": {
      "text/plain": [
       "ARG      1606000\n",
       "AUS      3060000\n",
       "AUT       500000\n",
       "BEL       265000\n",
       "BRA       550000\n",
       "CAN     14455000\n",
       "DEN       270000\n",
       "FRA      3890000\n",
       "ITA       355000\n",
       "JPN      4950000\n",
       "NZ        660000\n",
       "POL       175000\n",
       "SPA      1250000\n",
       "SWE       485000\n",
       "SWI       350000\n",
       "UK      18045000\n",
       "US     212250000\n",
       "dtype: int64"
      ]
     },
     "execution_count": 72,
     "metadata": {},
     "output_type": "execute_result"
    }
   ],
   "source": [
    "pd.Series(k)"
   ]
  },
  {
   "cell_type": "code",
   "execution_count": 22,
   "metadata": {},
   "outputs": [
    {
     "data": {
      "text/plain": [
       "{'Elvis Presley': FIN    213945\n",
       " MEX    105000\n",
       " dtype: int64,\n",
       " 'Michael Jackson': Series([], dtype: float64),\n",
       " 'The Beatles': ARG      1606000\n",
       " AUS      3060000\n",
       " AUT       500000\n",
       " BEL       265000\n",
       " BRA       550000\n",
       " CAN     14455000\n",
       " DEN       270000\n",
       " FRA      3890000\n",
       " ITA       355000\n",
       " JPN      4950000\n",
       " NZ        660000\n",
       " POL       175000\n",
       " SPA      1250000\n",
       " SWE       485000\n",
       " SWI       350000\n",
       " UK      18045000\n",
       " US     212250000\n",
       " dtype: int64}"
      ]
     },
     "execution_count": 22,
     "metadata": {},
     "output_type": "execute_result"
    }
   ],
   "source": [
    "#imports the band data to the total band dictionary\n",
    "artists = df.iloc[0:3, 0] \n",
    "tcu = df.iloc[0:3, 5]\n",
    "d = list(zip(artists, tcu))\n",
    "#returns tuple list\n",
    "\n",
    "banddict(d)"
   ]
  },
  {
   "cell_type": "code",
   "execution_count": 28,
   "metadata": {},
   "outputs": [
    {
     "data": {
      "text/plain": [
       "'7002184600000000000♠  Total available certified units: 184.6 million  US: 104.5 million   JPN: 4.650 million     UK: 27.545 million   GER: 11.275 million   FRA: 11.375 million     CAN: 4.670 million   AUS: 6.670 million        ITA: 1.170 million    BRA: 280,000    SWE: 1.230 million     SPA: 1.995 million        MEX: 3.670 million    SWI: 910,000    BEL: 365,000     ARG: 124,000     DEN: 1.224 million      AUT: 1.197 million    POL: 530,000    FIN: 384,127   NZ: 902,500  '"
      ]
     },
     "execution_count": 28,
     "metadata": {},
     "output_type": "execute_result"
    }
   ],
   "source": [
    "df[\"Total Certified Units\"][2]"
   ]
  },
  {
   "cell_type": "code",
   "execution_count": 27,
   "metadata": {},
   "outputs": [
    {
     "data": {
      "text/plain": [
       "[]"
      ]
     },
     "execution_count": 27,
     "metadata": {},
     "output_type": "execute_result"
    }
   ],
   "source": [
    "#something is wrong with the formats function...\n",
    "formats(mj)"
   ]
  },
  {
   "cell_type": "code",
   "execution_count": null,
   "metadata": {},
   "outputs": [],
   "source": []
  }
 ],
 "metadata": {
  "kernelspec": {
   "display_name": "Python 3",
   "language": "python",
   "name": "python3"
  },
  "language_info": {
   "codemirror_mode": {
    "name": "ipython",
    "version": 3
   },
   "file_extension": ".py",
   "mimetype": "text/x-python",
   "name": "python",
   "nbconvert_exporter": "python",
   "pygments_lexer": "ipython3",
   "version": "3.6.4"
  }
 },
 "nbformat": 4,
 "nbformat_minor": 2
}
