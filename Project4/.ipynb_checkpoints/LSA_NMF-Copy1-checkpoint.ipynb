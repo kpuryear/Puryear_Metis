{
 "cells": [
  {
   "cell_type": "markdown",
   "metadata": {
    "slideshow": {
     "slide_type": "slide"
    }
   },
   "source": [
    "# PCA or SVD or LSA or LSI and NMF"
   ]
  },
  {
   "cell_type": "markdown",
   "metadata": {
    "slideshow": {
     "slide_type": "slide"
    }
   },
   "source": [
    "or"
   ]
  },
  {
   "cell_type": "markdown",
   "metadata": {
    "slideshow": {
     "slide_type": "slide"
    }
   },
   "source": [
    "# Matrix Factorization and its Applications"
   ]
  },
  {
   "cell_type": "markdown",
   "metadata": {
    "slideshow": {
     "slide_type": "slide"
    }
   },
   "source": [
    "- PCA\n",
    "- SVD\n",
    "- LSI\n",
    "- LSA\n",
    "\n",
    "![](http://m.memegen.com/l4syl9.jpg)\n"
   ]
  },
  {
   "cell_type": "markdown",
   "metadata": {
    "slideshow": {
     "slide_type": "slide"
    }
   },
   "source": [
    "Relax!"
   ]
  },
  {
   "cell_type": "markdown",
   "metadata": {
    "slideshow": {
     "slide_type": "slide"
    }
   },
   "source": [
    "Its all just Decomposition"
   ]
  },
  {
   "cell_type": "markdown",
   "metadata": {
    "slideshow": {
     "slide_type": "slide"
    }
   },
   "source": [
    "### PCA \n",
    "\n",
    "is just SVD on X.\n",
    "\n",
    "It is related to Eigenvalue decomposition on the covariance matrix for X. However, it is often easier to compute SVD than a large covariance matrix."
   ]
  },
  {
   "cell_type": "markdown",
   "metadata": {
    "slideshow": {
     "slide_type": "slide"
    }
   },
   "source": [
    "$$Cov(X) = X^TX$$\n",
    "\n",
    "$$X = U\\Sigma V^T$$\n",
    "\n",
    "$$Cov(X) = Cov(U\\Sigma V^T)$$\n",
    "\n",
    "$$X^TX = U\\Sigma V^T V \\Sigma U^T$$  but $$V^T V = I$$\n",
    "\n",
    "So $$X^TX = U\\Sigma^2 U^T$$"
   ]
  },
  {
   "cell_type": "markdown",
   "metadata": {
    "slideshow": {
     "slide_type": "slide"
    }
   },
   "source": [
    "### LSA\n",
    "\n",
    "Latent Semantic Analysis is just SVD applied to a word/document matrix\n",
    "\n",
    "- D1 = \"I like databases\"\n",
    "- D2 = \"I hate databases\"\n",
    "\n",
    "then the document-term matrix would be:\n",
    "\n",
    "$$ \\begin{matrix} 1 & 1 & 0 & 1 \\\\ 1 & 0 & 1 & 1  \\end{matrix} $$\n",
    "\n",
    "With each row being a different document\n",
    "and each column being a new word"
   ]
  },
  {
   "cell_type": "markdown",
   "metadata": {
    "slideshow": {
     "slide_type": "slide"
    }
   },
   "source": [
    "In this case our decomposition has a new interpretation:\n",
    "- $\\Sigma$ are the importances of each of our topics\n",
    "- $U$ is a transform from a word vector to the topics that word is most used in\n",
    "- $V$ is transform from each document to the topics it is about"
   ]
  },
  {
   "cell_type": "markdown",
   "metadata": {
    "slideshow": {
     "slide_type": "slide"
    }
   },
   "source": [
    "### EigenFaces\n",
    "\n",
    "If SVD is applied to a bunch of face shots, we get eigenfaces. Which look creepy, but are really useful for facial detection.\n",
    "\n",
    "![](http://archive.cnx.org/resources/28b7669c052b1d7ec07962bb69aa5cc3733eb868/PCA_Face.png)\n"
   ]
  },
  {
   "cell_type": "markdown",
   "metadata": {
    "slideshow": {
     "slide_type": "slide"
    }
   },
   "source": [
    "### Recommendation systems\n",
    "\n",
    "Recommendation systems can be thought of as applying SVD to an User/Item matrix"
   ]
  },
  {
   "cell_type": "markdown",
   "metadata": {
    "slideshow": {
     "slide_type": "slide"
    }
   },
   "source": [
    "In this case our decomposition has a new interpretation:\n",
    "- $\\Sigma$ are the importances of each of our latent features\n",
    "- $U$ is a transform from a persons buying habits/reviews to the latent features that represent thier preferences\n",
    "- $V$ is transform from the list of people who like this, to the latent features\n",
    "\n",
    "By setting a large number of our singular values to 0, and reconstructing the original matrix, we will gain an estimate of how much each user will like each item."
   ]
  },
  {
   "cell_type": "markdown",
   "metadata": {
    "slideshow": {
     "slide_type": "slide"
    }
   },
   "source": [
    "### PageRank\n",
    "\n",
    "PageRank can also be thought of as a similar use of this concept. \n",
    "\n",
    "PageRank is SVD on a markov chain."
   ]
  },
  {
   "cell_type": "markdown",
   "metadata": {
    "slideshow": {
     "slide_type": "slide"
    }
   },
   "source": [
    "Any markov chain can be expressed as a matrix from starting state -> ending state\n",
    "\n",
    "This matrix has the property that each column will sum to 1. Because of that, we know that the largest Eigen value will be 1. We can truncate all the rest\n",
    "\n",
    "- $\\Sigma = \\begin{bmatrix}1 & 0 & \\cdots & 0 \\\\0 & 0 & \\cdots & 0 \\\\ \\vdots & \\vdots & \\ddots & 0 \\\\ 0 &0 & 0 & 0 \\end{bmatrix}$\n",
    "- $U$ is can be thought of as the distribution of states after the system has fallen into equilibrium"
   ]
  },
  {
   "cell_type": "markdown",
   "metadata": {
    "slideshow": {
     "slide_type": "slide"
    }
   },
   "source": [
    "in the case of trust systems like page links or skill endorsements this can be thought of as a representation of who has the most trust.\n",
    "\n",
    "In traffic flows this could be the proper number of uhaul trucks to put in each city, or citibikes to put at each station"
   ]
  },
  {
   "cell_type": "markdown",
   "metadata": {
    "slideshow": {
     "slide_type": "slide"
    }
   },
   "source": [
    "### Word2Vec or GloVe\n",
    "\n",
    "[In this paper](https://levyomer.files.wordpress.com/2014/09/neural-word-embeddings-as-implicit-matrix-factorization.pdf) it was shown that word2vec is actually implicitly doing a matrix decomposition.\n",
    "\n",
    "The word2vec implementation is doing a single hidden layer Neural network. But since each layer transformation can be thought of as a decomposition into two weights matrix.\n",
    "\n",
    "Word2vec is implicitly solving a SVD on 'Pointwise Mutual Information' matrix, between the word and the other words in the its context."
   ]
  },
  {
   "cell_type": "markdown",
   "metadata": {
    "slideshow": {
     "slide_type": "slide"
    }
   },
   "source": [
    "In this case our decomposition has the interpretation:\n",
    "- $\\Sigma$ the importance of each word embedding dimension. in practice, this is usually merged with U\n",
    "- $U$ is the transform between each word and the word embedding dimension"
   ]
  },
  {
   "cell_type": "code",
   "execution_count": 1,
   "metadata": {
    "collapsed": false,
    "slideshow": {
     "slide_type": "slide"
    }
   },
   "outputs": [
    {
     "name": "stdout",
     "output_type": "stream",
     "text": [
      "Populating the interactive namespace from numpy and matplotlib\n"
     ]
    }
   ],
   "source": [
    "%pylab inline\n",
    "import numpy \n",
    "import matplotlib.pyplot as plt\n",
    "import sklearn\n",
    "# Import all of the scikit learn stuff\n",
    "from __future__ import print_function\n",
    "from sklearn.decomposition import TruncatedSVD\n",
    "from sklearn.feature_extraction.text import TfidfVectorizer \n",
    "from sklearn.feature_extraction.text import CountVectorizer \n",
    "from sklearn.preprocessing import Normalizer\n",
    "from sklearn import metrics\n",
    "from sklearn.cluster import KMeans, MiniBatchKMeans\n",
    "import pandas as pd"
   ]
  },
  {
   "cell_type": "code",
   "execution_count": 2,
   "metadata": {
    "collapsed": true,
    "slideshow": {
     "slide_type": "slide"
    }
   },
   "outputs": [],
   "source": [
    "example = ['Football baseball basketball',\n",
    "            'baseball giants cubs redsox',\n",
    "            'football broncos cowboys',\n",
    "            'baseball redsox tigers',\n",
    "            'pop stars hendrix prince',\n",
    "            'hendrix prince jagger rock',\n",
    "            'joplin pearl jam tupac rock',\n",
    "          ]\n",
    "\n",
    "# example = [\"Machine learning is super fun\", \n",
    "#            \"Python is super, super cool\",\n",
    "#             \"Statistics is cool, too\",\n",
    "#             \"Data science is fun\",\n",
    "#             \"Python is great for machine learning\",\n",
    "#             \"Python is effective for data science\",\n",
    "#             \"I like football\",\n",
    "#             \"Football is great to watch\"]"
   ]
  },
  {
   "cell_type": "code",
   "execution_count": 3,
   "metadata": {
    "collapsed": false,
    "scrolled": true,
    "slideshow": {
     "slide_type": "slide"
    }
   },
   "outputs": [
    {
     "data": {
      "text/html": [
       "<div>\n",
       "<table border=\"1\" class=\"dataframe\">\n",
       "  <thead>\n",
       "    <tr style=\"text-align: right;\">\n",
       "      <th></th>\n",
       "      <th>baseball</th>\n",
       "      <th>basketball</th>\n",
       "      <th>broncos</th>\n",
       "      <th>cowboys</th>\n",
       "      <th>cubs</th>\n",
       "      <th>football</th>\n",
       "      <th>giants</th>\n",
       "      <th>hendrix</th>\n",
       "      <th>jagger</th>\n",
       "      <th>jam</th>\n",
       "      <th>joplin</th>\n",
       "      <th>pearl</th>\n",
       "      <th>pop</th>\n",
       "      <th>prince</th>\n",
       "      <th>redsox</th>\n",
       "      <th>rock</th>\n",
       "      <th>stars</th>\n",
       "      <th>tigers</th>\n",
       "      <th>tupac</th>\n",
       "    </tr>\n",
       "  </thead>\n",
       "  <tbody>\n",
       "    <tr>\n",
       "      <th>Football baseball basketball</th>\n",
       "      <td>1</td>\n",
       "      <td>1</td>\n",
       "      <td>0</td>\n",
       "      <td>0</td>\n",
       "      <td>0</td>\n",
       "      <td>1</td>\n",
       "      <td>0</td>\n",
       "      <td>0</td>\n",
       "      <td>0</td>\n",
       "      <td>0</td>\n",
       "      <td>0</td>\n",
       "      <td>0</td>\n",
       "      <td>0</td>\n",
       "      <td>0</td>\n",
       "      <td>0</td>\n",
       "      <td>0</td>\n",
       "      <td>0</td>\n",
       "      <td>0</td>\n",
       "      <td>0</td>\n",
       "    </tr>\n",
       "    <tr>\n",
       "      <th>baseball giants cubs redsox</th>\n",
       "      <td>1</td>\n",
       "      <td>0</td>\n",
       "      <td>0</td>\n",
       "      <td>0</td>\n",
       "      <td>1</td>\n",
       "      <td>0</td>\n",
       "      <td>1</td>\n",
       "      <td>0</td>\n",
       "      <td>0</td>\n",
       "      <td>0</td>\n",
       "      <td>0</td>\n",
       "      <td>0</td>\n",
       "      <td>0</td>\n",
       "      <td>0</td>\n",
       "      <td>1</td>\n",
       "      <td>0</td>\n",
       "      <td>0</td>\n",
       "      <td>0</td>\n",
       "      <td>0</td>\n",
       "    </tr>\n",
       "    <tr>\n",
       "      <th>football broncos cowboys</th>\n",
       "      <td>0</td>\n",
       "      <td>0</td>\n",
       "      <td>1</td>\n",
       "      <td>1</td>\n",
       "      <td>0</td>\n",
       "      <td>1</td>\n",
       "      <td>0</td>\n",
       "      <td>0</td>\n",
       "      <td>0</td>\n",
       "      <td>0</td>\n",
       "      <td>0</td>\n",
       "      <td>0</td>\n",
       "      <td>0</td>\n",
       "      <td>0</td>\n",
       "      <td>0</td>\n",
       "      <td>0</td>\n",
       "      <td>0</td>\n",
       "      <td>0</td>\n",
       "      <td>0</td>\n",
       "    </tr>\n",
       "    <tr>\n",
       "      <th>baseball redsox tigers</th>\n",
       "      <td>1</td>\n",
       "      <td>0</td>\n",
       "      <td>0</td>\n",
       "      <td>0</td>\n",
       "      <td>0</td>\n",
       "      <td>0</td>\n",
       "      <td>0</td>\n",
       "      <td>0</td>\n",
       "      <td>0</td>\n",
       "      <td>0</td>\n",
       "      <td>0</td>\n",
       "      <td>0</td>\n",
       "      <td>0</td>\n",
       "      <td>0</td>\n",
       "      <td>1</td>\n",
       "      <td>0</td>\n",
       "      <td>0</td>\n",
       "      <td>1</td>\n",
       "      <td>0</td>\n",
       "    </tr>\n",
       "    <tr>\n",
       "      <th>pop stars hendrix prince</th>\n",
       "      <td>0</td>\n",
       "      <td>0</td>\n",
       "      <td>0</td>\n",
       "      <td>0</td>\n",
       "      <td>0</td>\n",
       "      <td>0</td>\n",
       "      <td>0</td>\n",
       "      <td>1</td>\n",
       "      <td>0</td>\n",
       "      <td>0</td>\n",
       "      <td>0</td>\n",
       "      <td>0</td>\n",
       "      <td>1</td>\n",
       "      <td>1</td>\n",
       "      <td>0</td>\n",
       "      <td>0</td>\n",
       "      <td>1</td>\n",
       "      <td>0</td>\n",
       "      <td>0</td>\n",
       "    </tr>\n",
       "    <tr>\n",
       "      <th>hendrix prince jagger rock</th>\n",
       "      <td>0</td>\n",
       "      <td>0</td>\n",
       "      <td>0</td>\n",
       "      <td>0</td>\n",
       "      <td>0</td>\n",
       "      <td>0</td>\n",
       "      <td>0</td>\n",
       "      <td>1</td>\n",
       "      <td>1</td>\n",
       "      <td>0</td>\n",
       "      <td>0</td>\n",
       "      <td>0</td>\n",
       "      <td>0</td>\n",
       "      <td>1</td>\n",
       "      <td>0</td>\n",
       "      <td>1</td>\n",
       "      <td>0</td>\n",
       "      <td>0</td>\n",
       "      <td>0</td>\n",
       "    </tr>\n",
       "    <tr>\n",
       "      <th>joplin pearl jam tupac rock</th>\n",
       "      <td>0</td>\n",
       "      <td>0</td>\n",
       "      <td>0</td>\n",
       "      <td>0</td>\n",
       "      <td>0</td>\n",
       "      <td>0</td>\n",
       "      <td>0</td>\n",
       "      <td>0</td>\n",
       "      <td>0</td>\n",
       "      <td>1</td>\n",
       "      <td>1</td>\n",
       "      <td>1</td>\n",
       "      <td>0</td>\n",
       "      <td>0</td>\n",
       "      <td>0</td>\n",
       "      <td>1</td>\n",
       "      <td>0</td>\n",
       "      <td>0</td>\n",
       "      <td>1</td>\n",
       "    </tr>\n",
       "  </tbody>\n",
       "</table>\n",
       "</div>"
      ],
      "text/plain": [
       "                              baseball  basketball  broncos  cowboys  cubs  \\\n",
       "Football baseball basketball         1           1        0        0     0   \n",
       "baseball giants cubs redsox          1           0        0        0     1   \n",
       "football broncos cowboys             0           0        1        1     0   \n",
       "baseball redsox tigers               1           0        0        0     0   \n",
       "pop stars hendrix prince             0           0        0        0     0   \n",
       "hendrix prince jagger rock           0           0        0        0     0   \n",
       "joplin pearl jam tupac rock          0           0        0        0     0   \n",
       "\n",
       "                              football  giants  hendrix  jagger  jam  joplin  \\\n",
       "Football baseball basketball         1       0        0       0    0       0   \n",
       "baseball giants cubs redsox          0       1        0       0    0       0   \n",
       "football broncos cowboys             1       0        0       0    0       0   \n",
       "baseball redsox tigers               0       0        0       0    0       0   \n",
       "pop stars hendrix prince             0       0        1       0    0       0   \n",
       "hendrix prince jagger rock           0       0        1       1    0       0   \n",
       "joplin pearl jam tupac rock          0       0        0       0    1       1   \n",
       "\n",
       "                              pearl  pop  prince  redsox  rock  stars  tigers  \\\n",
       "Football baseball basketball      0    0       0       0     0      0       0   \n",
       "baseball giants cubs redsox       0    0       0       1     0      0       0   \n",
       "football broncos cowboys          0    0       0       0     0      0       0   \n",
       "baseball redsox tigers            0    0       0       1     0      0       1   \n",
       "pop stars hendrix prince          0    1       1       0     0      1       0   \n",
       "hendrix prince jagger rock        0    0       1       0     1      0       0   \n",
       "joplin pearl jam tupac rock       1    0       0       0     1      0       0   \n",
       "\n",
       "                              tupac  \n",
       "Football baseball basketball      0  \n",
       "baseball giants cubs redsox       0  \n",
       "football broncos cowboys          0  \n",
       "baseball redsox tigers            0  \n",
       "pop stars hendrix prince          0  \n",
       "hendrix prince jagger rock        0  \n",
       "joplin pearl jam tupac rock       1  "
      ]
     },
     "execution_count": 3,
     "metadata": {},
     "output_type": "execute_result"
    }
   ],
   "source": [
    "vectorizer = CountVectorizer(min_df = 1, stop_words = 'english')\n",
    "dtm = vectorizer.fit_transform(example) \n",
    "pd.DataFrame(dtm.toarray(), index=example, columns=vectorizer.get_feature_names()).head(10)"
   ]
  },
  {
   "cell_type": "markdown",
   "metadata": {
    "slideshow": {
     "slide_type": "slide"
    }
   },
   "source": [
    "Each row represents a document. Each column represents a word. Each entry equals the number of times the word appears in the document\n",
    "￼￼\n",
    "Note: order and proximity of words in documents is NOT accounted for. Called a \"bag of words\" representation."
   ]
  },
  {
   "cell_type": "code",
   "execution_count": 4,
   "metadata": {
    "collapsed": false,
    "slideshow": {
     "slide_type": "slide"
    }
   },
   "outputs": [
    {
     "data": {
      "text/plain": [
       "['baseball',\n",
       " 'basketball',\n",
       " 'broncos',\n",
       " 'cowboys',\n",
       " 'cubs',\n",
       " 'football',\n",
       " 'giants',\n",
       " 'hendrix',\n",
       " 'jagger',\n",
       " 'jam',\n",
       " 'joplin',\n",
       " 'pearl',\n",
       " 'pop',\n",
       " 'prince',\n",
       " 'redsox',\n",
       " 'rock',\n",
       " 'stars',\n",
       " 'tigers',\n",
       " 'tupac']"
      ]
     },
     "execution_count": 4,
     "metadata": {},
     "output_type": "execute_result"
    }
   ],
   "source": [
    "# Get words that correspond to each column \n",
    "vectorizer.get_feature_names()"
   ]
  },
  {
   "cell_type": "code",
   "execution_count": 5,
   "metadata": {
    "collapsed": true,
    "slideshow": {
     "slide_type": "slide"
    }
   },
   "outputs": [],
   "source": [
    "# Fit LSA. Use algorithm = “randomized” for large datasets \n",
    "lsa = TruncatedSVD(2, algorithm = 'arpack')\n",
    "dtm_lsa = lsa.fit_transform(dtm)\n",
    "dtm_lsa = Normalizer(copy=False).fit_transform(dtm_lsa)"
   ]
  },
  {
   "cell_type": "code",
   "execution_count": 6,
   "metadata": {
    "collapsed": false,
    "slideshow": {
     "slide_type": "slide"
    }
   },
   "outputs": [
    {
     "data": {
      "text/plain": [
       "array([ 0.18507786,  0.16452307])"
      ]
     },
     "execution_count": 6,
     "metadata": {},
     "output_type": "execute_result"
    }
   ],
   "source": [
    "lsa.explained_variance_ratio_"
   ]
  },
  {
   "cell_type": "code",
   "execution_count": 7,
   "metadata": {
    "collapsed": false,
    "slideshow": {
     "slide_type": "slide"
    }
   },
   "outputs": [
    {
     "data": {
      "text/html": [
       "<div>\n",
       "<table border=\"1\" class=\"dataframe\">\n",
       "  <thead>\n",
       "    <tr style=\"text-align: right;\">\n",
       "      <th></th>\n",
       "      <th>baseball</th>\n",
       "      <th>basketball</th>\n",
       "      <th>broncos</th>\n",
       "      <th>cowboys</th>\n",
       "      <th>cubs</th>\n",
       "      <th>football</th>\n",
       "      <th>giants</th>\n",
       "      <th>hendrix</th>\n",
       "      <th>jagger</th>\n",
       "      <th>jam</th>\n",
       "      <th>joplin</th>\n",
       "      <th>pearl</th>\n",
       "      <th>pop</th>\n",
       "      <th>prince</th>\n",
       "      <th>redsox</th>\n",
       "      <th>rock</th>\n",
       "      <th>stars</th>\n",
       "      <th>tigers</th>\n",
       "      <th>tupac</th>\n",
       "    </tr>\n",
       "  </thead>\n",
       "  <tbody>\n",
       "    <tr>\n",
       "      <th>component_1</th>\n",
       "      <td>-0.00000</td>\n",
       "      <td>-0.00000</td>\n",
       "      <td>-0.00000</td>\n",
       "      <td>-0.00000</td>\n",
       "      <td>-0.00000</td>\n",
       "      <td>-0.00000</td>\n",
       "      <td>-0.00000</td>\n",
       "      <td>0.48794</td>\n",
       "      <td>0.26572</td>\n",
       "      <td>0.19097</td>\n",
       "      <td>0.19097</td>\n",
       "      <td>0.19097</td>\n",
       "      <td>0.22223</td>\n",
       "      <td>0.48794</td>\n",
       "      <td>-0.00000</td>\n",
       "      <td>0.45669</td>\n",
       "      <td>0.22223</td>\n",
       "      <td>-0.00000</td>\n",
       "      <td>0.19097</td>\n",
       "    </tr>\n",
       "    <tr>\n",
       "      <th>component_2</th>\n",
       "      <td>0.67504</td>\n",
       "      <td>0.17189</td>\n",
       "      <td>0.05312</td>\n",
       "      <td>0.05312</td>\n",
       "      <td>0.27813</td>\n",
       "      <td>0.22501</td>\n",
       "      <td>0.27813</td>\n",
       "      <td>0.00000</td>\n",
       "      <td>0.00000</td>\n",
       "      <td>0.00000</td>\n",
       "      <td>0.00000</td>\n",
       "      <td>0.00000</td>\n",
       "      <td>0.00000</td>\n",
       "      <td>0.00000</td>\n",
       "      <td>0.50314</td>\n",
       "      <td>0.00000</td>\n",
       "      <td>0.00000</td>\n",
       "      <td>0.22501</td>\n",
       "      <td>0.00000</td>\n",
       "    </tr>\n",
       "  </tbody>\n",
       "</table>\n",
       "</div>"
      ],
      "text/plain": [
       "             baseball  basketball  broncos  cowboys     cubs  football  \\\n",
       "component_1  -0.00000    -0.00000 -0.00000 -0.00000 -0.00000  -0.00000   \n",
       "component_2   0.67504     0.17189  0.05312  0.05312  0.27813   0.22501   \n",
       "\n",
       "              giants  hendrix   jagger      jam   joplin    pearl      pop  \\\n",
       "component_1 -0.00000  0.48794  0.26572  0.19097  0.19097  0.19097  0.22223   \n",
       "component_2  0.27813  0.00000  0.00000  0.00000  0.00000  0.00000  0.00000   \n",
       "\n",
       "              prince   redsox     rock    stars   tigers    tupac  \n",
       "component_1  0.48794 -0.00000  0.45669  0.22223 -0.00000  0.19097  \n",
       "component_2  0.00000  0.50314  0.00000  0.00000  0.22501  0.00000  "
      ]
     },
     "execution_count": 7,
     "metadata": {},
     "output_type": "execute_result"
    }
   ],
   "source": [
    "pd.DataFrame(lsa.components_.round(5),index = [\"component_1\",\"component_2\"],columns = vectorizer.get_feature_names())"
   ]
  },
  {
   "cell_type": "code",
   "execution_count": 8,
   "metadata": {
    "collapsed": false,
    "slideshow": {
     "slide_type": "slide"
    }
   },
   "outputs": [
    {
     "data": {
      "text/plain": [
       "array(['baseball', 'basketball', 'broncos', 'cowboys', 'cubs', 'football',\n",
       "       'giants', 'hendrix', 'jagger', 'jam', 'joplin', 'pearl', 'pop',\n",
       "       'prince', 'redsox', 'rock', 'stars', 'tigers', 'tupac'], \n",
       "      dtype='<U10')"
      ]
     },
     "execution_count": 8,
     "metadata": {},
     "output_type": "execute_result"
    }
   ],
   "source": [
    "array(vectorizer.get_feature_names())"
   ]
  },
  {
   "cell_type": "markdown",
   "metadata": {
    "slideshow": {
     "slide_type": "slide"
    }
   },
   "source": [
    "Each document is a linear combination of the LSA components"
   ]
  },
  {
   "cell_type": "code",
   "execution_count": 9,
   "metadata": {
    "collapsed": false,
    "slideshow": {
     "slide_type": "slide"
    }
   },
   "outputs": [
    {
     "data": {
      "text/html": [
       "<div>\n",
       "<table border=\"1\" class=\"dataframe\">\n",
       "  <thead>\n",
       "    <tr style=\"text-align: right;\">\n",
       "      <th></th>\n",
       "      <th>component_1</th>\n",
       "      <th>component_2</th>\n",
       "    </tr>\n",
       "  </thead>\n",
       "  <tbody>\n",
       "    <tr>\n",
       "      <th>Football baseball basketball</th>\n",
       "      <td>-0.0</td>\n",
       "      <td>1.0</td>\n",
       "    </tr>\n",
       "    <tr>\n",
       "      <th>baseball giants cubs redsox</th>\n",
       "      <td>-0.0</td>\n",
       "      <td>1.0</td>\n",
       "    </tr>\n",
       "    <tr>\n",
       "      <th>football broncos cowboys</th>\n",
       "      <td>-0.0</td>\n",
       "      <td>1.0</td>\n",
       "    </tr>\n",
       "    <tr>\n",
       "      <th>baseball redsox tigers</th>\n",
       "      <td>-0.0</td>\n",
       "      <td>1.0</td>\n",
       "    </tr>\n",
       "    <tr>\n",
       "      <th>pop stars hendrix prince</th>\n",
       "      <td>1.0</td>\n",
       "      <td>0.0</td>\n",
       "    </tr>\n",
       "    <tr>\n",
       "      <th>hendrix prince jagger rock</th>\n",
       "      <td>1.0</td>\n",
       "      <td>0.0</td>\n",
       "    </tr>\n",
       "    <tr>\n",
       "      <th>joplin pearl jam tupac rock</th>\n",
       "      <td>1.0</td>\n",
       "      <td>0.0</td>\n",
       "    </tr>\n",
       "  </tbody>\n",
       "</table>\n",
       "</div>"
      ],
      "text/plain": [
       "                              component_1  component_2\n",
       "Football baseball basketball         -0.0          1.0\n",
       "baseball giants cubs redsox          -0.0          1.0\n",
       "football broncos cowboys             -0.0          1.0\n",
       "baseball redsox tigers               -0.0          1.0\n",
       "pop stars hendrix prince              1.0          0.0\n",
       "hendrix prince jagger rock            1.0          0.0\n",
       "joplin pearl jam tupac rock           1.0          0.0"
      ]
     },
     "execution_count": 9,
     "metadata": {},
     "output_type": "execute_result"
    }
   ],
   "source": [
    "pd.DataFrame(dtm_lsa.round(5), index = example, columns = [\"component_1\",\"component_2\" ])\n",
    "#pd.DataFrame(dtm_lsa.round(5), index = range(6), columns = [\"component_1\",\"component_2\" ])"
   ]
  },
  {
   "cell_type": "code",
   "execution_count": 10,
   "metadata": {
    "collapsed": false,
    "slideshow": {
     "slide_type": "slide"
    }
   },
   "outputs": [
    {
     "data": {
      "text/plain": [
       "[['Football baseball basketball', -0.0, 1.0],\n",
       " ['baseball giants cubs redsox', -0.0, 1.0],\n",
       " ['football broncos cowboys', -0.0, 1.0],\n",
       " ['baseball redsox tigers', -0.0, 1.0],\n",
       " ['pop stars hendrix prince', 1.0, 0.0],\n",
       " ['hendrix prince jagger rock', 1.0, 0.0],\n",
       " ['joplin pearl jam tupac rock', 1.0, 0.0]]"
      ]
     },
     "execution_count": 10,
     "metadata": {},
     "output_type": "execute_result"
    }
   ],
   "source": [
    "[[example[i], dtm_lsa[i][0].round(5), dtm_lsa[i][1].round(5)] for i in range(len(example))]"
   ]
  },
  {
   "cell_type": "code",
   "execution_count": 11,
   "metadata": {
    "collapsed": false,
    "slideshow": {
     "slide_type": "slide"
    }
   },
   "outputs": [
    {
     "data": {
      "text/plain": [
       "array([[-0.,  1.],\n",
       "       [-0.,  1.],\n",
       "       [-0.,  1.],\n",
       "       [-0.,  1.],\n",
       "       [ 1.,  0.],\n",
       "       [ 1.,  0.],\n",
       "       [ 1.,  0.]])"
      ]
     },
     "execution_count": 11,
     "metadata": {},
     "output_type": "execute_result"
    }
   ],
   "source": [
    "xs = [w[0].round(5) for w in dtm_lsa] \n",
    "ys = [w[1].round(5) for w in dtm_lsa]\n",
    "c_[xs, ys]"
   ]
  },
  {
   "cell_type": "code",
   "execution_count": 12,
   "metadata": {
    "collapsed": false,
    "slideshow": {
     "slide_type": "slide"
    }
   },
   "outputs": [
    {
     "data": {
      "image/png": "[encoded data removed]",
      "text/plain": [
       "<matplotlib.figure.Figure at 0x1150362b0>"
      ]
     },
     "metadata": {},
     "output_type": "display_data"
    }
   ],
   "source": [
    "plt.figure()\n",
    "ax = plt.gca()\n",
    "ax.quiver(0,0,xs,ys,angles='xy',scale_units='xy',scale=1, linewidth = .01) \n",
    "# ax.quiver(0,0,xs,ys,scale=1, linewidth = .01)\n",
    "ax.set_xlim([-1,1])\n",
    "ax.set_ylim([-1,1])\n",
    "xlabel('First principal component')\n",
    "ylabel('Second principal component')\n",
    "title('Plot of points against LSA components')\n",
    "plt.draw()\n",
    "plt.show()"
   ]
  },
  {
   "cell_type": "markdown",
   "metadata": {
    "slideshow": {
     "slide_type": "slide"
    }
   },
   "source": [
    "We have reduced dimension to 2-dim (and have lost some info)\n",
    "Similar docs point in similar directions. Dissimilar docs have perpendicular (orthogonal) vectors. \"Cosine similarity\"\n",
    "Can use cosine similarity for search: which doc has the smallest angle with search term?"
   ]
  },
  {
   "cell_type": "markdown",
   "metadata": {
    "slideshow": {
     "slide_type": "slide"
    }
   },
   "source": [
    "Document similarity using LSA"
   ]
  },
  {
   "cell_type": "code",
   "execution_count": 13,
   "metadata": {
    "collapsed": false,
    "slideshow": {
     "slide_type": "slide"
    }
   },
   "outputs": [
    {
     "data": {
      "text/html": [
       "<div>\n",
       "<table border=\"1\" class=\"dataframe\">\n",
       "  <thead>\n",
       "    <tr style=\"text-align: right;\">\n",
       "      <th></th>\n",
       "      <th>0</th>\n",
       "      <th>1</th>\n",
       "      <th>2</th>\n",
       "      <th>3</th>\n",
       "      <th>4</th>\n",
       "      <th>5</th>\n",
       "      <th>6</th>\n",
       "    </tr>\n",
       "  </thead>\n",
       "  <tbody>\n",
       "    <tr>\n",
       "      <th>0</th>\n",
       "      <td>1.0</td>\n",
       "      <td>1.0</td>\n",
       "      <td>1.0</td>\n",
       "      <td>1.0</td>\n",
       "      <td>-0.0</td>\n",
       "      <td>-0.0</td>\n",
       "      <td>-0.0</td>\n",
       "    </tr>\n",
       "    <tr>\n",
       "      <th>1</th>\n",
       "      <td>1.0</td>\n",
       "      <td>1.0</td>\n",
       "      <td>1.0</td>\n",
       "      <td>1.0</td>\n",
       "      <td>-0.0</td>\n",
       "      <td>0.0</td>\n",
       "      <td>0.0</td>\n",
       "    </tr>\n",
       "    <tr>\n",
       "      <th>2</th>\n",
       "      <td>1.0</td>\n",
       "      <td>1.0</td>\n",
       "      <td>1.0</td>\n",
       "      <td>1.0</td>\n",
       "      <td>-0.0</td>\n",
       "      <td>-0.0</td>\n",
       "      <td>-0.0</td>\n",
       "    </tr>\n",
       "    <tr>\n",
       "      <th>3</th>\n",
       "      <td>1.0</td>\n",
       "      <td>1.0</td>\n",
       "      <td>1.0</td>\n",
       "      <td>1.0</td>\n",
       "      <td>-0.0</td>\n",
       "      <td>0.0</td>\n",
       "      <td>0.0</td>\n",
       "    </tr>\n",
       "    <tr>\n",
       "      <th>4</th>\n",
       "      <td>-0.0</td>\n",
       "      <td>-0.0</td>\n",
       "      <td>-0.0</td>\n",
       "      <td>-0.0</td>\n",
       "      <td>1.0</td>\n",
       "      <td>1.0</td>\n",
       "      <td>1.0</td>\n",
       "    </tr>\n",
       "    <tr>\n",
       "      <th>5</th>\n",
       "      <td>-0.0</td>\n",
       "      <td>0.0</td>\n",
       "      <td>-0.0</td>\n",
       "      <td>0.0</td>\n",
       "      <td>1.0</td>\n",
       "      <td>1.0</td>\n",
       "      <td>1.0</td>\n",
       "    </tr>\n",
       "    <tr>\n",
       "      <th>6</th>\n",
       "      <td>-0.0</td>\n",
       "      <td>0.0</td>\n",
       "      <td>-0.0</td>\n",
       "      <td>0.0</td>\n",
       "      <td>1.0</td>\n",
       "      <td>1.0</td>\n",
       "      <td>1.0</td>\n",
       "    </tr>\n",
       "  </tbody>\n",
       "</table>\n",
       "</div>"
      ],
      "text/plain": [
       "     0    1    2    3    4    5    6\n",
       "0  1.0  1.0  1.0  1.0 -0.0 -0.0 -0.0\n",
       "1  1.0  1.0  1.0  1.0 -0.0  0.0  0.0\n",
       "2  1.0  1.0  1.0  1.0 -0.0 -0.0 -0.0\n",
       "3  1.0  1.0  1.0  1.0 -0.0  0.0  0.0\n",
       "4 -0.0 -0.0 -0.0 -0.0  1.0  1.0  1.0\n",
       "5 -0.0  0.0 -0.0  0.0  1.0  1.0  1.0\n",
       "6 -0.0  0.0 -0.0  0.0  1.0  1.0  1.0"
      ]
     },
     "execution_count": 13,
     "metadata": {},
     "output_type": "execute_result"
    }
   ],
   "source": [
    "# Compute document similarity using LSA components\n",
    "similarity = np.asarray(numpy.asmatrix(dtm_lsa) * numpy.asmatrix(dtm_lsa).T) \n",
    "pd.DataFrame(similarity.round(6),index=(range(7)), columns=(range(7))).head(10)"
   ]
  },
  {
   "cell_type": "code",
   "execution_count": 14,
   "metadata": {
    "collapsed": false,
    "slideshow": {
     "slide_type": "slide"
    }
   },
   "outputs": [
    {
     "data": {
      "text/plain": [
       "matrix([[ -2.12508405e-15,   1.00000000e+00],\n",
       "        [ -1.45730976e-15,   1.00000000e+00],\n",
       "        [ -2.36249501e-15,   1.00000000e+00],\n",
       "        [ -1.58136132e-15,   1.00000000e+00],\n",
       "        [  1.00000000e+00,   1.38354365e-15],\n",
       "        [  1.00000000e+00,   1.71178711e-15],\n",
       "        [  1.00000000e+00,   1.99598585e-15]])"
      ]
     },
     "execution_count": 14,
     "metadata": {},
     "output_type": "execute_result"
    }
   ],
   "source": [
    "numpy.asmatrix(dtm_lsa)"
   ]
  },
  {
   "cell_type": "markdown",
   "metadata": {
    "slideshow": {
     "slide_type": "slide"
    }
   },
   "source": [
    "# NMF"
   ]
  },
  {
   "cell_type": "markdown",
   "metadata": {
    "slideshow": {
     "slide_type": "slide"
    }
   },
   "source": [
    "Finally something that isn't just SVD"
   ]
  },
  {
   "cell_type": "markdown",
   "metadata": {
    "slideshow": {
     "slide_type": "slide"
    }
   },
   "source": [
    "But its still just decomposition\n",
    "\n",
    "![](https://upload.wikimedia.org/wikipedia/commons/f/f9/NMF.png)"
   ]
  },
  {
   "cell_type": "markdown",
   "metadata": {
    "slideshow": {
     "slide_type": "slide"
    }
   },
   "source": [
    "The decomposition is just two matrices, but we can still think about something like our eigen values, just eaten up by one of the matrices."
   ]
  },
  {
   "cell_type": "markdown",
   "metadata": {
    "slideshow": {
     "slide_type": "slide"
    }
   },
   "source": [
    "$$V = WH $$\n",
    "\n",
    "a similar process to SVD happens, but we are under the constraint that we may not have negative values in this matrix"
   ]
  },
  {
   "cell_type": "markdown",
   "metadata": {
    "slideshow": {
     "slide_type": "slide"
    }
   },
   "source": [
    "SVD decomposes a matrix into many components, but most the time the results are hard to interpret.\n",
    "![](http://archive.cnx.org/resources/28b7669c052b1d7ec07962bb69aa5cc3733eb868/PCA_Face.png)\n",
    "\n",
    "![](http://archive.cnx.org/resources/86d95a5d66974426fb30f0ab24d91bd901dbbc83/NMF_Face.png)\n",
    "\n",
    "Since NMF can never undo the application of a latent feature, it is much more careful about what it adds at each step. In some applications, this can make for more human interpretable latent features."
   ]
  },
  {
   "cell_type": "code",
   "execution_count": 15,
   "metadata": {
    "collapsed": true,
    "slideshow": {
     "slide_type": "slide"
    }
   },
   "outputs": [],
   "source": [
    "from sklearn.decomposition import NMF\n",
    "\n",
    "nmf_model = NMF(2)\n",
    "\n",
    "dtm_nmf = nmf_model.fit_transform(dtm)\n",
    "dtm_nmf = Normalizer(copy=False).fit_transform(dtm_nmf)"
   ]
  },
  {
   "cell_type": "code",
   "execution_count": 16,
   "metadata": {
    "collapsed": false,
    "slideshow": {
     "slide_type": "slide"
    }
   },
   "outputs": [
    {
     "data": {
      "text/plain": [
       "(7, 19)"
      ]
     },
     "execution_count": 16,
     "metadata": {},
     "output_type": "execute_result"
    }
   ],
   "source": [
    "dtm.shape"
   ]
  },
  {
   "cell_type": "code",
   "execution_count": 17,
   "metadata": {
    "collapsed": false,
    "slideshow": {
     "slide_type": "slide"
    }
   },
   "outputs": [
    {
     "data": {
      "text/plain": [
       "array([[ 0.,  1.],\n",
       "       [ 0.,  1.],\n",
       "       [ 0.,  1.],\n",
       "       [ 0.,  1.],\n",
       "       [ 1.,  0.],\n",
       "       [ 1.,  0.],\n",
       "       [ 1.,  0.]])"
      ]
     },
     "execution_count": 17,
     "metadata": {},
     "output_type": "execute_result"
    }
   ],
   "source": [
    "dtm_nmf.round(2)"
   ]
  },
  {
   "cell_type": "code",
   "execution_count": 18,
   "metadata": {
    "collapsed": false,
    "slideshow": {
     "slide_type": "slide"
    }
   },
   "outputs": [
    {
     "data": {
      "text/plain": [
       "array([[ 0.        ,  0.        ,  0.        ,  0.        ,  0.        ],\n",
       "       [ 1.06673582,  0.27163788,  0.08394072,  0.08394072,  0.43951933]])"
      ]
     },
     "execution_count": 18,
     "metadata": {},
     "output_type": "execute_result"
    }
   ],
   "source": [
    "nmf_model.components_[:,:5]"
   ]
  },
  {
   "cell_type": "code",
   "execution_count": 19,
   "metadata": {
    "collapsed": false,
    "slideshow": {
     "slide_type": "slide"
    }
   },
   "outputs": [
    {
     "data": {
      "text/plain": [
       "array([], dtype=float64)"
      ]
     },
     "execution_count": 19,
     "metadata": {},
     "output_type": "execute_result"
    }
   ],
   "source": [
    "np.dot(dtm_nmf,nmf_model.components_).round(2)[0,370:380]"
   ]
  },
  {
   "cell_type": "code",
   "execution_count": 20,
   "metadata": {
    "collapsed": false,
    "slideshow": {
     "slide_type": "slide"
    }
   },
   "outputs": [
    {
     "name": "stdout",
     "output_type": "stream",
     "text": [
      "  (0, 0)\t1\n",
      "  (0, 1)\t1\n",
      "  (0, 5)\t1\n",
      "  (1, 0)\t1\n",
      "  (1, 4)\t1\n",
      "  (1, 6)\t1\n",
      "  (1, 14)\t1\n",
      "  (2, 2)\t1\n",
      "  (2, 3)\t1\n",
      "  (2, 5)\t1\n",
      "  (3, 0)\t1\n",
      "  (3, 14)\t1\n",
      "  (3, 17)\t1\n",
      "  (4, 7)\t1\n",
      "  (4, 12)\t1\n",
      "  (4, 13)\t1\n",
      "  (4, 16)\t1\n",
      "  (5, 7)\t1\n",
      "  (5, 8)\t1\n",
      "  (5, 13)\t1\n",
      "  (5, 15)\t1\n",
      "  (6, 9)\t1\n",
      "  (6, 10)\t1\n",
      "  (6, 11)\t1\n",
      "  (6, 15)\t1\n",
      "  (6, 18)\t1\n"
     ]
    }
   ],
   "source": [
    "print(dtm)"
   ]
  },
  {
   "cell_type": "code",
   "execution_count": null,
   "metadata": {
    "collapsed": true
   },
   "outputs": [],
   "source": []
  },
  {
   "cell_type": "code",
   "execution_count": null,
   "metadata": {
    "collapsed": true
   },
   "outputs": [],
   "source": []
  },
  {
   "cell_type": "code",
   "execution_count": 21,
   "metadata": {
    "collapsed": true,
    "slideshow": {
     "slide_type": "slide"
    }
   },
   "outputs": [],
   "source": [
    "example = ['Hamilton brought a boost. The Lion King provided ballast. And Broadway, once again, broke a record: The theater season that just ended attracted more people, and more money, than any before. Broadway seems to be defying the cultural odds: An ancient art form in the digital age, it is strengthening thanks to an everincreasing influx of tourists and a resurgent enthusiasm for musical theater. The season that ended on Sunday included 13,317,980 visitors to Broadway shows  a record number, up 1.6 percent over the previous season, according to figures released on Monday by the Broadway League. Theaters grossed 1.373 billion, also a record, up 0.6 percent over the previous season, although the grosses are not adjusted for inflation. Once again, Simba ruled supreme: The Lion King, still mighty more than 18 years after it opened, grossed 102.7 million on Broadway last season, far outpacing any other show. The musical, which has multiple productions running simultaneously around the globe, has grossed more than 6.2 billion worldwide, and has been seen by 85 million people over its history, according to Disney; by contrast, 478,605 people have seen the Broadway production of Hamilton thus far.Hamilton (featuring a onetime Simba, Christopher Jackson, in the role of George Washington) offered an enormous jolt of energy to the Broadway season. This hiphop musical about Americas founding fathers has dominated the cultural conversation, raked in awards and been celebrated at the White House. Many Broadway leaders believe the show has helped the industry as a whole, bringing attention from corners of the culture that have long preferred to mock jazz hands and dream ballets.',\n",
    "          'When Candace Payne, aka the Chewbacca Mask Mom, sat in her car last Thursday filming her new Hasbro toy, an electronic Chewbacca Mask from Kohls, she inadvertently made history  not just for Facebook Live as its most popular video, but for the entire haul and unboxing video genre. Paynes video starts out like every other video in the genre  she talks about her shopping trip, and is incredibly excited to show the viewer her new purchase   but after that, the similarities stop. Shes not in a bedroom, but in her car, and Payne isnt describing multiple purchases, just one. The platform, execution and reception of her vlog has impacted the genre, in quite a few ways. First, Paynes video actually went viral among ordinary people, something that doesnt really happen to other haul and unboxing videos  not to this extent. While it is true boxing and haul videos by top YouTube vloggers will get a few million views (only!) thanks to the large communities said vlogger has built over the years, no one has ever seen an instant worldwide smash hit like Paynes video. Grandparents and aunts that dont even know what a haul video is were watching, liking, and sharing Paynes video.',\n",
    "          'LOS ANGELES (AP)  An original animators desk from Walt Disney Studios and a vintage Mickey Mouse doll signed by Walt Disney are among the items up for bid next month in an online auction of rare Disney memorabilia. The website of Van Eaton Galleries lists more than 700 items for sale. Among the items listed are original production cels for Disney classics like The Jungle Book, Sleeping Beauty, Bambi and Snow White and the Seven Dwarfs. Collectors can also bid on costumes from the original Mickey Mouse Club, including one worn by Annette Funicello. An exhibition titled, Collecting Disney, opens Wednesday at the gallery in Sherman Oaks, California, ahead of the online auction that begins June 18.',\n",
    "          'After putting together one of their best playoff performances in a must win Game 3 on Saturday, the Toronto Raptors picked up where they left off in Mondays Game 4, with AllStar guards Kyle Lowry and DeMar DeRozan finally teaming up for a complete performance. Lowry (35 points) and DeRozan (32 points) shot a combined 28 for 43 for 67 points and became the first teammates in a conference finals series to score 30  plus points on 60% or better shooting since Charles Barkley and Dan Majerle for Phoenix Suns in 1993, further proving that when the starting backcourt is on, the Raptors are extremely difficult to beat. Those numbers are of stark contrast to the majority of the Raptors first two playoff series, where both Lowry and DeRozan struggled mightily to deliver significant offensive production.',\n",
    "          'The Cleveland Cavaliers enjoyed one of their most devastating 12 minutes of offensive basketball in the second half Monday night and, considering their playoff run, thats saying something. But it came after a long stretch of some of their most puzzling play in weeks, and that cost them a valuable playoff game. The Toronto Raptors evened the Eastern Conference finals at 22 with a 10599 victory after holding on in the face of a vicious Cavs late rally. Yet, as well as the Raptors played  stars Kyle Lowry and DeMar DeRozan were just terrific with a combined 67 points, the most theyve ever scored as teammates  it really came amid some headscratching, gameplan adjustments by coach Tyronn Lue. After spending the past few weeks finding a rhythm that has produced mostly spectacular results, Lue completely changed his rotations in the first half in what seemed like an overreaction from the Game 3 loss.',\n",
    "          'Leave it to Rich Hill to end the As four game losing streak. The last time Oakland had won before Monday, Hill was on the mound. And at Safeco Field, he was magnificent, working calmly and efficiently whether the bases were empty or full. Hill pitched eight scoreless innings to help the As top the division leading Mariners 5 0. The As have won all four games theyve played at Seattle this season. Oakland has 20 wins and Hill has seven of them, the most for an As pitcher before the end of May since Mark Mulder had eight in 2003, a year Mulder made the All Star team. Every game he goes out there we feel were going to win, no matter what were going through, Oakland manager Bob Melvin said. He brings a lot of intensity to the mound, a lot of fight. Hill hasnt allowed more than three earned runs in any of his 10 starts and his ERA is down to 2.18. He also became the first As starter to pitch into the eighth inning since Sonny Gray pitched eight innings last Aug. 22, a span of 83 games; Melvin said his plan was to use only Hill and closer Ryan Madson, and Hill even wanted to go back out for the ninth after throwing 107 pitches. Hills streak of starts in which he gave up no more than four hits while working at least five innings ended at six; the Mariners recorded eight hits off him, few of them struck well. Hills streak was the best in franchise history dating to at least 1913. Seattle loaded the bases with no outs in the second inning without hitting the ball hard, with Nelson Cruzs infield single, an opposite field flare by Dae Ho Lee and a bloop to center by Kyle Seager. At that point, Hill said, second baseman Chris Coghlan came over to him and said, Control what you can control.']"
   ]
  },
  {
   "cell_type": "code",
   "execution_count": 22,
   "metadata": {
    "collapsed": false
   },
   "outputs": [
    {
     "data": {
      "text/plain": [
       "['Hamilton brought a boost. The Lion King provided ballast. And Broadway, once again, broke a record: The theater season that just ended attracted more people, and more money, than any before. Broadway seems to be defying the cultural odds: An ancient art form in the digital age, it is strengthening thanks to an everincreasing influx of tourists and a resurgent enthusiasm for musical theater. The season that ended on Sunday included 13,317,980 visitors to Broadway shows  a record number, up 1.6 percent over the previous season, according to figures released on Monday by the Broadway League. Theaters grossed 1.373 billion, also a record, up 0.6 percent over the previous season, although the grosses are not adjusted for inflation. Once again, Simba ruled supreme: The Lion King, still mighty more than 18 years after it opened, grossed 102.7 million on Broadway last season, far outpacing any other show. The musical, which has multiple productions running simultaneously around the globe, has grossed more than 6.2 billion worldwide, and has been seen by 85 million people over its history, according to Disney; by contrast, 478,605 people have seen the Broadway production of Hamilton thus far.Hamilton (featuring a onetime Simba, Christopher Jackson, in the role of George Washington) offered an enormous jolt of energy to the Broadway season. This hiphop musical about Americas founding fathers has dominated the cultural conversation, raked in awards and been celebrated at the White House. Many Broadway leaders believe the show has helped the industry as a whole, bringing attention from corners of the culture that have long preferred to mock jazz hands and dream ballets.',\n",
       " 'When Candace Payne, aka the Chewbacca Mask Mom, sat in her car last Thursday filming her new Hasbro toy, an electronic Chewbacca Mask from Kohls, she inadvertently made history  not just for Facebook Live as its most popular video, but for the entire haul and unboxing video genre. Paynes video starts out like every other video in the genre  she talks about her shopping trip, and is incredibly excited to show the viewer her new purchase   but after that, the similarities stop. Shes not in a bedroom, but in her car, and Payne isnt describing multiple purchases, just one. The platform, execution and reception of her vlog has impacted the genre, in quite a few ways. First, Paynes video actually went viral among ordinary people, something that doesnt really happen to other haul and unboxing videos  not to this extent. While it is true boxing and haul videos by top YouTube vloggers will get a few million views (only!) thanks to the large communities said vlogger has built over the years, no one has ever seen an instant worldwide smash hit like Paynes video. Grandparents and aunts that dont even know what a haul video is were watching, liking, and sharing Paynes video.',\n",
       " 'LOS ANGELES (AP)  An original animators desk from Walt Disney Studios and a vintage Mickey Mouse doll signed by Walt Disney are among the items up for bid next month in an online auction of rare Disney memorabilia. The website of Van Eaton Galleries lists more than 700 items for sale. Among the items listed are original production cels for Disney classics like The Jungle Book, Sleeping Beauty, Bambi and Snow White and the Seven Dwarfs. Collectors can also bid on costumes from the original Mickey Mouse Club, including one worn by Annette Funicello. An exhibition titled, Collecting Disney, opens Wednesday at the gallery in Sherman Oaks, California, ahead of the online auction that begins June 18.',\n",
       " 'After putting together one of their best playoff performances in a must win Game 3 on Saturday, the Toronto Raptors picked up where they left off in Mondays Game 4, with AllStar guards Kyle Lowry and DeMar DeRozan finally teaming up for a complete performance. Lowry (35 points) and DeRozan (32 points) shot a combined 28 for 43 for 67 points and became the first teammates in a conference finals series to score 30  plus points on 60% or better shooting since Charles Barkley and Dan Majerle for Phoenix Suns in 1993, further proving that when the starting backcourt is on, the Raptors are extremely difficult to beat. Those numbers are of stark contrast to the majority of the Raptors first two playoff series, where both Lowry and DeRozan struggled mightily to deliver significant offensive production.',\n",
       " 'The Cleveland Cavaliers enjoyed one of their most devastating 12 minutes of offensive basketball in the second half Monday night and, considering their playoff run, thats saying something. But it came after a long stretch of some of their most puzzling play in weeks, and that cost them a valuable playoff game. The Toronto Raptors evened the Eastern Conference finals at 22 with a 10599 victory after holding on in the face of a vicious Cavs late rally. Yet, as well as the Raptors played  stars Kyle Lowry and DeMar DeRozan were just terrific with a combined 67 points, the most theyve ever scored as teammates  it really came amid some headscratching, gameplan adjustments by coach Tyronn Lue. After spending the past few weeks finding a rhythm that has produced mostly spectacular results, Lue completely changed his rotations in the first half in what seemed like an overreaction from the Game 3 loss.',\n",
       " 'Leave it to Rich Hill to end the As four game losing streak. The last time Oakland had won before Monday, Hill was on the mound. And at Safeco Field, he was magnificent, working calmly and efficiently whether the bases were empty or full. Hill pitched eight scoreless innings to help the As top the division leading Mariners 5 0. The As have won all four games theyve played at Seattle this season. Oakland has 20 wins and Hill has seven of them, the most for an As pitcher before the end of May since Mark Mulder had eight in 2003, a year Mulder made the All Star team. Every game he goes out there we feel were going to win, no matter what were going through, Oakland manager Bob Melvin said. He brings a lot of intensity to the mound, a lot of fight. Hill hasnt allowed more than three earned runs in any of his 10 starts and his ERA is down to 2.18. He also became the first As starter to pitch into the eighth inning since Sonny Gray pitched eight innings last Aug. 22, a span of 83 games; Melvin said his plan was to use only Hill and closer Ryan Madson, and Hill even wanted to go back out for the ninth after throwing 107 pitches. Hills streak of starts in which he gave up no more than four hits while working at least five innings ended at six; the Mariners recorded eight hits off him, few of them struck well. Hills streak was the best in franchise history dating to at least 1913. Seattle loaded the bases with no outs in the second inning without hitting the ball hard, with Nelson Cruzs infield single, an opposite field flare by Dae Ho Lee and a bloop to center by Kyle Seager. At that point, Hill said, second baseman Chris Coghlan came over to him and said, Control what you can control.']"
      ]
     },
     "execution_count": 22,
     "metadata": {},
     "output_type": "execute_result"
    }
   ],
   "source": [
    "example"
   ]
  },
  {
   "cell_type": "code",
   "execution_count": 23,
   "metadata": {
    "collapsed": false,
    "slideshow": {
     "slide_type": "slide"
    }
   },
   "outputs": [],
   "source": [
    "vectorizer = CountVectorizer(min_df = 1, stop_words = 'english')\n",
    "dtm = vectorizer.fit_transform(example) "
   ]
  },
  {
   "cell_type": "code",
   "execution_count": 24,
   "metadata": {
    "collapsed": false,
    "scrolled": true,
    "slideshow": {
     "slide_type": "slide"
    }
   },
   "outputs": [
    {
     "data": {
      "text/plain": [
       "['10',\n",
       " '102',\n",
       " '10599',\n",
       " '107',\n",
       " '12',\n",
       " '13',\n",
       " '18',\n",
       " '1913',\n",
       " '1993',\n",
       " '20',\n",
       " '2003',\n",
       " '22',\n",
       " '28',\n",
       " '30',\n",
       " '317',\n",
       " '32',\n",
       " '35',\n",
       " '373',\n",
       " '43',\n",
       " '478',\n",
       " '60',\n",
       " '605',\n",
       " '67',\n",
       " '700',\n",
       " '83',\n",
       " '85',\n",
       " '980',\n",
       " 'according',\n",
       " 'actually',\n",
       " 'adjusted',\n",
       " 'adjustments',\n",
       " 'age',\n",
       " 'ahead',\n",
       " 'aka',\n",
       " 'allowed',\n",
       " 'allstar',\n",
       " 'americas',\n",
       " 'amid',\n",
       " 'ancient',\n",
       " 'angeles',\n",
       " 'animators',\n",
       " 'annette',\n",
       " 'ap',\n",
       " 'art',\n",
       " 'attention',\n",
       " 'attracted',\n",
       " 'auction',\n",
       " 'aug',\n",
       " 'aunts',\n",
       " 'awards',\n",
       " 'backcourt',\n",
       " 'ball',\n",
       " 'ballast',\n",
       " 'ballets',\n",
       " 'bambi',\n",
       " 'barkley',\n",
       " 'baseman',\n",
       " 'bases',\n",
       " 'basketball',\n",
       " 'beat',\n",
       " 'beauty',\n",
       " 'bedroom',\n",
       " 'begins',\n",
       " 'believe',\n",
       " 'best',\n",
       " 'better',\n",
       " 'bid',\n",
       " 'billion',\n",
       " 'bloop',\n",
       " 'bob',\n",
       " 'book',\n",
       " 'boost',\n",
       " 'boxing',\n",
       " 'bringing',\n",
       " 'brings',\n",
       " 'broadway',\n",
       " 'broke',\n",
       " 'brought',\n",
       " 'built',\n",
       " 'california',\n",
       " 'calmly',\n",
       " 'came',\n",
       " 'candace',\n",
       " 'car',\n",
       " 'cavaliers',\n",
       " 'cavs',\n",
       " 'celebrated',\n",
       " 'cels',\n",
       " 'center',\n",
       " 'changed',\n",
       " 'charles',\n",
       " 'chewbacca',\n",
       " 'chris',\n",
       " 'christopher',\n",
       " 'classics',\n",
       " 'cleveland',\n",
       " 'closer',\n",
       " 'club',\n",
       " 'coach',\n",
       " 'coghlan',\n",
       " 'collecting',\n",
       " 'collectors',\n",
       " 'combined',\n",
       " 'communities',\n",
       " 'complete',\n",
       " 'completely',\n",
       " 'conference',\n",
       " 'considering',\n",
       " 'contrast',\n",
       " 'control',\n",
       " 'conversation',\n",
       " 'corners',\n",
       " 'cost',\n",
       " 'costumes',\n",
       " 'cruzs',\n",
       " 'cultural',\n",
       " 'culture',\n",
       " 'dae',\n",
       " 'dan',\n",
       " 'dating',\n",
       " 'defying',\n",
       " 'deliver',\n",
       " 'demar',\n",
       " 'derozan',\n",
       " 'describing',\n",
       " 'desk',\n",
       " 'devastating',\n",
       " 'difficult',\n",
       " 'digital',\n",
       " 'disney',\n",
       " 'division',\n",
       " 'doesnt',\n",
       " 'doll',\n",
       " 'dominated',\n",
       " 'dont',\n",
       " 'dream',\n",
       " 'dwarfs',\n",
       " 'earned',\n",
       " 'eastern',\n",
       " 'eaton',\n",
       " 'efficiently',\n",
       " 'eighth',\n",
       " 'electronic',\n",
       " 'end',\n",
       " 'ended',\n",
       " 'energy',\n",
       " 'enjoyed',\n",
       " 'enormous',\n",
       " 'enthusiasm',\n",
       " 'entire',\n",
       " 'era',\n",
       " 'evened',\n",
       " 'everincreasing',\n",
       " 'excited',\n",
       " 'execution',\n",
       " 'exhibition',\n",
       " 'extent',\n",
       " 'extremely',\n",
       " 'face',\n",
       " 'facebook',\n",
       " 'far',\n",
       " 'fathers',\n",
       " 'featuring',\n",
       " 'feel',\n",
       " 'field',\n",
       " 'fight',\n",
       " 'figures',\n",
       " 'filming',\n",
       " 'finally',\n",
       " 'finals',\n",
       " 'finding',\n",
       " 'flare',\n",
       " 'form',\n",
       " 'founding',\n",
       " 'franchise',\n",
       " 'funicello',\n",
       " 'galleries',\n",
       " 'gallery',\n",
       " 'game',\n",
       " 'gameplan',\n",
       " 'games',\n",
       " 'gave',\n",
       " 'genre',\n",
       " 'george',\n",
       " 'globe',\n",
       " 'goes',\n",
       " 'going',\n",
       " 'grandparents',\n",
       " 'gray',\n",
       " 'grossed',\n",
       " 'grosses',\n",
       " 'guards',\n",
       " 'half',\n",
       " 'hamilton',\n",
       " 'hands',\n",
       " 'happen',\n",
       " 'hard',\n",
       " 'hasbro',\n",
       " 'haul',\n",
       " 'headscratching',\n",
       " 'help',\n",
       " 'helped',\n",
       " 'hill',\n",
       " 'hills',\n",
       " 'hiphop',\n",
       " 'history',\n",
       " 'hit',\n",
       " 'hits',\n",
       " 'hitting',\n",
       " 'ho',\n",
       " 'holding',\n",
       " 'house',\n",
       " 'impacted',\n",
       " 'inadvertently',\n",
       " 'included',\n",
       " 'including',\n",
       " 'incredibly',\n",
       " 'industry',\n",
       " 'infield',\n",
       " 'inflation',\n",
       " 'influx',\n",
       " 'inning',\n",
       " 'innings',\n",
       " 'instant',\n",
       " 'intensity',\n",
       " 'isnt',\n",
       " 'items',\n",
       " 'jackson',\n",
       " 'jazz',\n",
       " 'jolt',\n",
       " 'june',\n",
       " 'jungle',\n",
       " 'just',\n",
       " 'king',\n",
       " 'know',\n",
       " 'kohls',\n",
       " 'kyle',\n",
       " 'large',\n",
       " 'late',\n",
       " 'leaders',\n",
       " 'leading',\n",
       " 'league',\n",
       " 'leave',\n",
       " 'lee',\n",
       " 'left',\n",
       " 'like',\n",
       " 'liking',\n",
       " 'lion',\n",
       " 'listed',\n",
       " 'lists',\n",
       " 'live',\n",
       " 'loaded',\n",
       " 'long',\n",
       " 'los',\n",
       " 'losing',\n",
       " 'loss',\n",
       " 'lot',\n",
       " 'lowry',\n",
       " 'lue',\n",
       " 'madson',\n",
       " 'magnificent',\n",
       " 'majerle',\n",
       " 'majority',\n",
       " 'manager',\n",
       " 'mariners',\n",
       " 'mark',\n",
       " 'mask',\n",
       " 'matter',\n",
       " 'melvin',\n",
       " 'memorabilia',\n",
       " 'mickey',\n",
       " 'mightily',\n",
       " 'mighty',\n",
       " 'million',\n",
       " 'minutes',\n",
       " 'mock',\n",
       " 'mom',\n",
       " 'monday',\n",
       " 'mondays',\n",
       " 'money',\n",
       " 'month',\n",
       " 'mound',\n",
       " 'mouse',\n",
       " 'mulder',\n",
       " 'multiple',\n",
       " 'musical',\n",
       " 'nelson',\n",
       " 'new',\n",
       " 'night',\n",
       " 'ninth',\n",
       " 'number',\n",
       " 'numbers',\n",
       " 'oakland',\n",
       " 'oaks',\n",
       " 'odds',\n",
       " 'offensive',\n",
       " 'offered',\n",
       " 'onetime',\n",
       " 'online',\n",
       " 'opened',\n",
       " 'opens',\n",
       " 'opposite',\n",
       " 'ordinary',\n",
       " 'original',\n",
       " 'outpacing',\n",
       " 'outs',\n",
       " 'overreaction',\n",
       " 'past',\n",
       " 'payne',\n",
       " 'paynes',\n",
       " 'people',\n",
       " 'percent',\n",
       " 'performance',\n",
       " 'performances',\n",
       " 'phoenix',\n",
       " 'picked',\n",
       " 'pitch',\n",
       " 'pitched',\n",
       " 'pitcher',\n",
       " 'pitches',\n",
       " 'plan',\n",
       " 'platform',\n",
       " 'play',\n",
       " 'played',\n",
       " 'playoff',\n",
       " 'plus',\n",
       " 'point',\n",
       " 'points',\n",
       " 'popular',\n",
       " 'preferred',\n",
       " 'previous',\n",
       " 'produced',\n",
       " 'production',\n",
       " 'productions',\n",
       " 'provided',\n",
       " 'proving',\n",
       " 'purchase',\n",
       " 'purchases',\n",
       " 'putting',\n",
       " 'puzzling',\n",
       " 'quite',\n",
       " 'raked',\n",
       " 'rally',\n",
       " 'raptors',\n",
       " 'rare',\n",
       " 'really',\n",
       " 'reception',\n",
       " 'record',\n",
       " 'recorded',\n",
       " 'released',\n",
       " 'results',\n",
       " 'resurgent',\n",
       " 'rhythm',\n",
       " 'rich',\n",
       " 'role',\n",
       " 'rotations',\n",
       " 'ruled',\n",
       " 'run',\n",
       " 'running',\n",
       " 'runs',\n",
       " 'ryan',\n",
       " 'safeco',\n",
       " 'said',\n",
       " 'sale',\n",
       " 'sat',\n",
       " 'saturday',\n",
       " 'saying',\n",
       " 'score',\n",
       " 'scored',\n",
       " 'scoreless',\n",
       " 'seager',\n",
       " 'season',\n",
       " 'seattle',\n",
       " 'second',\n",
       " 'seen',\n",
       " 'series',\n",
       " 'seven',\n",
       " 'sharing',\n",
       " 'sherman',\n",
       " 'shes',\n",
       " 'shooting',\n",
       " 'shopping',\n",
       " 'shot',\n",
       " 'shows',\n",
       " 'signed',\n",
       " 'significant',\n",
       " 'simba',\n",
       " 'similarities',\n",
       " 'simultaneously',\n",
       " 'single',\n",
       " 'sleeping',\n",
       " 'smash',\n",
       " 'snow',\n",
       " 'sonny',\n",
       " 'span',\n",
       " 'spectacular',\n",
       " 'spending',\n",
       " 'star',\n",
       " 'stark',\n",
       " 'stars',\n",
       " 'starter',\n",
       " 'starting',\n",
       " 'starts',\n",
       " 'stop',\n",
       " 'streak',\n",
       " 'strengthening',\n",
       " 'stretch',\n",
       " 'struck',\n",
       " 'struggled',\n",
       " 'studios',\n",
       " 'sunday',\n",
       " 'suns',\n",
       " 'supreme',\n",
       " 'talks',\n",
       " 'team',\n",
       " 'teaming',\n",
       " 'teammates',\n",
       " 'terrific',\n",
       " 'thanks',\n",
       " 'thats',\n",
       " 'theater',\n",
       " 'theaters',\n",
       " 'theyve',\n",
       " 'throwing',\n",
       " 'thursday',\n",
       " 'time',\n",
       " 'titled',\n",
       " 'toronto',\n",
       " 'tourists',\n",
       " 'toy',\n",
       " 'trip',\n",
       " 'true',\n",
       " 'tyronn',\n",
       " 'unboxing',\n",
       " 'use',\n",
       " 'valuable',\n",
       " 'van',\n",
       " 'vicious',\n",
       " 'victory',\n",
       " 'video',\n",
       " 'videos',\n",
       " 'viewer',\n",
       " 'views',\n",
       " 'vintage',\n",
       " 'viral',\n",
       " 'visitors',\n",
       " 'vlog',\n",
       " 'vlogger',\n",
       " 'vloggers',\n",
       " 'walt',\n",
       " 'wanted',\n",
       " 'washington',\n",
       " 'watching',\n",
       " 'ways',\n",
       " 'website',\n",
       " 'wednesday',\n",
       " 'weeks',\n",
       " 'went',\n",
       " 'white',\n",
       " 'win',\n",
       " 'wins',\n",
       " 'won',\n",
       " 'working',\n",
       " 'worldwide',\n",
       " 'worn',\n",
       " 'year',\n",
       " 'years',\n",
       " 'youtube']"
      ]
     },
     "execution_count": 24,
     "metadata": {},
     "output_type": "execute_result"
    }
   ],
   "source": [
    "# Get words that correspond to each column \n",
    "vectorizer.get_feature_names()"
   ]
  },
  {
   "cell_type": "code",
   "execution_count": 25,
   "metadata": {
    "collapsed": false,
    "slideshow": {
     "slide_type": "slide"
    }
   },
   "outputs": [],
   "source": [
    "# Fit LSA. Use algorithm = “randomized” for large datasets \n",
    "lsa = TruncatedSVD(5, algorithm = 'arpack')\n",
    "dtm_lsa = lsa.fit_transform(dtm)\n",
    "dtm_lsa = Normalizer(copy=False).fit_transform(dtm_lsa)\n"
   ]
  },
  {
   "cell_type": "code",
   "execution_count": 26,
   "metadata": {
    "collapsed": false,
    "slideshow": {
     "slide_type": "slide"
    }
   },
   "outputs": [
    {
     "data": {
      "text/plain": [
       "array([ 0.18399911,  0.30056967,  0.21181058,  0.1080459 ,  0.11751177])"
      ]
     },
     "execution_count": 26,
     "metadata": {},
     "output_type": "execute_result"
    }
   ],
   "source": [
    "lsa.explained_variance_ratio_"
   ]
  },
  {
   "cell_type": "code",
   "execution_count": 27,
   "metadata": {
    "collapsed": false,
    "slideshow": {
     "slide_type": "slide"
    }
   },
   "outputs": [
    {
     "data": {
      "text/plain": [
       "(6, 468)"
      ]
     },
     "execution_count": 27,
     "metadata": {},
     "output_type": "execute_result"
    }
   ],
   "source": [
    "dtm.shape"
   ]
  },
  {
   "cell_type": "code",
   "execution_count": 28,
   "metadata": {
    "collapsed": false,
    "slideshow": {
     "slide_type": "slide"
    }
   },
   "outputs": [
    {
     "data": {
      "text/plain": [
       "matrix([[ 0.85140078, -0.50627176, -0.13390262, -0.01074352, -0.02757313],\n",
       "        [ 0.20683299, -0.02000416,  0.97782726, -0.02426598, -0.00921748],\n",
       "        [ 0.07048233, -0.02342286,  0.00840211,  0.06666797,  0.99497156],\n",
       "        [ 0.07010195,  0.07540362,  0.00223501,  0.99286991, -0.06003629],\n",
       "        [ 0.12906207,  0.13508687,  0.05990665,  0.97878137, -0.05909951],\n",
       "        [ 0.53324685,  0.84083311, -0.06823058, -0.06314268, -0.00225258]])"
      ]
     },
     "execution_count": 28,
     "metadata": {},
     "output_type": "execute_result"
    }
   ],
   "source": [
    "numpy.asmatrix(dtm_lsa)"
   ]
  },
  {
   "cell_type": "markdown",
   "metadata": {
    "collapsed": true,
    "slideshow": {
     "slide_type": "slide"
    }
   },
   "source": [
    "Since NMF is dealing with an extra constraint, it will tend to lose more information, when trunctating. \n",
    "\n",
    "also, nmf is not required to give you orthogonal latent vectors\n",
    "\n",
    "![](https://qph.ec.quoracdn.net/main-qimg-9b4e31ec4b57f4baf7d08d5df17c6bc0?convert_to_webp=true)"
   ]
  }
 ],
 "metadata": {
  "anaconda-cloud": {},
  "celltoolbar": "Slideshow",
  "kernelspec": {
   "display_name": "Python 3",
   "language": "python",
   "name": "python3"
  },
  "language_info": {
   "codemirror_mode": {
    "name": "ipython",
    "version": 3
   },
   "file_extension": ".py",
   "mimetype": "text/x-python",
   "name": "python",
   "nbconvert_exporter": "python",
   "pygments_lexer": "ipython3",
   "version": "3.6.0"
  }
 },
 "nbformat": 4,
 "nbformat_minor": 0
}
