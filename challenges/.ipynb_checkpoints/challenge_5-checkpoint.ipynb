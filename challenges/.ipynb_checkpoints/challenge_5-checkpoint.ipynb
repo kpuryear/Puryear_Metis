{
 "cells": [
  {
   "cell_type": "markdown",
   "metadata": {},
   "source": [
    "## Challenge Set 5\n",
    "\n",
    "**Subject:** Linear Regression and Train/Test Split\n",
    "\n",
    "**Date:** 2018-01-29\n",
    "\n",
    "**Name:** Kaitlin Puryear"
   ]
  },
  {
   "cell_type": "code",
   "execution_count": 10,
   "metadata": {},
   "outputs": [
    {
     "name": "stdout",
     "output_type": "stream",
     "text": [
      "Title, Budget, DomesticTotalGross, Director, Rating, Runtime, ReleaseDate\n",
      "The Hunger Games: Catching Fire, 130000000, 424668047, Francis Lawrence, PG-13, 146, 2013-11-22 00:00:00\n",
      "Iron Man 3, 200000000, 409013994, Shane Black, PG-13, 129, 2013-05-03 00:00:00\n",
      "Frozen, 150000000, 400738009, Chris BuckJennifer Lee, PG, 108, 2013-11-22 00:00:00\n",
      "Despicable Me 2, 76000000, 368061265, Pierre CoffinChris Renaud, PG, 98, 2013-07-03 00:00:00\n",
      "Man of Steel, 225000000, 291045518, Zack Snyder, PG-13, 143, 2013-06-14 00:00:00\n",
      "Gravity, 100000000, 274092705, Alfonso Cuaron, PG-13, 91, 2013-10-04 00:00:00\n",
      "Monsters University, , 268492764, Dan Scanlon, G, 107, 2013-06-21 00:00:00\n",
      "The Hobbit: The Desolation of Smaug, , 258366855, Peter Jackson, PG-13, 161, 2013-12-13 00:00:00\n",
      "Fast & Furious 6, 160000000, 238679850, Justin Lin, PG-13, 130, 2013-05-24 00:00:00\n",
      "Oz The Great and Powerful, 215000000, 234911825, Sam Raimi, PG, 127, 2013-03-08 00:00:00\n",
      "Star Trek Into Darkness, 190000000, 228778661, J.J. Abrams, PG-13, 123, 2013-05-16 00:00:00\n",
      "Thor: The Dark World, 170000000, 206362140, Alan Taylor, PG-13, 120, 2013-11-08 00:00:00\n",
      "World War Z, 190000000, 202359711, Marc Forster, PG-13, 116, 2013-06-21 00:00:00\n",
      "The Croods, 135000000, 187168425, Kirk De MiccoChris Sanders, PG, 98, 2013-03-22 00:00:00\n",
      "The Heat, 43000000, 159582188, Paul Feig, R, 117, 2013-06-28 00:00:00\n",
      "We're the Millers, 37000000, 150394119, Rawson Marshall Thurber, R, 110, 2013-08-07 00:00:00\n",
      "American Hustle, 40000000, 150117807, David O. Russell, R, 138, 2013-12-13 00:00:00\n",
      "The Great Gatsby, 105000000, 144840419, Baz Luhrmann, PG-13, 143, 2013-05-10 00:00:00\n",
      "The Conjuring, 20000000, 137400141, James Wan, R, 112, 2013-07-19 00:00:00\n",
      "Identity Thief, 35000000, 134506920, Seth Gordon, R, 111, 2013-02-08 00:00:00\n",
      "Grown Ups 2, 80000000, 133668525, Dennis Dugan, PG-13, 101, 2013-07-12 00:00:00\n",
      "The Wolverine, 120000000, 132556852, James Mangold, PG-13, 126, 2013-07-26 00:00:00\n",
      "Anchorman 2: The Legend Continues, 50000000, 125168368, Adam McKay, PG-13, 119, 2013-12-18 00:00:00\n",
      "Lone Survivor, 40000000, 125095601, Peter Berg, R, 121, 2013-12-25 00:00:00\n",
      "G.I. Joe: Retaliation, 130000000, 122523060, Jon Chu, PG-13, 99, 2013-03-28 00:00:00\n",
      "Cloudy with a Chance of Meatballs 2, 78000000, 119793567, , PG, 95, 2013-09-27 00:00:00\n",
      "Now You See Me, 75000000, 117723989, Louis Leterrier, PG-13, 116, 2013-05-31 00:00:00\n",
      "The Wolf of Wall Street, 100000000, 116900694, Martin Scorsese, R, 180, 2013-12-25 00:00:00\n",
      "Lee Daniels' The Butler, 30000000, 116632095, Lee Daniels, PG-13, 132, 2013-08-16 00:00:00\n",
      "The Hangover Part III, 103000000, 112200072, Todd Phillips, R, 100, 2013-05-23 00:00:00\n",
      "Epic, 100000000, 107518682, Chris Wedge, PG, 102, 2013-05-24 00:00:00\n",
      "Captain Phillips, 55000000, 107100855, Paul Greengrass, PG-13, 134, 2013-10-11 00:00:00\n",
      "Jackass Presents: Bad Grandpa, 15000000, 102003019, Jeff Tremaine, R, 93, 2013-10-25 00:00:00\n",
      "Pacific Rim, 190000000, 101802906, Guillermo del Toro, PG-13, 131, 2013-07-12 00:00:00\n",
      "This is the End, 32000000, 101470202, Evan GoldbergSeth Rogen, R, 107, 2013-06-12 00:00:00\n",
      "Olympus Has Fallen, 70000000, 98925640, Antoine Fuqua, R, 120, 2013-03-22 00:00:00\n",
      "42, 40000000, 95020213, Brian Helgeland, PG-13, 128, 2013-04-12 00:00:00\n",
      "Elysium, 115000000, 93050117, Neill Blomkamp, R, 109, 2013-08-09 00:00:00\n",
      "Planes, 50000000, 90288712, Klay Hall, PG, 92, 2013-08-09 00:00:00\n",
      "The Lone Ranger, 215000000, 89302115, Gore Verbinski, PG-13, 149, 2013-07-03 00:00:00\n",
      "Oblivion, 120000000, 89107235, Joseph Kosinski, PG-13, 125, 2013-04-19 00:00:00\n",
      "Insidious Chapter 2, 5000000, 83586447, James Wan, PG-13, 105, 2013-09-13 00:00:00\n",
      "Saving Mr. Banks, 35000000, 83301580, John Lee Hancock, PG-13, 120, 2013-12-13 00:00:00\n",
      "Turbo, 135000000, 83028128, David Soren, PG, 96, 2013-07-17 00:00:00\n",
      "2 Guns, 61000000, 75612460, Baltasar Kormakur, R, 109, 2013-08-02 00:00:00\n",
      "White House Down, 150000000, 73103784, Roland Emmerich, PG-13, 137, 2013-06-28 00:00:00\n",
      "Mama, 15000000, 71628180, Andres Muschietti, PG-13, 100, 2013-01-18 00:00:00\n",
      "Safe Haven, 28000000, 71349120, Lasse Hallstrom, PG-13, 115, 2013-02-14 00:00:00\n",
      "The Smurfs 2, 105000000, 71017784, Raja Gosnell, PG, 105, 2013-07-31 00:00:00\n",
      "The Best Man Holiday, 17000000, 70525195, Malcolm D. Lee, R, 122, 2013-11-15 00:00:00\n",
      "Percy Jackson: Sea of Monsters, 90000000, 68559554, Thor Freudenthal, PG, 106, 2013-08-07 00:00:00\n",
      "A Good Day to Die Hard, 92000000, 67349198, John Moore, R, 97, 2013-02-14 00:00:00\n",
      "Warm Bodies, 35000000, 66380662, Jonathan Levine, PG-13, 97, 2013-02-01 00:00:00\n",
      "Jack the Giant Slayer, 195000000, 65187603, Bryan Singer, PG-13, 114, 2013-03-01 00:00:00\n",
      "The Purge, 3000000, 64473115, James DeMonaco, R, 85, 2013-06-07 00:00:00\n",
      "Last Vegas, 28000000, 63914167, Jon Turteltaub, PG-13, 90, 2013-11-01 00:00:00\n",
      "Ender's Game, 110000000, 61737191, Gavin Hood, PG-13, 114, 2013-11-01 00:00:00\n",
      "Prisoners, 46000000, 61002302, Denis Villeneuve, R, 146, 2013-09-20 00:00:00\n",
      "After Earth, 130000000, 60522097, M. Night Shyamalan, PG-13, 100, 2013-05-31 00:00:00\n",
      "The Secret Life of Walter Mitty, 90000000, 58236838, Ben Stiller, PG, 114, 2013-12-25 00:00:00\n",
      "Escape From Planet Earth, 40000000, 57012977, Cal Brunker, PG, 89, 2013-02-15 00:00:00\n",
      "12 Years a Slave, 20000000, 56671993, Steve McQueen (II), R, 133, 2013-10-18 00:00:00\n",
      "Free Birds, 55000000, 55750480, Jimmy Hayward, PG, 90, 2013-11-01 00:00:00\n",
      "Hansel and Gretel: Witch Hunters, 50000000, 55703475, Tommy Wirkola, R, 88, 2013-01-25 00:00:00\n",
      "Evil Dead, 17000000, 54239856, Fede Alvarez, R, 91, 2013-04-05 00:00:00\n",
      "Red 2, 84000000, 53262560, Dean Parisot, PG-13, 116, 2013-07-19 00:00:00\n",
      "Tyler Perry's A Madea Christmas, , 52543354, Tyler Perry, PG-13, 105, 2013-12-13 00:00:00\n",
      "Tyler Perry's Temptation: Confessions of a Marriage Counselor, , 51975354, Tyler Perry, PG-13, 111, 2013-03-29 00:00:00\n",
      "The Call, 13000000, 51872378, Brad Anderson, R, 95, 2013-03-15 00:00:00\n",
      "Pain and Gain, 26000000, 49875291, Michael Bay, R, 129, 2013-04-26 00:00:00\n",
      "Gangster Squad, 60000000, 46000903, Ruben Fleischer, R, 113, 2013-01-11 00:00:00\n",
      "Jurassic Park 3D, 10000000, 45385935, , PG-13, 127, 2013-04-05 00:00:00\n",
      "The Internship, 58000000, 44672764, Shawn Levy, PG-13, 119, 2013-06-07 00:00:00\n",
      "Instructions Not Included, , 44467206, , PG-13, 115, 2013-08-30 00:00:00\n",
      "Snitch, , 42930462, Ric Roman Waugh, PG-13, 112, 2013-02-22 00:00:00\n",
      "Riddick, 38000000, 42025135, David Twohy, R, 119, 2013-09-06 00:00:00\n",
      "A Haunted House, 2500000, 40041683, Michael Tiddes, R, 80, 2013-01-11 00:00:00\n",
      "47 Ronin, 175000000, 38362475, Carl Rinsch, PG-13, 127, 2013-12-25 00:00:00\n",
      "August: Osage County, , 37738810, John Wells, R, 130, 2013-12-27 00:00:00\n",
      "Philomena, 12000000, 37709979, Stephen Frears, PG-13, 95, 2013-11-22 00:00:00\n",
      "The Family, 30000000, 36918811, Luc Besson, R, 112, 2013-09-13 00:00:00\n",
      "Walking with Dinosaurs, 80000000, 36076121, Barry CookNeil Nightingale, PG, 87, 2013-12-20 00:00:00\n",
      "Carrie, 30000000, 35266619, Kimberly Peirce, R, 92, 2013-10-18 00:00:00\n",
      "Texas Chainsaw 3D, , 34341945, John Luessenhop, R, 92, 2013-01-04 00:00:00\n",
      "R.I.P.D., 130000000, 33618855, Robert Schwentke, PG-13, 96, 2013-07-19 00:00:00\n",
      "Blue Jasmine, , 33405481, Woody Allen, PG-13, 98, 2013-07-26 00:00:00\n",
      "Kevin Hart: Let Me Explain, , 32244051, , R, 75, 2013-07-03 00:00:00\n",
      "Side Effects, , 32172757, Steven Soderbergh, R, 106, 2013-02-08 00:00:00\n",
      "Scary Movie 5, 20000000, 32015787, Malcolm D. Lee, PG-13, 85, 2013-04-12 00:00:00\n",
      "The Mortal Instruments: City of Bones, 60000000, 31165421, Harald Zwart, PG-13, 120, 2013-08-21 00:00:00\n",
      "Delivery Man, 26000000, 30664106, Ken Scott, PG-13, 105, 2013-11-22 00:00:00\n",
      "Grudge Match, 40000000, 29807260, Peter Segal, PG-13, 113, 2013-12-25 00:00:00\n",
      "One Direction: This is Us, 10000000, 28873374, Morgan Spurlock, PG, 92, 2013-08-30 00:00:00\n",
      "Kick-Ass 2, 28000000, 28795985, Jeff Wadlow, R, 103, 2013-08-16 00:00:00\n",
      "Dallas Buyers Club, 5000000, 27298285, Jean-Marc Vallee, R, 117, 2013-11-01 00:00:00\n",
      "Rush, 38000000, 26947624, Ron Howard, R, 123, 2013-09-20 00:00:00\n",
      "The Host, 40000000, 26627201, Andrew Niccol, PG-13, 125, 2013-03-29 00:00:00\n",
      "The World's End, 20000000, 26004851, Edgar Wright, R, 109, 2013-08-23 00:00:00\n",
      "21 and Over, 13000000, 25682380, Jon LucasScott Moore, R, 93, 2013-03-01 00:00:00\n",
      "Her, 23000000, 25568251, Spike Jonze, R, 120, 2013-12-18 00:00:00\n"
     ]
    }
   ],
   "source": [
    "import csv\n",
    "with open('2013_movies-Copy1.csv', newline='') as csvfile:\n",
    "    spamreader = csv.reader(csvfile, delimiter=',')\n",
    "    for row in spamreader:\n",
    "        print(', '.join(row))"
   ]
  },
  {
   "cell_type": "markdown",
   "metadata": {},
   "source": [
    "## Challenge 1\n",
    "\n",
    "Build a linear model that uses only a constant term (a column of ones) to predict a continuous outcome (like domestic total gross). How can you interpret the results of this model? What does it predict? Make a plot of predictions against actual outcome. Make a histogram of residuals. How are the residuals distributed?"
   ]
  },
  {
   "cell_type": "code",
   "execution_count": null,
   "metadata": {},
   "outputs": [],
   "source": []
  },
  {
   "cell_type": "markdown",
   "metadata": {},
   "source": [
    "## Challenge 2\n",
    "\n",
    "Repeat the process of challenge one, but also add one continuous (numeric) predictor variable. Also add plots of model prediction against your feature variable and residuals against feature variable. How can you interpret what's happening in the model?"
   ]
  },
  {
   "cell_type": "code",
   "execution_count": null,
   "metadata": {},
   "outputs": [],
   "source": []
  },
  {
   "cell_type": "markdown",
   "metadata": {},
   "source": [
    "## Challenge 3\n",
    "\n",
    "Repeat the process of challenge 1, but add a categorical feature (like genre). You'll have to convert a column of text into a number of numerical columns (\"dummy variables\"). How can you interpret what's happening in the model?"
   ]
  },
  {
   "cell_type": "code",
   "execution_count": null,
   "metadata": {},
   "outputs": [],
   "source": []
  },
  {
   "cell_type": "markdown",
   "metadata": {},
   "source": [
    "## Challenge 4\n",
    "\n",
    "Enhance your model further by adding more features and/or transforming existing features. Think about how you build the model matrix and how to interpret what the model is doing.\n"
   ]
  },
  {
   "cell_type": "code",
   "execution_count": null,
   "metadata": {},
   "outputs": [],
   "source": []
  },
  {
   "cell_type": "markdown",
   "metadata": {},
   "source": [
    "## Challenge 5\n",
    "\n",
    "Fitting and checking predictions on the exact same data set can be\n",
    "misleading. Divide your data into two sets: a training and a test set\n",
    "(roughly 75% training, 25% test is a fine split). Fit a model on the\n",
    "training set, check the predictions (by plotting versus actual values)\n",
    "in the test set."
   ]
  },
  {
   "cell_type": "code",
   "execution_count": null,
   "metadata": {},
   "outputs": [],
   "source": []
  }
 ],
 "metadata": {
  "kernelspec": {
   "display_name": "Python 3",
   "language": "python",
   "name": "python3"
  },
  "language_info": {
   "codemirror_mode": {
    "name": "ipython",
    "version": 3
   },
   "file_extension": ".py",
   "mimetype": "text/x-python",
   "name": "python",
   "nbconvert_exporter": "python",
   "pygments_lexer": "ipython3",
   "version": "3.6.4"
  }
 },
 "nbformat": 4,
 "nbformat_minor": 2
}
